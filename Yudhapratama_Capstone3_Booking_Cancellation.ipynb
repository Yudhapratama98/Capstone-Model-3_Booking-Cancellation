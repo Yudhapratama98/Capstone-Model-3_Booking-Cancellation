{
  "cells": [
    {
      "cell_type": "markdown",
      "source": [
        "Capstone Project Modul 3\n",
        "Hotel Booking Cancellation"
      ],
      "metadata": {
        "id": "yZ0mhHu5oKbF"
      },
      "id": "yZ0mhHu5oKbF"
    },
    {
      "cell_type": "markdown",
      "source": [
        "# Business Problem Understanding\n",
        "\n",
        "##Pendahuluan : \n",
        "  Industri pariwisata merupakan salah satu tempat perputaran uang yang besar. Tidak jarang suatu wilayah GDP terbesarnya disumbangkan oleh sektor pariwisata. Salah satu bidangnya adalah perhotelan. Menjalankan bisnis perhotelan bukanlah hal yang mudah. Proses booking hotel sekarang sangat mudah dan beragam, seiring dengan hal tersebut kemungkinan calon tamu membatalkan bookingannya semakin meningkat. Entah karena melihat price yang lebih terjangkau, atau kebutuhan lain. \n",
        "\n",
        "  Selain itu, tamu memiliki preferensi tergantung dengan kebutuhan bermalam mereka pada saat itu. Salah satu masalah yang datang adalah ketika sang tamu membatalkan booking atau tidak muncul ketika waktu yang tidak ditentukan. Hal ini akan mengganggu revenue perusahaan. Saking seriusnya hal ini, VISA sampai mengeluarkan layanan untuk men-charge otomatis tabungan yang bersangkutan. Maka dari itu, hal ini menarik untuk diteliti.\n",
        "\n",
        "\n",
        "------------------------------------------------------------\n",
        "##Landasan Teori\n",
        "Booking Cancellation dan No-shows akan berimplikasi pada revenue perusahaan karena 'loss of booking opportunities'. Pertama, Booking cancellation akan menyebabkan 'unsold rooms'. meskipun dapat dibooking kembali, waktu yang telah hilang bagi calon konsumen lainnya juga telah hilang. Kedua, memberikan kerja ekstra bagi karyawan. Sistem kerja di perhotelan pada umumnya selalu menyiapkan kembali kamar sebelum ditempati. Mungkin bukan masalah yang terlalu serius bagi hotel yang selalu penuh. Namun bagi hotel yang bergantung pada situasi waktu tertentu, atau tipe pengunjung tertentu sebagai contoh, hotel didaerah pariwisata. Tentu hal ini akan mengganggu secara langsung profit margin.\n",
        "\n",
        "Terdapat argumen dari Data Scientis senior, Michael Grogan mengenai permasalahan ini (Sumber : https://www.iunera.com/kraken/interviews/what-you-need-to-know-about-hotel-booking-cancellations-big-data/ ). Ia menyebutkan bahwa pada studi kasus di portugal, setidaknya hampir 1/3 booking hotel mengalami cancellation. Tentunya ada evidence yang kuat terhadap revenue loss yang dialami yang sifatnya substansial. Berapa besar kerugiannya tergantung dari hotal yang bersangkutan. Tentu sebagai pelaku bisnis ingin meningkatkan revenue sebesar besarnya demi berjalannya perusahaan. Salah satu caranya adalah dengan menerapkan teknologi. Meskipun begitu, ada beberapa permasalahan lain yang dihadapi.\n",
        "\n",
        "Perusahaan atau pihak pengelola sering kali menerapkan kebijakan pembatalan yang sangat kaku. Belum lagi ditambah dengan ketentuan biaya pembatalan pesanan yang harus dibayar oleh pelanggan yang tidak humanis. Hal tersebut dapat merusak reputasi dan kinerja bisnis hotel di masa mendatang. Kitamori dkk. [1] mengatakan bahwapara pemilik industri rata-rata ingin mengetahui keuntungan bisnisnya berdasarkan peramalan dari data yang telah mereka miliki. Namun, saat mencoba menerapkan metode tersebut seringkali ditemukan masalah pada variabel data yang rata-rata terlalu umum dan tidak spesifik (Azhar, et. all. 2021). \n",
        "\n",
        "\n",
        "\n",
        "------------------------------------------------------------\n",
        "\n",
        "\n",
        "##Rumusan Masalah :\n",
        "\n",
        "a. Booking Cancellation oleh konsumen akan mengakibatkan Opportunity Cost. Perlu deteksi awal apakah calon tamu berpeluang cancel\n",
        "\n",
        "b. Kamar yang sebenernya dapat dipesan oleh konsumen lain namun ternyata tidak terjadi pembayaran menyebabkan perusahaan kehilangan revenue (revenue loss)\n",
        "\n",
        "c. Faktor yang paling signifikan menyebabkan cancellation penting untuk diketahui.\n",
        "\n",
        "\n",
        "------------------------------------------------------------\n",
        "\n",
        "##Tujuan :\n",
        "\n",
        "a. Dapat memprediksi calon konsumen yang memiliki kemungkinan cancel sehingga strategi yang dilakukan(seperti promo, dll.) akan tepat sasaran\n",
        "\n",
        "b. Meminimalisir kemungkinan revenue loss yang dialami perusahaan\n",
        "\n",
        "c. Mengetahui faktor apa yang paling signifikan menyebabkan 'booking cancellation' untuk mempertimbangkan langkah terbaik\n",
        "\n",
        "\n",
        "------------------------------------------------------------\n",
        "##Target :\n",
        "0 : Jadi bermalam,\n",
        "\n",
        "1 : Membatalkan Booking\n",
        "\n",
        "\n",
        "## Metric Evaluation :\n",
        "Hal yang ingin dilakukan adalah meminimalisir revenue loss perusahaan. Dalam hal ini kita tertarik untuk meninjau sekomprehensif mungkin kejadian cancel (*Completeness*). Oleh karena itu, yang dilakukan adalah meminimalisir false negatif rate. Metric yang dijadikan fokus adalah 'Recall'"
      ],
      "metadata": {
        "id": "HuaeT9V4oUvG"
      },
      "id": "HuaeT9V4oUvG"
    },
    {
      "cell_type": "markdown",
      "id": "5ff4feff",
      "metadata": {
        "id": "5ff4feff"
      },
      "source": [
        "# Data Preparation"
      ]
    },
    {
      "cell_type": "code",
      "execution_count": null,
      "id": "55efbcd3",
      "metadata": {
        "id": "55efbcd3",
        "outputId": "b3d6c22c-6675-4659-9c9e-6df41ecbf168"
      },
      "outputs": [
        {
          "name": "stderr",
          "output_type": "stream",
          "text": [
            "/Users/yudhapratama/opt/anaconda3/lib/python3.9/site-packages/xgboost/compat.py:36: FutureWarning: pandas.Int64Index is deprecated and will be removed from pandas in a future version. Use pandas.Index with the appropriate dtype instead.\n",
            "  from pandas import MultiIndex, Int64Index\n"
          ]
        }
      ],
      "source": [
        "# Library\n",
        "#Fund. Library\n",
        "import pandas as pd\n",
        "import numpy as np\n",
        "\n",
        "# Visualization\n",
        "import matplotlib.pyplot as plt\n",
        "import seaborn as sns\n",
        "from IPython.display import display\n",
        "\n",
        "# Feature Engineering\n",
        "from sklearn.pipeline import Pipeline\n",
        "from sklearn.impute import SimpleImputer\n",
        "from sklearn.preprocessing import OneHotEncoder, LabelEncoder, OrdinalEncoder\n",
        "from sklearn.compose import ColumnTransformer\n",
        "import category_encoders as ce\n",
        "\n",
        "# Model Selection\n",
        "from sklearn.linear_model import LogisticRegression\n",
        "from sklearn.tree import DecisionTreeClassifier\n",
        "from sklearn.neighbors import KNeighborsClassifier\n",
        "from sklearn.ensemble import RandomForestClassifier\n",
        "from xgboost import XGBClassifier\n",
        "from sklearn.ensemble import AdaBoostClassifier\n",
        "\n",
        "#Modelling and Evaluation\n",
        "from sklearn.model_selection import GridSearchCV,StratifiedKFold,train_test_split, cross_val_score\n",
        "from sklearn.metrics import classification_report, confusion_matrix\n",
        "from sklearn.metrics import f1_score, accuracy_score, recall_score, precision_score\n",
        "from sklearn.metrics import roc_curve, roc_auc_score, plot_roc_curve\n",
        "\n",
        "\n",
        "# Imbalance Dataset\n",
        "from imblearn.pipeline import Pipeline\n",
        "from imblearn.over_sampling import RandomOverSampler\n"
      ]
    },
    {
      "cell_type": "code",
      "execution_count": null,
      "id": "4a840d52",
      "metadata": {
        "id": "4a840d52"
      },
      "outputs": [],
      "source": [
        "#Set working directory\n",
        "import os\n",
        "os.getcwd()\n",
        "os.chdir('/Users/yudhapratama/Documents/Data Capstone 2')"
      ]
    },
    {
      "cell_type": "code",
      "execution_count": null,
      "id": "45db0aab",
      "metadata": {
        "id": "45db0aab"
      },
      "outputs": [],
      "source": [
        "#Membuka data\n",
        "df = pd.read_csv('/Users/yudhapratama/Documents/data/data_hotel_booking_demand.csv')"
      ]
    },
    {
      "cell_type": "code",
      "execution_count": null,
      "id": "8073d903",
      "metadata": {
        "id": "8073d903",
        "outputId": "c670a0e7-209b-4dbd-cc27-99b8f0602375"
      },
      "outputs": [
        {
          "name": "stdout",
          "output_type": "stream",
          "text": [
            "<class 'pandas.core.frame.DataFrame'>\n",
            "RangeIndex: 83573 entries, 0 to 83572\n",
            "Data columns (total 11 columns):\n",
            " #   Column                       Non-Null Count  Dtype \n",
            "---  ------                       --------------  ----- \n",
            " 0   country                      83222 non-null  object\n",
            " 1   market_segment               83573 non-null  object\n",
            " 2   previous_cancellations       83573 non-null  int64 \n",
            " 3   booking_changes              83573 non-null  int64 \n",
            " 4   deposit_type                 83573 non-null  object\n",
            " 5   days_in_waiting_list         83573 non-null  int64 \n",
            " 6   customer_type                83573 non-null  object\n",
            " 7   reserved_room_type           83573 non-null  object\n",
            " 8   required_car_parking_spaces  83573 non-null  int64 \n",
            " 9   total_of_special_requests    83573 non-null  int64 \n",
            " 10  is_canceled                  83573 non-null  int64 \n",
            "dtypes: int64(6), object(5)\n",
            "memory usage: 7.0+ MB\n"
          ]
        }
      ],
      "source": [
        "df.info()"
      ]
    },
    {
      "cell_type": "markdown",
      "source": [
        "Data berisikan 83573 Data dengan 10 Kolom. 9 Feature dan 1 Target\n",
        "\n",
        "\n",
        "1.   is_canceled : mengindikasikan cancel/tidak \n",
        "2.   county      : Negara Asal pengunjung\n",
        "3.   market_segment : Segmentasi market, Tour Operators/Travel dll.\n",
        "4. booking_changes : catatan historis perubahan booking\n",
        "5. days_in_waiting_list : banyaknya hari ketika booking masuk hingga terkonfirmasi\n",
        "6. customer_type : Tipe booking\n",
        "7. reserved_room_type : Tipe kamar\n",
        "9. required_car_parking_space : Banyaknya tempat parkir yang diinginkan\n",
        "10. Total_of_special_request : Banyaknya request(twin bed dll.)\n"
      ],
      "metadata": {
        "id": "ga8bZXhN3k4E"
      },
      "id": "ga8bZXhN3k4E"
    },
    {
      "cell_type": "markdown",
      "id": "db4d4bad",
      "metadata": {
        "id": "db4d4bad"
      },
      "source": [
        "## Rename Columns"
      ]
    },
    {
      "cell_type": "markdown",
      "source": [
        "Merename nama kolom agar tidak terlalu panjang dalam proses koding"
      ],
      "metadata": {
        "id": "GAHfJe-ssf3T"
      },
      "id": "GAHfJe-ssf3T"
    },
    {
      "cell_type": "code",
      "execution_count": null,
      "id": "ef5a4166",
      "metadata": {
        "id": "ef5a4166"
      },
      "outputs": [],
      "source": [
        "df.rename(columns={'market_segment':'market','previous_cancellations':'prevCanc','booking_changes':'bookCh','deposit_type':'deposit','days_in_waiting_list':'waitingList','customer_type':'customer','reserved_room_type':'room','required_car_parking_spaces':'parkingSpace', 'total_of_special_request':'request','is_canceled':'cancel','total_of_special_requests':'request'}, inplace=True)"
      ]
    },
    {
      "cell_type": "code",
      "execution_count": null,
      "id": "742c7afd",
      "metadata": {
        "id": "742c7afd",
        "outputId": "21b85328-5bdd-4693-a46d-6a593802cf80"
      },
      "outputs": [
        {
          "data": {
            "text/plain": [
              "Index(['country', 'market', 'prevCanc', 'bookCh', 'deposit', 'waitingList',\n",
              "       'customer', 'room', 'parkingSpace', 'request', 'cancel'],\n",
              "      dtype='object')"
            ]
          },
          "execution_count": 6,
          "metadata": {},
          "output_type": "execute_result"
        }
      ],
      "source": [
        "df.columns"
      ]
    },
    {
      "cell_type": "markdown",
      "id": "f835a0a8",
      "metadata": {
        "id": "f835a0a8"
      },
      "source": [
        "## Missing value"
      ]
    },
    {
      "cell_type": "markdown",
      "id": "799b971d",
      "metadata": {
        "id": "799b971d"
      },
      "source": [
        "### Filling mising value"
      ]
    },
    {
      "cell_type": "markdown",
      "source": [
        "Karena tidak ingin kehilangan data yang akan digunakan kedepannya, baris yang memiliki missing value tidak dihapus tapi diisi sengan konstan."
      ],
      "metadata": {
        "id": "lSiJRmIZsmpL"
      },
      "id": "lSiJRmIZsmpL"
    },
    {
      "cell_type": "code",
      "execution_count": null,
      "id": "b3a187d8",
      "metadata": {
        "id": "b3a187d8"
      },
      "outputs": [],
      "source": [
        "#fill missing value\n",
        "##Menggunakan constant\n",
        "df['country'].fillna('Other',inplace = True)"
      ]
    },
    {
      "cell_type": "code",
      "execution_count": null,
      "id": "eab753b9",
      "metadata": {
        "id": "eab753b9",
        "outputId": "d904c7ad-dfab-4cf6-c353-ded39ccf9106"
      },
      "outputs": [
        {
          "data": {
            "text/plain": [
              "0        IRL\n",
              "1        FRA\n",
              "2        PRT\n",
              "3        NLD\n",
              "4        PRT\n",
              "        ... \n",
              "83568    PRT\n",
              "83569    FRA\n",
              "83570    PRT\n",
              "83571     CN\n",
              "83572    PRT\n",
              "Name: country, Length: 83573, dtype: object"
            ]
          },
          "execution_count": 8,
          "metadata": {},
          "output_type": "execute_result"
        }
      ],
      "source": [
        "df['country']"
      ]
    },
    {
      "cell_type": "code",
      "execution_count": null,
      "id": "8be143bb",
      "metadata": {
        "id": "8be143bb",
        "outputId": "2bb71280-7e3a-48a5-b5ad-eaa8a2512f28"
      },
      "outputs": [
        {
          "data": {
            "text/html": [
              "<div>\n",
              "<style scoped>\n",
              "    .dataframe tbody tr th:only-of-type {\n",
              "        vertical-align: middle;\n",
              "    }\n",
              "\n",
              "    .dataframe tbody tr th {\n",
              "        vertical-align: top;\n",
              "    }\n",
              "\n",
              "    .dataframe thead th {\n",
              "        text-align: right;\n",
              "    }\n",
              "</style>\n",
              "<table border=\"1\" class=\"dataframe\">\n",
              "  <thead>\n",
              "    <tr style=\"text-align: right;\">\n",
              "      <th></th>\n",
              "      <th>country</th>\n",
              "      <th>market</th>\n",
              "      <th>prevCanc</th>\n",
              "      <th>bookCh</th>\n",
              "      <th>deposit</th>\n",
              "      <th>waitingList</th>\n",
              "      <th>customer</th>\n",
              "      <th>room</th>\n",
              "      <th>parkingSpace</th>\n",
              "      <th>request</th>\n",
              "      <th>cancel</th>\n",
              "    </tr>\n",
              "  </thead>\n",
              "  <tbody>\n",
              "    <tr>\n",
              "      <th>814</th>\n",
              "      <td>Other</td>\n",
              "      <td>Offline TA/TO</td>\n",
              "      <td>0</td>\n",
              "      <td>0</td>\n",
              "      <td>No Deposit</td>\n",
              "      <td>0</td>\n",
              "      <td>Transient-Party</td>\n",
              "      <td>A</td>\n",
              "      <td>0</td>\n",
              "      <td>0</td>\n",
              "      <td>0</td>\n",
              "    </tr>\n",
              "    <tr>\n",
              "      <th>1166</th>\n",
              "      <td>Other</td>\n",
              "      <td>Direct</td>\n",
              "      <td>2</td>\n",
              "      <td>0</td>\n",
              "      <td>No Deposit</td>\n",
              "      <td>0</td>\n",
              "      <td>Transient</td>\n",
              "      <td>E</td>\n",
              "      <td>0</td>\n",
              "      <td>3</td>\n",
              "      <td>1</td>\n",
              "    </tr>\n",
              "    <tr>\n",
              "      <th>1304</th>\n",
              "      <td>Other</td>\n",
              "      <td>Direct</td>\n",
              "      <td>0</td>\n",
              "      <td>1</td>\n",
              "      <td>No Deposit</td>\n",
              "      <td>0</td>\n",
              "      <td>Transient</td>\n",
              "      <td>D</td>\n",
              "      <td>0</td>\n",
              "      <td>1</td>\n",
              "      <td>0</td>\n",
              "    </tr>\n",
              "    <tr>\n",
              "      <th>1661</th>\n",
              "      <td>Other</td>\n",
              "      <td>Corporate</td>\n",
              "      <td>0</td>\n",
              "      <td>0</td>\n",
              "      <td>No Deposit</td>\n",
              "      <td>0</td>\n",
              "      <td>Transient</td>\n",
              "      <td>A</td>\n",
              "      <td>0</td>\n",
              "      <td>0</td>\n",
              "      <td>0</td>\n",
              "    </tr>\n",
              "    <tr>\n",
              "      <th>2182</th>\n",
              "      <td>Other</td>\n",
              "      <td>Corporate</td>\n",
              "      <td>0</td>\n",
              "      <td>0</td>\n",
              "      <td>No Deposit</td>\n",
              "      <td>0</td>\n",
              "      <td>Transient</td>\n",
              "      <td>A</td>\n",
              "      <td>0</td>\n",
              "      <td>0</td>\n",
              "      <td>0</td>\n",
              "    </tr>\n",
              "    <tr>\n",
              "      <th>...</th>\n",
              "      <td>...</td>\n",
              "      <td>...</td>\n",
              "      <td>...</td>\n",
              "      <td>...</td>\n",
              "      <td>...</td>\n",
              "      <td>...</td>\n",
              "      <td>...</td>\n",
              "      <td>...</td>\n",
              "      <td>...</td>\n",
              "      <td>...</td>\n",
              "      <td>...</td>\n",
              "    </tr>\n",
              "    <tr>\n",
              "      <th>82466</th>\n",
              "      <td>Other</td>\n",
              "      <td>Offline TA/TO</td>\n",
              "      <td>0</td>\n",
              "      <td>0</td>\n",
              "      <td>No Deposit</td>\n",
              "      <td>0</td>\n",
              "      <td>Transient</td>\n",
              "      <td>A</td>\n",
              "      <td>0</td>\n",
              "      <td>0</td>\n",
              "      <td>0</td>\n",
              "    </tr>\n",
              "    <tr>\n",
              "      <th>83084</th>\n",
              "      <td>Other</td>\n",
              "      <td>Corporate</td>\n",
              "      <td>0</td>\n",
              "      <td>0</td>\n",
              "      <td>No Deposit</td>\n",
              "      <td>0</td>\n",
              "      <td>Transient</td>\n",
              "      <td>A</td>\n",
              "      <td>0</td>\n",
              "      <td>0</td>\n",
              "      <td>0</td>\n",
              "    </tr>\n",
              "    <tr>\n",
              "      <th>83106</th>\n",
              "      <td>Other</td>\n",
              "      <td>Direct</td>\n",
              "      <td>0</td>\n",
              "      <td>0</td>\n",
              "      <td>No Deposit</td>\n",
              "      <td>0</td>\n",
              "      <td>Transient</td>\n",
              "      <td>A</td>\n",
              "      <td>0</td>\n",
              "      <td>2</td>\n",
              "      <td>0</td>\n",
              "    </tr>\n",
              "    <tr>\n",
              "      <th>83353</th>\n",
              "      <td>Other</td>\n",
              "      <td>Direct</td>\n",
              "      <td>0</td>\n",
              "      <td>0</td>\n",
              "      <td>No Deposit</td>\n",
              "      <td>0</td>\n",
              "      <td>Transient</td>\n",
              "      <td>A</td>\n",
              "      <td>0</td>\n",
              "      <td>0</td>\n",
              "      <td>0</td>\n",
              "    </tr>\n",
              "    <tr>\n",
              "      <th>83426</th>\n",
              "      <td>Other</td>\n",
              "      <td>Direct</td>\n",
              "      <td>0</td>\n",
              "      <td>2</td>\n",
              "      <td>No Deposit</td>\n",
              "      <td>0</td>\n",
              "      <td>Transient</td>\n",
              "      <td>A</td>\n",
              "      <td>0</td>\n",
              "      <td>1</td>\n",
              "      <td>0</td>\n",
              "    </tr>\n",
              "  </tbody>\n",
              "</table>\n",
              "<p>351 rows × 11 columns</p>\n",
              "</div>"
            ],
            "text/plain": [
              "      country         market  prevCanc  bookCh     deposit  waitingList  \\\n",
              "814     Other  Offline TA/TO         0       0  No Deposit            0   \n",
              "1166    Other         Direct         2       0  No Deposit            0   \n",
              "1304    Other         Direct         0       1  No Deposit            0   \n",
              "1661    Other      Corporate         0       0  No Deposit            0   \n",
              "2182    Other      Corporate         0       0  No Deposit            0   \n",
              "...       ...            ...       ...     ...         ...          ...   \n",
              "82466   Other  Offline TA/TO         0       0  No Deposit            0   \n",
              "83084   Other      Corporate         0       0  No Deposit            0   \n",
              "83106   Other         Direct         0       0  No Deposit            0   \n",
              "83353   Other         Direct         0       0  No Deposit            0   \n",
              "83426   Other         Direct         0       2  No Deposit            0   \n",
              "\n",
              "              customer room  parkingSpace  request  cancel  \n",
              "814    Transient-Party    A             0        0       0  \n",
              "1166         Transient    E             0        3       1  \n",
              "1304         Transient    D             0        1       0  \n",
              "1661         Transient    A             0        0       0  \n",
              "2182         Transient    A             0        0       0  \n",
              "...                ...  ...           ...      ...     ...  \n",
              "82466        Transient    A             0        0       0  \n",
              "83084        Transient    A             0        0       0  \n",
              "83106        Transient    A             0        2       0  \n",
              "83353        Transient    A             0        0       0  \n",
              "83426        Transient    A             0        1       0  \n",
              "\n",
              "[351 rows x 11 columns]"
            ]
          },
          "execution_count": 9,
          "metadata": {},
          "output_type": "execute_result"
        }
      ],
      "source": [
        "df[df['country']=='Other']"
      ]
    },
    {
      "cell_type": "markdown",
      "id": "e207cba8",
      "metadata": {
        "id": "e207cba8"
      },
      "source": [
        "## Ubah Undefined"
      ]
    },
    {
      "cell_type": "markdown",
      "source": [
        "Setelah percobaan modelling sebelumnya, undefined disini bukanlah string. sehingga mengganggu pada proses modeling.\n",
        "Hal yang dilakukan adalah mengubahnya dengan modus."
      ],
      "metadata": {
        "id": "v3GSDQuNs3hK"
      },
      "id": "v3GSDQuNs3hK"
    },
    {
      "cell_type": "code",
      "execution_count": null,
      "id": "c66d7d36",
      "metadata": {
        "id": "c66d7d36"
      },
      "outputs": [],
      "source": [
        "df['market'] = df['market'].replace(['Undefined'], 'Online TA')"
      ]
    },
    {
      "cell_type": "code",
      "execution_count": null,
      "id": "c4a9dc18",
      "metadata": {
        "id": "c4a9dc18",
        "outputId": "ef892813-2658-4723-d935-3aa16186b36a"
      },
      "outputs": [
        {
          "data": {
            "text/plain": [
              "Online TA        39461\n",
              "Offline TA/TO    17025\n",
              "Groups           13721\n",
              "Direct            8898\n",
              "Corporate         3792\n",
              "Complementary      511\n",
              "Aviation           165\n",
              "Name: market, dtype: int64"
            ]
          },
          "execution_count": 11,
          "metadata": {},
          "output_type": "execute_result"
        }
      ],
      "source": [
        "df['market'].value_counts()"
      ]
    },
    {
      "cell_type": "code",
      "execution_count": null,
      "id": "ee2dde73",
      "metadata": {
        "id": "ee2dde73",
        "outputId": "9177f367-ffc1-4bfe-ddf5-340c6a0e7948"
      },
      "outputs": [
        {
          "data": {
            "text/plain": [
              "array(['No Deposit', 'Non Refund', 'Refundable'], dtype=object)"
            ]
          },
          "execution_count": 12,
          "metadata": {},
          "output_type": "execute_result"
        }
      ],
      "source": [
        "df['deposit'].unique()"
      ]
    },
    {
      "cell_type": "code",
      "execution_count": null,
      "id": "9920ebcf",
      "metadata": {
        "id": "9920ebcf",
        "outputId": "dbadeb77-2927-4cff-b8d5-b1c4814abbf2"
      },
      "outputs": [
        {
          "data": {
            "text/plain": [
              "array(['Transient-Party', 'Transient', 'Contract', 'Group'], dtype=object)"
            ]
          },
          "execution_count": 13,
          "metadata": {},
          "output_type": "execute_result"
        }
      ],
      "source": [
        "df['customer'].unique()"
      ]
    },
    {
      "cell_type": "code",
      "execution_count": null,
      "id": "a06db757",
      "metadata": {
        "id": "a06db757",
        "outputId": "0ac0a946-f7f2-4a3a-b1ee-d0dfdd50973b"
      },
      "outputs": [
        {
          "data": {
            "text/plain": [
              "array(['A', 'E', 'D', 'F', 'B', 'G', 'C', 'H', 'L', 'P'], dtype=object)"
            ]
          },
          "execution_count": 14,
          "metadata": {},
          "output_type": "execute_result"
        }
      ],
      "source": [
        "df['room'].unique()"
      ]
    },
    {
      "cell_type": "markdown",
      "id": "3c95d65c",
      "metadata": {
        "id": "3c95d65c"
      },
      "source": [
        "## Scaling"
      ]
    },
    {
      "cell_type": "code",
      "execution_count": null,
      "id": "5c5a365a",
      "metadata": {
        "id": "5c5a365a",
        "outputId": "b0dbe7b9-092a-486b-c2c4-2738acb4d6bf"
      },
      "outputs": [
        {
          "data": {
            "text/plain": [
              "Index(['country', 'market', 'deposit', 'customer', 'room'], dtype='object')"
            ]
          },
          "execution_count": 15,
          "metadata": {},
          "output_type": "execute_result"
        }
      ],
      "source": [
        "fitur_kategorik = df[['country', 'market','deposit', 'customer','room']].columns\n",
        "fitur_kategorik"
      ]
    },
    {
      "cell_type": "code",
      "execution_count": null,
      "id": "2c4d5b35",
      "metadata": {
        "id": "2c4d5b35",
        "outputId": "9a9ac8a3-0b1b-4f19-8a4d-97a7dd76f939"
      },
      "outputs": [
        {
          "data": {
            "text/plain": [
              "Index(['prevCanc', 'bookCh', 'waitingList', 'parkingSpace', 'request'], dtype='object')"
            ]
          },
          "execution_count": 16,
          "metadata": {},
          "output_type": "execute_result"
        }
      ],
      "source": [
        "fitur_numerik = df[['prevCanc', 'bookCh', 'waitingList', 'parkingSpace', 'request']].columns\n",
        "fitur_numerik"
      ]
    },
    {
      "cell_type": "code",
      "execution_count": null,
      "id": "d2b3b081",
      "metadata": {
        "id": "d2b3b081",
        "outputId": "cd429b56-d607-4988-bf5f-c19a0e987d6e"
      },
      "outputs": [
        {
          "name": "stderr",
          "output_type": "stream",
          "text": [
            "/Users/yudhapratama/opt/anaconda3/lib/python3.9/site-packages/seaborn/distributions.py:2619: FutureWarning: `distplot` is a deprecated function and will be removed in a future version. Please adapt your code to use either `displot` (a figure-level function with similar flexibility) or `histplot` (an axes-level function for histograms).\n",
            "  warnings.warn(msg, FutureWarning)\n",
            "/Users/yudhapratama/opt/anaconda3/lib/python3.9/site-packages/seaborn/distributions.py:2619: FutureWarning: `distplot` is a deprecated function and will be removed in a future version. Please adapt your code to use either `displot` (a figure-level function with similar flexibility) or `histplot` (an axes-level function for histograms).\n",
            "  warnings.warn(msg, FutureWarning)\n",
            "/Users/yudhapratama/opt/anaconda3/lib/python3.9/site-packages/seaborn/distributions.py:2619: FutureWarning: `distplot` is a deprecated function and will be removed in a future version. Please adapt your code to use either `displot` (a figure-level function with similar flexibility) or `histplot` (an axes-level function for histograms).\n",
            "  warnings.warn(msg, FutureWarning)\n",
            "/Users/yudhapratama/opt/anaconda3/lib/python3.9/site-packages/seaborn/distributions.py:2619: FutureWarning: `distplot` is a deprecated function and will be removed in a future version. Please adapt your code to use either `displot` (a figure-level function with similar flexibility) or `histplot` (an axes-level function for histograms).\n",
            "  warnings.warn(msg, FutureWarning)\n",
            "/Users/yudhapratama/opt/anaconda3/lib/python3.9/site-packages/seaborn/distributions.py:2619: FutureWarning: `distplot` is a deprecated function and will be removed in a future version. Please adapt your code to use either `displot` (a figure-level function with similar flexibility) or `histplot` (an axes-level function for histograms).\n",
            "  warnings.warn(msg, FutureWarning)\n",
            "/Users/yudhapratama/opt/anaconda3/lib/python3.9/site-packages/seaborn/distributions.py:2619: FutureWarning: `distplot` is a deprecated function and will be removed in a future version. Please adapt your code to use either `displot` (a figure-level function with similar flexibility) or `histplot` (an axes-level function for histograms).\n",
            "  warnings.warn(msg, FutureWarning)\n"
          ]
        },
        {
          "data": {
            "image/png": "[encoded data removed]",
            "text/plain": [
              "<Figure size 1500x1000 with 6 Axes>"
            ]
          },
          "metadata": {},
          "output_type": "display_data"
        }
      ],
      "source": [
        "#Mari kita lihat distribusi datanya pada kolom numerik\n",
        "plt.figure(figsize = (15,10)) #Mengatur ukuran figurenya\n",
        "plt.subplot(3,2,1)\n",
        "sns.distplot(df['prevCanc'])\n",
        "plt.subplot(3,2,2)\n",
        "sns.distplot(df['bookCh'])\n",
        "plt.subplot(3,2,3)\n",
        "sns.distplot(df['waitingList'])\n",
        "plt.subplot(3,2,4)\n",
        "sns.distplot(df['parkingSpace'])\n",
        "plt.subplot(3,2,5)\n",
        "sns.distplot(df['request'])\n",
        "plt.subplot(3,2,6)\n",
        "sns.distplot(df['cancel'])\n",
        "plt.tight_layout()"
      ]
    },
    {
      "cell_type": "markdown",
      "source": [
        "Data yang dimiliki tidak terdistribusi normal. Selain itu, melihat karakteristik datanya diperlukan scaling untuk lebih mengoptimalkan kinerja machine learning.\n",
        "\n"
      ],
      "metadata": {
        "id": "rps78VWItMsm"
      },
      "id": "rps78VWItMsm"
    },
    {
      "cell_type": "code",
      "execution_count": null,
      "id": "eb220780",
      "metadata": {
        "id": "eb220780",
        "outputId": "69bd0cd7-b370-45aa-892b-1f3c3ad0dc96"
      },
      "outputs": [
        {
          "data": {
            "text/plain": [
              "0    52795\n",
              "1    30778\n",
              "Name: cancel, dtype: int64"
            ]
          },
          "execution_count": 20,
          "metadata": {},
          "output_type": "execute_result"
        }
      ],
      "source": [
        "df['cancel'].value_counts()"
      ]
    },
    {
      "cell_type": "code",
      "execution_count": null,
      "id": "8143bd27",
      "metadata": {
        "id": "8143bd27",
        "outputId": "5bee0be2-76fa-4f59-f12a-0088b81d87db"
      },
      "outputs": [
        {
          "data": {
            "text/plain": [
              "0    63.172316\n",
              "1    36.827684\n",
              "Name: cancel, dtype: float64"
            ]
          },
          "execution_count": 21,
          "metadata": {},
          "output_type": "execute_result"
        }
      ],
      "source": [
        "df['cancel'].value_counts()/len(df['cancel']) * 100"
      ]
    },
    {
      "cell_type": "markdown",
      "source": [
        "Dilihat dari grafik dan hasil diatas bahwa banyaknya data 0 dan 1 tidak sama/imbalance. Hal ini merupakan dasar untuk melakukan undersampling/oversampling."
      ],
      "metadata": {
        "id": "OsCeEJKBA1vg"
      },
      "id": "OsCeEJKBA1vg"
    },
    {
      "cell_type": "code",
      "execution_count": null,
      "id": "61fbc889",
      "metadata": {
        "id": "61fbc889"
      },
      "outputs": [],
      "source": [
        "from sklearn.preprocessing import MinMaxScaler\n",
        "from sklearn.preprocessing import StandardScaler\n",
        "from sklearn.preprocessing import RobustScaler\n",
        "robust_scaler = RobustScaler()\n",
        "minmax = MinMaxScaler()\n",
        "standard = StandardScaler()\n",
        "robust = RobustScaler()"
      ]
    },
    {
      "cell_type": "code",
      "execution_count": null,
      "id": "2935d759",
      "metadata": {
        "id": "2935d759"
      },
      "outputs": [],
      "source": [
        "Xsc = df[['bookCh', 'waitingList']]"
      ]
    },
    {
      "cell_type": "code",
      "execution_count": null,
      "id": "305d2e97",
      "metadata": {
        "id": "305d2e97",
        "outputId": "1fe799de-417e-4220-c981-698785159377"
      },
      "outputs": [
        {
          "data": {
            "text/html": [
              "<div>\n",
              "<style scoped>\n",
              "    .dataframe tbody tr th:only-of-type {\n",
              "        vertical-align: middle;\n",
              "    }\n",
              "\n",
              "    .dataframe tbody tr th {\n",
              "        vertical-align: top;\n",
              "    }\n",
              "\n",
              "    .dataframe thead th {\n",
              "        text-align: right;\n",
              "    }\n",
              "</style>\n",
              "<table border=\"1\" class=\"dataframe\">\n",
              "  <thead>\n",
              "    <tr style=\"text-align: right;\">\n",
              "      <th></th>\n",
              "      <th>bookCh</th>\n",
              "      <th>uwaitingListo</th>\n",
              "    </tr>\n",
              "  </thead>\n",
              "  <tbody>\n",
              "    <tr>\n",
              "      <th>count</th>\n",
              "      <td>83573.000000</td>\n",
              "      <td>83573.000000</td>\n",
              "    </tr>\n",
              "    <tr>\n",
              "      <th>mean</th>\n",
              "      <td>0.220897</td>\n",
              "      <td>2.330561</td>\n",
              "    </tr>\n",
              "    <tr>\n",
              "      <th>std</th>\n",
              "      <td>0.648635</td>\n",
              "      <td>17.673051</td>\n",
              "    </tr>\n",
              "    <tr>\n",
              "      <th>min</th>\n",
              "      <td>0.000000</td>\n",
              "      <td>0.000000</td>\n",
              "    </tr>\n",
              "    <tr>\n",
              "      <th>25%</th>\n",
              "      <td>0.000000</td>\n",
              "      <td>0.000000</td>\n",
              "    </tr>\n",
              "    <tr>\n",
              "      <th>50%</th>\n",
              "      <td>0.000000</td>\n",
              "      <td>0.000000</td>\n",
              "    </tr>\n",
              "    <tr>\n",
              "      <th>75%</th>\n",
              "      <td>0.000000</td>\n",
              "      <td>0.000000</td>\n",
              "    </tr>\n",
              "    <tr>\n",
              "      <th>max</th>\n",
              "      <td>21.000000</td>\n",
              "      <td>391.000000</td>\n",
              "    </tr>\n",
              "  </tbody>\n",
              "</table>\n",
              "</div>"
            ],
            "text/plain": [
              "             bookCh  uwaitingListo\n",
              "count  83573.000000   83573.000000\n",
              "mean       0.220897       2.330561\n",
              "std        0.648635      17.673051\n",
              "min        0.000000       0.000000\n",
              "25%        0.000000       0.000000\n",
              "50%        0.000000       0.000000\n",
              "75%        0.000000       0.000000\n",
              "max       21.000000     391.000000"
            ]
          },
          "execution_count": 24,
          "metadata": {},
          "output_type": "execute_result"
        }
      ],
      "source": [
        "#using scaler for getting a smaller range\n",
        "Xsc_robust = robust.fit_transform(Xsc)\n",
        "Xsc_robust = pd.DataFrame(Xsc_robust, columns=['bookCh', 'uwaitingListo'])\n",
        "Xsc_robust.describe()"
      ]
    },
    {
      "cell_type": "code",
      "execution_count": null,
      "id": "1578eb49",
      "metadata": {
        "id": "1578eb49"
      },
      "outputs": [],
      "source": [
        "#Kali ini menggunakan Robust scaler"
      ]
    },
    {
      "cell_type": "markdown",
      "id": "3fbb01d7",
      "metadata": {
        "id": "3fbb01d7"
      },
      "source": [
        "## Encoding"
      ]
    },
    {
      "cell_type": "markdown",
      "id": "3c455f2a",
      "metadata": {
        "id": "3c455f2a"
      },
      "source": [
        "### OneHotEncoder & Binary for categorical variables\n",
        "#### Untuk feature yang bersifat kategorikal, akan diubah melalui encoding. Untuk kolom yang unique valuenya banyak, akan diubah melalui binary encoder. Selain itu, menggunakan One Hot. Transformasi dengan bantuan ColumnTransformer"
      ]
    },
    {
      "cell_type": "code",
      "execution_count": null,
      "id": "39d50491",
      "metadata": {
        "id": "39d50491",
        "outputId": "2329f939-7724-4d79-e969-d2547db30e27"
      },
      "outputs": [
        {
          "data": {
            "text/plain": [
              "A    60041\n",
              "D    13526\n",
              "E     4649\n",
              "F     2037\n",
              "G     1447\n",
              "B      787\n",
              "C      673\n",
              "H      401\n",
              "P        9\n",
              "L        3\n",
              "Name: room, dtype: int64"
            ]
          },
          "execution_count": 27,
          "metadata": {},
          "output_type": "execute_result"
        }
      ],
      "source": [
        "##Kodingan melalui Column Trasnformer ada pada segmen 'Perumusan Transformasi'"
      ]
    },
    {
      "cell_type": "markdown",
      "id": "b3c50429",
      "metadata": {
        "id": "b3c50429"
      },
      "source": [
        "## Binning"
      ]
    },
    {
      "cell_type": "markdown",
      "source": [
        "Setelah melihat distribusi data, saya mencoba menggunakan binning untuk membantu optimalisasi machine learning dengan mengelompokan data"
      ],
      "metadata": {
        "id": "kMmaa5kLBsak"
      },
      "id": "kMmaa5kLBsak"
    },
    {
      "cell_type": "code",
      "execution_count": null,
      "id": "4bb575ad",
      "metadata": {
        "id": "4bb575ad"
      },
      "outputs": [],
      "source": [
        "from sklearn.preprocessing import KBinsDiscretizer"
      ]
    },
    {
      "cell_type": "code",
      "execution_count": null,
      "id": "f72190bf",
      "metadata": {
        "id": "f72190bf",
        "outputId": "4c89fa80-d4ff-4e98-fbe0-b0802015f545"
      },
      "outputs": [
        {
          "data": {
            "text/html": [
              "<div>\n",
              "<style scoped>\n",
              "    .dataframe tbody tr th:only-of-type {\n",
              "        vertical-align: middle;\n",
              "    }\n",
              "\n",
              "    .dataframe tbody tr th {\n",
              "        vertical-align: top;\n",
              "    }\n",
              "\n",
              "    .dataframe thead th {\n",
              "        text-align: right;\n",
              "    }\n",
              "</style>\n",
              "<table border=\"1\" class=\"dataframe\">\n",
              "  <thead>\n",
              "    <tr style=\"text-align: right;\">\n",
              "      <th></th>\n",
              "      <th>waitingList</th>\n",
              "    </tr>\n",
              "  </thead>\n",
              "  <tbody>\n",
              "    <tr>\n",
              "      <th>count</th>\n",
              "      <td>83573.000000</td>\n",
              "    </tr>\n",
              "    <tr>\n",
              "      <th>mean</th>\n",
              "      <td>2.330561</td>\n",
              "    </tr>\n",
              "    <tr>\n",
              "      <th>std</th>\n",
              "      <td>17.673051</td>\n",
              "    </tr>\n",
              "    <tr>\n",
              "      <th>min</th>\n",
              "      <td>0.000000</td>\n",
              "    </tr>\n",
              "    <tr>\n",
              "      <th>25%</th>\n",
              "      <td>0.000000</td>\n",
              "    </tr>\n",
              "    <tr>\n",
              "      <th>50%</th>\n",
              "      <td>0.000000</td>\n",
              "    </tr>\n",
              "    <tr>\n",
              "      <th>75%</th>\n",
              "      <td>0.000000</td>\n",
              "    </tr>\n",
              "    <tr>\n",
              "      <th>max</th>\n",
              "      <td>391.000000</td>\n",
              "    </tr>\n",
              "  </tbody>\n",
              "</table>\n",
              "</div>"
            ],
            "text/plain": [
              "        waitingList\n",
              "count  83573.000000\n",
              "mean       2.330561\n",
              "std       17.673051\n",
              "min        0.000000\n",
              "25%        0.000000\n",
              "50%        0.000000\n",
              "75%        0.000000\n",
              "max      391.000000"
            ]
          },
          "execution_count": 29,
          "metadata": {},
          "output_type": "execute_result"
        }
      ],
      "source": [
        "df[['waitingList']].describe()"
      ]
    },
    {
      "cell_type": "code",
      "execution_count": null,
      "id": "4b66319c",
      "metadata": {
        "id": "4b66319c"
      },
      "outputs": [],
      "source": [
        "discretize = KBinsDiscretizer(n_bins = 7, encode = 'onehot', strategy = 'uniform')"
      ]
    },
    {
      "cell_type": "markdown",
      "id": "8fe421bf",
      "metadata": {
        "id": "8fe421bf"
      },
      "source": [
        "## Perumusan Transformasi"
      ]
    },
    {
      "cell_type": "code",
      "execution_count": null,
      "id": "bdae2710",
      "metadata": {
        "id": "bdae2710"
      },
      "outputs": [],
      "source": [
        "#Data preparation yang telah direncanakan diatas dieksekusi dengan menggunakan ColumnTransformer.\n",
        "##Kedepannya, akan dilakukan juga penerapan Pipeline untuk mencegah information leakage. Namun untuk proses awal manual dulu.\n",
        "binary_encoder_pline = Pipeline([('imputer',SimpleImputer(strategy = 'constant',fill_value = 'Other')),\n",
        "                                 ('binary encoder',ce.BinaryEncoder())\n",
        "]) #Simple imputer disini digunakan untuk mengisi missing value pada kolom country dengan cara pengisian value 'konstan'\n",
        "\n",
        "binary_encoder = ce.BinaryEncoder()\n",
        "\n",
        "robust_scaler= RobustScaler() \n",
        "\n",
        "transformer_pure = ColumnTransformer([\n",
        "    ('one hot encoder', OneHotEncoder(drop='first'),['customer','deposit','market']),\n",
        "    ('binary encoder', binary_encoder_pline, ['country']),   \n",
        "    ], \n",
        "    remainder='passthrough')\n",
        "\n",
        "transformer_full = ColumnTransformer([\n",
        "    ('one hot encoder', OneHotEncoder(drop='first'),['customer','deposit','market']),\n",
        "    ('binary encoder', binary_encoder_pline, ['country']),\n",
        "    ('binary simple', ce.BinaryEncoder(),['room']),\n",
        "    ('robust scaler', RobustScaler(), ['waitingList'])\n",
        "    ], \n",
        "    remainder='passthrough')\n",
        "\n",
        "transformer = ColumnTransformer([\n",
        "    ('one hot encoder', OneHotEncoder(drop='first'),['customer','deposit','market']),\n",
        "    ('binary encoder', binary_encoder_pline, ['country']),\n",
        "    ('binary simple', ce.BinaryEncoder(),['room'])\n",
        "    ], \n",
        "    remainder='passthrough')"
      ]
    },
    {
      "cell_type": "markdown",
      "id": "64f16f0c",
      "metadata": {
        "id": "64f16f0c"
      },
      "source": [
        "## Data Splitting"
      ]
    },
    {
      "cell_type": "code",
      "execution_count": null,
      "id": "9831ba10",
      "metadata": {
        "id": "9831ba10"
      },
      "outputs": [],
      "source": [
        "#Membagi dulu datanya\n",
        "X = df.drop(columns=['cancel'])\n",
        "y = df['cancel']"
      ]
    },
    {
      "cell_type": "code",
      "execution_count": null,
      "id": "f928065c",
      "metadata": {
        "id": "f928065c"
      },
      "outputs": [],
      "source": [
        "X_train, X_test, y_train, y_test = train_test_split(X, y, stratify = y, test_size = 0.2, random_state = 1945)"
      ]
    },
    {
      "cell_type": "markdown",
      "source": [
        "Kali ini saya membagi data train dan test set dengan proporsi 80:20. Karena ini adalah kasus klasifikasi saya menggunakan stratify = y."
      ],
      "metadata": {
        "id": "EHCGlgAqCbG3"
      },
      "id": "EHCGlgAqCbG3"
    },
    {
      "cell_type": "markdown",
      "id": "bd8d6018",
      "metadata": {
        "id": "bd8d6018"
      },
      "source": [
        "# Transformasi Data"
      ]
    },
    {
      "cell_type": "markdown",
      "source": [
        "Kali ini saya akan menggunakan transformasi manual terlebih dahulu"
      ],
      "metadata": {
        "id": "pVnx3UcCDeJR"
      },
      "id": "pVnx3UcCDeJR"
    },
    {
      "cell_type": "code",
      "execution_count": null,
      "id": "ec3ac4c5",
      "metadata": {
        "id": "ec3ac4c5",
        "outputId": "f8e21fef-6ffb-42f7-d99c-873dd10e1101"
      },
      "outputs": [
        {
          "data": {
            "text/html": [
              "<div>\n",
              "<style scoped>\n",
              "    .dataframe tbody tr th:only-of-type {\n",
              "        vertical-align: middle;\n",
              "    }\n",
              "\n",
              "    .dataframe tbody tr th {\n",
              "        vertical-align: top;\n",
              "    }\n",
              "\n",
              "    .dataframe thead th {\n",
              "        text-align: right;\n",
              "    }\n",
              "</style>\n",
              "<table border=\"1\" class=\"dataframe\">\n",
              "  <thead>\n",
              "    <tr style=\"text-align: right;\">\n",
              "      <th></th>\n",
              "      <th>country</th>\n",
              "      <th>market</th>\n",
              "      <th>prevCanc</th>\n",
              "      <th>bookCh</th>\n",
              "      <th>deposit</th>\n",
              "      <th>waitingList</th>\n",
              "      <th>customer</th>\n",
              "      <th>room</th>\n",
              "      <th>parkingSpace</th>\n",
              "      <th>request</th>\n",
              "    </tr>\n",
              "  </thead>\n",
              "  <tbody>\n",
              "    <tr>\n",
              "      <th>48117</th>\n",
              "      <td>PRT</td>\n",
              "      <td>Online TA</td>\n",
              "      <td>0</td>\n",
              "      <td>0</td>\n",
              "      <td>No Deposit</td>\n",
              "      <td>0</td>\n",
              "      <td>Transient</td>\n",
              "      <td>A</td>\n",
              "      <td>0</td>\n",
              "      <td>0</td>\n",
              "    </tr>\n",
              "    <tr>\n",
              "      <th>80710</th>\n",
              "      <td>TUR</td>\n",
              "      <td>Online TA</td>\n",
              "      <td>0</td>\n",
              "      <td>0</td>\n",
              "      <td>No Deposit</td>\n",
              "      <td>0</td>\n",
              "      <td>Transient</td>\n",
              "      <td>A</td>\n",
              "      <td>0</td>\n",
              "      <td>0</td>\n",
              "    </tr>\n",
              "    <tr>\n",
              "      <th>4529</th>\n",
              "      <td>FRA</td>\n",
              "      <td>Online TA</td>\n",
              "      <td>0</td>\n",
              "      <td>0</td>\n",
              "      <td>No Deposit</td>\n",
              "      <td>0</td>\n",
              "      <td>Transient-Party</td>\n",
              "      <td>E</td>\n",
              "      <td>0</td>\n",
              "      <td>2</td>\n",
              "    </tr>\n",
              "    <tr>\n",
              "      <th>54100</th>\n",
              "      <td>PRT</td>\n",
              "      <td>Groups</td>\n",
              "      <td>0</td>\n",
              "      <td>0</td>\n",
              "      <td>Non Refund</td>\n",
              "      <td>0</td>\n",
              "      <td>Transient</td>\n",
              "      <td>A</td>\n",
              "      <td>0</td>\n",
              "      <td>0</td>\n",
              "    </tr>\n",
              "    <tr>\n",
              "      <th>75547</th>\n",
              "      <td>PRT</td>\n",
              "      <td>Corporate</td>\n",
              "      <td>0</td>\n",
              "      <td>0</td>\n",
              "      <td>No Deposit</td>\n",
              "      <td>0</td>\n",
              "      <td>Transient-Party</td>\n",
              "      <td>A</td>\n",
              "      <td>0</td>\n",
              "      <td>0</td>\n",
              "    </tr>\n",
              "  </tbody>\n",
              "</table>\n",
              "</div>"
            ],
            "text/plain": [
              "      country     market  prevCanc  bookCh     deposit  waitingList  \\\n",
              "48117     PRT  Online TA         0       0  No Deposit            0   \n",
              "80710     TUR  Online TA         0       0  No Deposit            0   \n",
              "4529      FRA  Online TA         0       0  No Deposit            0   \n",
              "54100     PRT     Groups         0       0  Non Refund            0   \n",
              "75547     PRT  Corporate         0       0  No Deposit            0   \n",
              "\n",
              "              customer room  parkingSpace  request  \n",
              "48117        Transient    A             0        0  \n",
              "80710        Transient    A             0        0  \n",
              "4529   Transient-Party    E             0        2  \n",
              "54100        Transient    A             0        0  \n",
              "75547  Transient-Party    A             0        0  "
            ]
          },
          "execution_count": 178,
          "metadata": {},
          "output_type": "execute_result"
        }
      ],
      "source": [
        "X_train.head()"
      ]
    },
    {
      "cell_type": "code",
      "execution_count": null,
      "id": "5a5f2c86",
      "metadata": {
        "id": "5a5f2c86"
      },
      "outputs": [],
      "source": [
        "X_trainpreprep_m = transformer_full.fit_transform(X_train)\n",
        "X_testpreprep_m = transformer_full.transform(X_test)"
      ]
    },
    {
      "cell_type": "code",
      "execution_count": null,
      "id": "b7b5d62d",
      "metadata": {
        "id": "b7b5d62d",
        "outputId": "fe58ccae-fc8b-47c3-d2d1-e88a7936ba79"
      },
      "outputs": [
        {
          "data": {
            "text/plain": [
              "array([[0., 1., 0., ..., 0., 0., 0.],\n",
              "       [0., 1., 0., ..., 0., 0., 0.],\n",
              "       [0., 0., 1., ..., 0., 0., 2.],\n",
              "       ...,\n",
              "       [0., 1., 0., ..., 0., 0., 1.],\n",
              "       [0., 1., 0., ..., 0., 0., 0.],\n",
              "       [0., 0., 1., ..., 0., 0., 3.]])"
            ]
          },
          "execution_count": 180,
          "metadata": {},
          "output_type": "execute_result"
        }
      ],
      "source": [
        "X_trainpreprep_m"
      ]
    },
    {
      "cell_type": "code",
      "execution_count": null,
      "id": "dc65ca50",
      "metadata": {
        "id": "dc65ca50",
        "outputId": "ec9decaa-e9ad-451a-c2c0-977350c3ad59"
      },
      "outputs": [
        {
          "data": {
            "text/html": [
              "<div>\n",
              "<style scoped>\n",
              "    .dataframe tbody tr th:only-of-type {\n",
              "        vertical-align: middle;\n",
              "    }\n",
              "\n",
              "    .dataframe tbody tr th {\n",
              "        vertical-align: top;\n",
              "    }\n",
              "\n",
              "    .dataframe thead th {\n",
              "        text-align: right;\n",
              "    }\n",
              "</style>\n",
              "<table border=\"1\" class=\"dataframe\">\n",
              "  <thead>\n",
              "    <tr style=\"text-align: right;\">\n",
              "      <th></th>\n",
              "      <th>0</th>\n",
              "      <th>1</th>\n",
              "      <th>2</th>\n",
              "      <th>3</th>\n",
              "      <th>4</th>\n",
              "      <th>5</th>\n",
              "      <th>6</th>\n",
              "      <th>7</th>\n",
              "      <th>8</th>\n",
              "      <th>9</th>\n",
              "      <th>...</th>\n",
              "      <th>18</th>\n",
              "      <th>19</th>\n",
              "      <th>20</th>\n",
              "      <th>21</th>\n",
              "      <th>22</th>\n",
              "      <th>23</th>\n",
              "      <th>24</th>\n",
              "      <th>25</th>\n",
              "      <th>26</th>\n",
              "      <th>27</th>\n",
              "    </tr>\n",
              "  </thead>\n",
              "  <tbody>\n",
              "    <tr>\n",
              "      <th>0</th>\n",
              "      <td>0.0</td>\n",
              "      <td>1.0</td>\n",
              "      <td>0.0</td>\n",
              "      <td>0.0</td>\n",
              "      <td>0.0</td>\n",
              "      <td>0.0</td>\n",
              "      <td>0.0</td>\n",
              "      <td>0.0</td>\n",
              "      <td>0.0</td>\n",
              "      <td>0.0</td>\n",
              "      <td>...</td>\n",
              "      <td>1.0</td>\n",
              "      <td>0.0</td>\n",
              "      <td>0.0</td>\n",
              "      <td>0.0</td>\n",
              "      <td>1.0</td>\n",
              "      <td>0.0</td>\n",
              "      <td>0.0</td>\n",
              "      <td>0.0</td>\n",
              "      <td>0.0</td>\n",
              "      <td>0.0</td>\n",
              "    </tr>\n",
              "    <tr>\n",
              "      <th>1</th>\n",
              "      <td>0.0</td>\n",
              "      <td>1.0</td>\n",
              "      <td>0.0</td>\n",
              "      <td>0.0</td>\n",
              "      <td>0.0</td>\n",
              "      <td>0.0</td>\n",
              "      <td>0.0</td>\n",
              "      <td>0.0</td>\n",
              "      <td>0.0</td>\n",
              "      <td>0.0</td>\n",
              "      <td>...</td>\n",
              "      <td>0.0</td>\n",
              "      <td>0.0</td>\n",
              "      <td>0.0</td>\n",
              "      <td>0.0</td>\n",
              "      <td>1.0</td>\n",
              "      <td>0.0</td>\n",
              "      <td>0.0</td>\n",
              "      <td>0.0</td>\n",
              "      <td>0.0</td>\n",
              "      <td>0.0</td>\n",
              "    </tr>\n",
              "    <tr>\n",
              "      <th>2</th>\n",
              "      <td>0.0</td>\n",
              "      <td>0.0</td>\n",
              "      <td>1.0</td>\n",
              "      <td>0.0</td>\n",
              "      <td>0.0</td>\n",
              "      <td>0.0</td>\n",
              "      <td>0.0</td>\n",
              "      <td>0.0</td>\n",
              "      <td>0.0</td>\n",
              "      <td>0.0</td>\n",
              "      <td>...</td>\n",
              "      <td>1.0</td>\n",
              "      <td>0.0</td>\n",
              "      <td>0.0</td>\n",
              "      <td>1.0</td>\n",
              "      <td>0.0</td>\n",
              "      <td>0.0</td>\n",
              "      <td>0.0</td>\n",
              "      <td>0.0</td>\n",
              "      <td>0.0</td>\n",
              "      <td>2.0</td>\n",
              "    </tr>\n",
              "    <tr>\n",
              "      <th>3</th>\n",
              "      <td>0.0</td>\n",
              "      <td>1.0</td>\n",
              "      <td>0.0</td>\n",
              "      <td>1.0</td>\n",
              "      <td>0.0</td>\n",
              "      <td>0.0</td>\n",
              "      <td>0.0</td>\n",
              "      <td>0.0</td>\n",
              "      <td>1.0</td>\n",
              "      <td>0.0</td>\n",
              "      <td>...</td>\n",
              "      <td>1.0</td>\n",
              "      <td>0.0</td>\n",
              "      <td>0.0</td>\n",
              "      <td>0.0</td>\n",
              "      <td>1.0</td>\n",
              "      <td>0.0</td>\n",
              "      <td>0.0</td>\n",
              "      <td>0.0</td>\n",
              "      <td>0.0</td>\n",
              "      <td>0.0</td>\n",
              "    </tr>\n",
              "    <tr>\n",
              "      <th>4</th>\n",
              "      <td>0.0</td>\n",
              "      <td>0.0</td>\n",
              "      <td>1.0</td>\n",
              "      <td>0.0</td>\n",
              "      <td>0.0</td>\n",
              "      <td>0.0</td>\n",
              "      <td>1.0</td>\n",
              "      <td>0.0</td>\n",
              "      <td>0.0</td>\n",
              "      <td>0.0</td>\n",
              "      <td>...</td>\n",
              "      <td>1.0</td>\n",
              "      <td>0.0</td>\n",
              "      <td>0.0</td>\n",
              "      <td>0.0</td>\n",
              "      <td>1.0</td>\n",
              "      <td>0.0</td>\n",
              "      <td>0.0</td>\n",
              "      <td>0.0</td>\n",
              "      <td>0.0</td>\n",
              "      <td>0.0</td>\n",
              "    </tr>\n",
              "    <tr>\n",
              "      <th>...</th>\n",
              "      <td>...</td>\n",
              "      <td>...</td>\n",
              "      <td>...</td>\n",
              "      <td>...</td>\n",
              "      <td>...</td>\n",
              "      <td>...</td>\n",
              "      <td>...</td>\n",
              "      <td>...</td>\n",
              "      <td>...</td>\n",
              "      <td>...</td>\n",
              "      <td>...</td>\n",
              "      <td>...</td>\n",
              "      <td>...</td>\n",
              "      <td>...</td>\n",
              "      <td>...</td>\n",
              "      <td>...</td>\n",
              "      <td>...</td>\n",
              "      <td>...</td>\n",
              "      <td>...</td>\n",
              "      <td>...</td>\n",
              "      <td>...</td>\n",
              "    </tr>\n",
              "    <tr>\n",
              "      <th>66853</th>\n",
              "      <td>0.0</td>\n",
              "      <td>1.0</td>\n",
              "      <td>0.0</td>\n",
              "      <td>0.0</td>\n",
              "      <td>0.0</td>\n",
              "      <td>0.0</td>\n",
              "      <td>0.0</td>\n",
              "      <td>0.0</td>\n",
              "      <td>0.0</td>\n",
              "      <td>0.0</td>\n",
              "      <td>...</td>\n",
              "      <td>1.0</td>\n",
              "      <td>0.0</td>\n",
              "      <td>0.0</td>\n",
              "      <td>0.0</td>\n",
              "      <td>1.0</td>\n",
              "      <td>0.0</td>\n",
              "      <td>0.0</td>\n",
              "      <td>0.0</td>\n",
              "      <td>0.0</td>\n",
              "      <td>0.0</td>\n",
              "    </tr>\n",
              "    <tr>\n",
              "      <th>66854</th>\n",
              "      <td>0.0</td>\n",
              "      <td>0.0</td>\n",
              "      <td>0.0</td>\n",
              "      <td>0.0</td>\n",
              "      <td>0.0</td>\n",
              "      <td>0.0</td>\n",
              "      <td>0.0</td>\n",
              "      <td>0.0</td>\n",
              "      <td>0.0</td>\n",
              "      <td>1.0</td>\n",
              "      <td>...</td>\n",
              "      <td>1.0</td>\n",
              "      <td>0.0</td>\n",
              "      <td>0.0</td>\n",
              "      <td>0.0</td>\n",
              "      <td>1.0</td>\n",
              "      <td>0.0</td>\n",
              "      <td>0.0</td>\n",
              "      <td>0.0</td>\n",
              "      <td>0.0</td>\n",
              "      <td>0.0</td>\n",
              "    </tr>\n",
              "    <tr>\n",
              "      <th>66855</th>\n",
              "      <td>0.0</td>\n",
              "      <td>1.0</td>\n",
              "      <td>0.0</td>\n",
              "      <td>0.0</td>\n",
              "      <td>0.0</td>\n",
              "      <td>0.0</td>\n",
              "      <td>0.0</td>\n",
              "      <td>0.0</td>\n",
              "      <td>0.0</td>\n",
              "      <td>0.0</td>\n",
              "      <td>...</td>\n",
              "      <td>1.0</td>\n",
              "      <td>0.0</td>\n",
              "      <td>0.0</td>\n",
              "      <td>1.0</td>\n",
              "      <td>1.0</td>\n",
              "      <td>0.0</td>\n",
              "      <td>0.0</td>\n",
              "      <td>0.0</td>\n",
              "      <td>0.0</td>\n",
              "      <td>1.0</td>\n",
              "    </tr>\n",
              "    <tr>\n",
              "      <th>66856</th>\n",
              "      <td>0.0</td>\n",
              "      <td>1.0</td>\n",
              "      <td>0.0</td>\n",
              "      <td>0.0</td>\n",
              "      <td>0.0</td>\n",
              "      <td>0.0</td>\n",
              "      <td>0.0</td>\n",
              "      <td>0.0</td>\n",
              "      <td>0.0</td>\n",
              "      <td>1.0</td>\n",
              "      <td>...</td>\n",
              "      <td>1.0</td>\n",
              "      <td>0.0</td>\n",
              "      <td>0.0</td>\n",
              "      <td>1.0</td>\n",
              "      <td>1.0</td>\n",
              "      <td>0.0</td>\n",
              "      <td>0.0</td>\n",
              "      <td>0.0</td>\n",
              "      <td>0.0</td>\n",
              "      <td>0.0</td>\n",
              "    </tr>\n",
              "    <tr>\n",
              "      <th>66857</th>\n",
              "      <td>0.0</td>\n",
              "      <td>0.0</td>\n",
              "      <td>1.0</td>\n",
              "      <td>0.0</td>\n",
              "      <td>0.0</td>\n",
              "      <td>0.0</td>\n",
              "      <td>0.0</td>\n",
              "      <td>1.0</td>\n",
              "      <td>0.0</td>\n",
              "      <td>0.0</td>\n",
              "      <td>...</td>\n",
              "      <td>1.0</td>\n",
              "      <td>0.0</td>\n",
              "      <td>1.0</td>\n",
              "      <td>1.0</td>\n",
              "      <td>0.0</td>\n",
              "      <td>0.0</td>\n",
              "      <td>2.0</td>\n",
              "      <td>0.0</td>\n",
              "      <td>0.0</td>\n",
              "      <td>3.0</td>\n",
              "    </tr>\n",
              "  </tbody>\n",
              "</table>\n",
              "<p>66858 rows × 28 columns</p>\n",
              "</div>"
            ],
            "text/plain": [
              "        0    1    2    3    4    5    6    7    8    9   ...   18   19   20  \\\n",
              "0      0.0  1.0  0.0  0.0  0.0  0.0  0.0  0.0  0.0  0.0  ...  1.0  0.0  0.0   \n",
              "1      0.0  1.0  0.0  0.0  0.0  0.0  0.0  0.0  0.0  0.0  ...  0.0  0.0  0.0   \n",
              "2      0.0  0.0  1.0  0.0  0.0  0.0  0.0  0.0  0.0  0.0  ...  1.0  0.0  0.0   \n",
              "3      0.0  1.0  0.0  1.0  0.0  0.0  0.0  0.0  1.0  0.0  ...  1.0  0.0  0.0   \n",
              "4      0.0  0.0  1.0  0.0  0.0  0.0  1.0  0.0  0.0  0.0  ...  1.0  0.0  0.0   \n",
              "...    ...  ...  ...  ...  ...  ...  ...  ...  ...  ...  ...  ...  ...  ...   \n",
              "66853  0.0  1.0  0.0  0.0  0.0  0.0  0.0  0.0  0.0  0.0  ...  1.0  0.0  0.0   \n",
              "66854  0.0  0.0  0.0  0.0  0.0  0.0  0.0  0.0  0.0  1.0  ...  1.0  0.0  0.0   \n",
              "66855  0.0  1.0  0.0  0.0  0.0  0.0  0.0  0.0  0.0  0.0  ...  1.0  0.0  0.0   \n",
              "66856  0.0  1.0  0.0  0.0  0.0  0.0  0.0  0.0  0.0  1.0  ...  1.0  0.0  0.0   \n",
              "66857  0.0  0.0  1.0  0.0  0.0  0.0  0.0  1.0  0.0  0.0  ...  1.0  0.0  1.0   \n",
              "\n",
              "        21   22   23   24   25   26   27  \n",
              "0      0.0  1.0  0.0  0.0  0.0  0.0  0.0  \n",
              "1      0.0  1.0  0.0  0.0  0.0  0.0  0.0  \n",
              "2      1.0  0.0  0.0  0.0  0.0  0.0  2.0  \n",
              "3      0.0  1.0  0.0  0.0  0.0  0.0  0.0  \n",
              "4      0.0  1.0  0.0  0.0  0.0  0.0  0.0  \n",
              "...    ...  ...  ...  ...  ...  ...  ...  \n",
              "66853  0.0  1.0  0.0  0.0  0.0  0.0  0.0  \n",
              "66854  0.0  1.0  0.0  0.0  0.0  0.0  0.0  \n",
              "66855  1.0  1.0  0.0  0.0  0.0  0.0  1.0  \n",
              "66856  1.0  1.0  0.0  0.0  0.0  0.0  0.0  \n",
              "66857  1.0  0.0  0.0  2.0  0.0  0.0  3.0  \n",
              "\n",
              "[66858 rows x 28 columns]"
            ]
          },
          "execution_count": 181,
          "metadata": {},
          "output_type": "execute_result"
        }
      ],
      "source": [
        "X_train_preprep_m = pd.DataFrame(X_trainpreprep_m)\n",
        "X_test_preprep_m = pd.DataFrame(X_testpreprep_m)\n",
        "X_train_preprep_m"
      ]
    },
    {
      "cell_type": "markdown",
      "id": "3a21fbba",
      "metadata": {
        "id": "3a21fbba"
      },
      "source": [
        "### Mengambil nama nama kolom"
      ]
    },
    {
      "cell_type": "code",
      "execution_count": null,
      "id": "4aa4751e",
      "metadata": {
        "id": "4aa4751e",
        "outputId": "409b1a07-3501-4451-e69d-0d656f5c6055"
      },
      "outputs": [
        {
          "name": "stderr",
          "output_type": "stream",
          "text": [
            "Function get_feature_names is deprecated; get_feature_names is deprecated in 1.0 and will be removed in 1.2. Please use get_feature_names_out instead.\n"
          ]
        },
        {
          "data": {
            "text/plain": [
              "array(['x0_Group', 'x0_Transient', 'x0_Transient-Party', 'x1_Non Refund',\n",
              "       'x1_Refundable', 'x2_Complementary', 'x2_Corporate', 'x2_Direct',\n",
              "       'x2_Groups', 'x2_Offline TA/TO', 'x2_Online TA'], dtype=object)"
            ]
          },
          "execution_count": 149,
          "metadata": {},
          "output_type": "execute_result"
        }
      ],
      "source": [
        "transformer_full.transformers_[0][1].get_feature_names()"
      ]
    },
    {
      "cell_type": "code",
      "execution_count": null,
      "id": "08115b40",
      "metadata": {
        "id": "08115b40",
        "outputId": "14dd4ac0-790e-4d12-f2f5-ca914965568e"
      },
      "outputs": [
        {
          "data": {
            "text/plain": [
              "['0_0', '0_1', '0_2', '0_3', '0_4', '0_5', '0_6', '0_7']"
            ]
          },
          "execution_count": 150,
          "metadata": {},
          "output_type": "execute_result"
        }
      ],
      "source": [
        "transformer_full.transformers_[1][1][1].get_feature_names()"
      ]
    },
    {
      "cell_type": "code",
      "execution_count": null,
      "id": "de4b0f9e",
      "metadata": {
        "id": "de4b0f9e",
        "outputId": "3b522d6e-914d-4dfd-d28a-a4a79d31802f"
      },
      "outputs": [
        {
          "data": {
            "text/plain": [
              "['room_0', 'room_1', 'room_2', 'room_3']"
            ]
          },
          "execution_count": 151,
          "metadata": {},
          "output_type": "execute_result"
        }
      ],
      "source": [
        "transformer_full.transformers_[2][1].get_feature_names()"
      ]
    },
    {
      "cell_type": "code",
      "execution_count": null,
      "id": "8ca1fbee",
      "metadata": {
        "id": "8ca1fbee",
        "outputId": "6d9f6608-ecd5-4f7a-eb1c-8700ccadc8df"
      },
      "outputs": [
        {
          "name": "stderr",
          "output_type": "stream",
          "text": [
            "/Users/yudhapratama/opt/anaconda3/lib/python3.9/site-packages/sklearn/utils/deprecation.py:87: FutureWarning: Function get_feature_names is deprecated; get_feature_names is deprecated in 1.0 and will be removed in 1.2. Please use get_feature_names_out instead.\n",
            "  warnings.warn(msg, category=FutureWarning)\n"
          ]
        },
        {
          "data": {
            "text/html": [
              "<div>\n",
              "<style scoped>\n",
              "    .dataframe tbody tr th:only-of-type {\n",
              "        vertical-align: middle;\n",
              "    }\n",
              "\n",
              "    .dataframe tbody tr th {\n",
              "        vertical-align: top;\n",
              "    }\n",
              "\n",
              "    .dataframe thead th {\n",
              "        text-align: right;\n",
              "    }\n",
              "</style>\n",
              "<table border=\"1\" class=\"dataframe\">\n",
              "  <thead>\n",
              "    <tr style=\"text-align: right;\">\n",
              "      <th></th>\n",
              "      <th>x0_Group</th>\n",
              "      <th>x0_Transient</th>\n",
              "      <th>x0_Transient-Party</th>\n",
              "      <th>x1_Non Refund</th>\n",
              "      <th>x1_Refundable</th>\n",
              "      <th>x2_Complementary</th>\n",
              "      <th>x2_Corporate</th>\n",
              "      <th>x2_Direct</th>\n",
              "      <th>x2_Groups</th>\n",
              "      <th>x2_Offline TA/TO</th>\n",
              "      <th>...</th>\n",
              "      <th>0_7</th>\n",
              "      <th>room_0</th>\n",
              "      <th>room_1</th>\n",
              "      <th>room_2</th>\n",
              "      <th>room_3</th>\n",
              "      <th>prevCanc</th>\n",
              "      <th>bookCh</th>\n",
              "      <th>waitingList</th>\n",
              "      <th>parkingSpace</th>\n",
              "      <th>request</th>\n",
              "    </tr>\n",
              "  </thead>\n",
              "  <tbody>\n",
              "    <tr>\n",
              "      <th>0</th>\n",
              "      <td>0.0</td>\n",
              "      <td>1.0</td>\n",
              "      <td>0.0</td>\n",
              "      <td>0.0</td>\n",
              "      <td>0.0</td>\n",
              "      <td>0.0</td>\n",
              "      <td>0.0</td>\n",
              "      <td>0.0</td>\n",
              "      <td>0.0</td>\n",
              "      <td>0.0</td>\n",
              "      <td>...</td>\n",
              "      <td>1.0</td>\n",
              "      <td>0.0</td>\n",
              "      <td>0.0</td>\n",
              "      <td>1.0</td>\n",
              "      <td>1.0</td>\n",
              "      <td>0.0</td>\n",
              "      <td>0.0</td>\n",
              "      <td>0.0</td>\n",
              "      <td>0.0</td>\n",
              "      <td>2.0</td>\n",
              "    </tr>\n",
              "    <tr>\n",
              "      <th>1</th>\n",
              "      <td>0.0</td>\n",
              "      <td>1.0</td>\n",
              "      <td>0.0</td>\n",
              "      <td>0.0</td>\n",
              "      <td>0.0</td>\n",
              "      <td>0.0</td>\n",
              "      <td>0.0</td>\n",
              "      <td>0.0</td>\n",
              "      <td>0.0</td>\n",
              "      <td>0.0</td>\n",
              "      <td>...</td>\n",
              "      <td>0.0</td>\n",
              "      <td>0.0</td>\n",
              "      <td>0.0</td>\n",
              "      <td>0.0</td>\n",
              "      <td>1.0</td>\n",
              "      <td>0.0</td>\n",
              "      <td>0.0</td>\n",
              "      <td>0.0</td>\n",
              "      <td>0.0</td>\n",
              "      <td>0.0</td>\n",
              "    </tr>\n",
              "    <tr>\n",
              "      <th>2</th>\n",
              "      <td>0.0</td>\n",
              "      <td>1.0</td>\n",
              "      <td>0.0</td>\n",
              "      <td>1.0</td>\n",
              "      <td>0.0</td>\n",
              "      <td>0.0</td>\n",
              "      <td>0.0</td>\n",
              "      <td>0.0</td>\n",
              "      <td>1.0</td>\n",
              "      <td>0.0</td>\n",
              "      <td>...</td>\n",
              "      <td>1.0</td>\n",
              "      <td>0.0</td>\n",
              "      <td>0.0</td>\n",
              "      <td>0.0</td>\n",
              "      <td>1.0</td>\n",
              "      <td>0.0</td>\n",
              "      <td>0.0</td>\n",
              "      <td>0.0</td>\n",
              "      <td>0.0</td>\n",
              "      <td>0.0</td>\n",
              "    </tr>\n",
              "    <tr>\n",
              "      <th>3</th>\n",
              "      <td>0.0</td>\n",
              "      <td>1.0</td>\n",
              "      <td>0.0</td>\n",
              "      <td>0.0</td>\n",
              "      <td>0.0</td>\n",
              "      <td>0.0</td>\n",
              "      <td>0.0</td>\n",
              "      <td>0.0</td>\n",
              "      <td>0.0</td>\n",
              "      <td>0.0</td>\n",
              "      <td>...</td>\n",
              "      <td>1.0</td>\n",
              "      <td>0.0</td>\n",
              "      <td>0.0</td>\n",
              "      <td>1.0</td>\n",
              "      <td>1.0</td>\n",
              "      <td>0.0</td>\n",
              "      <td>0.0</td>\n",
              "      <td>0.0</td>\n",
              "      <td>0.0</td>\n",
              "      <td>2.0</td>\n",
              "    </tr>\n",
              "    <tr>\n",
              "      <th>4</th>\n",
              "      <td>0.0</td>\n",
              "      <td>1.0</td>\n",
              "      <td>0.0</td>\n",
              "      <td>0.0</td>\n",
              "      <td>0.0</td>\n",
              "      <td>0.0</td>\n",
              "      <td>0.0</td>\n",
              "      <td>0.0</td>\n",
              "      <td>0.0</td>\n",
              "      <td>0.0</td>\n",
              "      <td>...</td>\n",
              "      <td>1.0</td>\n",
              "      <td>0.0</td>\n",
              "      <td>0.0</td>\n",
              "      <td>1.0</td>\n",
              "      <td>0.0</td>\n",
              "      <td>0.0</td>\n",
              "      <td>0.0</td>\n",
              "      <td>0.0</td>\n",
              "      <td>0.0</td>\n",
              "      <td>0.0</td>\n",
              "    </tr>\n",
              "    <tr>\n",
              "      <th>...</th>\n",
              "      <td>...</td>\n",
              "      <td>...</td>\n",
              "      <td>...</td>\n",
              "      <td>...</td>\n",
              "      <td>...</td>\n",
              "      <td>...</td>\n",
              "      <td>...</td>\n",
              "      <td>...</td>\n",
              "      <td>...</td>\n",
              "      <td>...</td>\n",
              "      <td>...</td>\n",
              "      <td>...</td>\n",
              "      <td>...</td>\n",
              "      <td>...</td>\n",
              "      <td>...</td>\n",
              "      <td>...</td>\n",
              "      <td>...</td>\n",
              "      <td>...</td>\n",
              "      <td>...</td>\n",
              "      <td>...</td>\n",
              "      <td>...</td>\n",
              "    </tr>\n",
              "    <tr>\n",
              "      <th>16710</th>\n",
              "      <td>0.0</td>\n",
              "      <td>1.0</td>\n",
              "      <td>0.0</td>\n",
              "      <td>0.0</td>\n",
              "      <td>0.0</td>\n",
              "      <td>0.0</td>\n",
              "      <td>0.0</td>\n",
              "      <td>0.0</td>\n",
              "      <td>0.0</td>\n",
              "      <td>0.0</td>\n",
              "      <td>...</td>\n",
              "      <td>1.0</td>\n",
              "      <td>0.0</td>\n",
              "      <td>0.0</td>\n",
              "      <td>1.0</td>\n",
              "      <td>1.0</td>\n",
              "      <td>0.0</td>\n",
              "      <td>0.0</td>\n",
              "      <td>0.0</td>\n",
              "      <td>0.0</td>\n",
              "      <td>1.0</td>\n",
              "    </tr>\n",
              "    <tr>\n",
              "      <th>16711</th>\n",
              "      <td>0.0</td>\n",
              "      <td>1.0</td>\n",
              "      <td>0.0</td>\n",
              "      <td>0.0</td>\n",
              "      <td>0.0</td>\n",
              "      <td>0.0</td>\n",
              "      <td>0.0</td>\n",
              "      <td>0.0</td>\n",
              "      <td>0.0</td>\n",
              "      <td>0.0</td>\n",
              "      <td>...</td>\n",
              "      <td>1.0</td>\n",
              "      <td>0.0</td>\n",
              "      <td>0.0</td>\n",
              "      <td>0.0</td>\n",
              "      <td>1.0</td>\n",
              "      <td>0.0</td>\n",
              "      <td>0.0</td>\n",
              "      <td>0.0</td>\n",
              "      <td>0.0</td>\n",
              "      <td>1.0</td>\n",
              "    </tr>\n",
              "    <tr>\n",
              "      <th>16712</th>\n",
              "      <td>0.0</td>\n",
              "      <td>1.0</td>\n",
              "      <td>0.0</td>\n",
              "      <td>0.0</td>\n",
              "      <td>0.0</td>\n",
              "      <td>0.0</td>\n",
              "      <td>1.0</td>\n",
              "      <td>0.0</td>\n",
              "      <td>0.0</td>\n",
              "      <td>0.0</td>\n",
              "      <td>...</td>\n",
              "      <td>1.0</td>\n",
              "      <td>0.0</td>\n",
              "      <td>0.0</td>\n",
              "      <td>0.0</td>\n",
              "      <td>1.0</td>\n",
              "      <td>0.0</td>\n",
              "      <td>0.0</td>\n",
              "      <td>0.0</td>\n",
              "      <td>1.0</td>\n",
              "      <td>0.0</td>\n",
              "    </tr>\n",
              "    <tr>\n",
              "      <th>16713</th>\n",
              "      <td>0.0</td>\n",
              "      <td>1.0</td>\n",
              "      <td>0.0</td>\n",
              "      <td>0.0</td>\n",
              "      <td>0.0</td>\n",
              "      <td>0.0</td>\n",
              "      <td>0.0</td>\n",
              "      <td>1.0</td>\n",
              "      <td>0.0</td>\n",
              "      <td>0.0</td>\n",
              "      <td>...</td>\n",
              "      <td>1.0</td>\n",
              "      <td>0.0</td>\n",
              "      <td>0.0</td>\n",
              "      <td>0.0</td>\n",
              "      <td>1.0</td>\n",
              "      <td>0.0</td>\n",
              "      <td>0.0</td>\n",
              "      <td>2.0</td>\n",
              "      <td>0.0</td>\n",
              "      <td>0.0</td>\n",
              "    </tr>\n",
              "    <tr>\n",
              "      <th>16714</th>\n",
              "      <td>0.0</td>\n",
              "      <td>1.0</td>\n",
              "      <td>0.0</td>\n",
              "      <td>1.0</td>\n",
              "      <td>0.0</td>\n",
              "      <td>0.0</td>\n",
              "      <td>0.0</td>\n",
              "      <td>0.0</td>\n",
              "      <td>1.0</td>\n",
              "      <td>0.0</td>\n",
              "      <td>...</td>\n",
              "      <td>1.0</td>\n",
              "      <td>0.0</td>\n",
              "      <td>0.0</td>\n",
              "      <td>0.0</td>\n",
              "      <td>1.0</td>\n",
              "      <td>0.0</td>\n",
              "      <td>0.0</td>\n",
              "      <td>0.0</td>\n",
              "      <td>0.0</td>\n",
              "      <td>0.0</td>\n",
              "    </tr>\n",
              "  </tbody>\n",
              "</table>\n",
              "<p>16715 rows × 28 columns</p>\n",
              "</div>"
            ],
            "text/plain": [
              "       x0_Group  x0_Transient  x0_Transient-Party  x1_Non Refund  \\\n",
              "0           0.0           1.0                 0.0            0.0   \n",
              "1           0.0           1.0                 0.0            0.0   \n",
              "2           0.0           1.0                 0.0            1.0   \n",
              "3           0.0           1.0                 0.0            0.0   \n",
              "4           0.0           1.0                 0.0            0.0   \n",
              "...         ...           ...                 ...            ...   \n",
              "16710       0.0           1.0                 0.0            0.0   \n",
              "16711       0.0           1.0                 0.0            0.0   \n",
              "16712       0.0           1.0                 0.0            0.0   \n",
              "16713       0.0           1.0                 0.0            0.0   \n",
              "16714       0.0           1.0                 0.0            1.0   \n",
              "\n",
              "       x1_Refundable  x2_Complementary  x2_Corporate  x2_Direct  x2_Groups  \\\n",
              "0                0.0               0.0           0.0        0.0        0.0   \n",
              "1                0.0               0.0           0.0        0.0        0.0   \n",
              "2                0.0               0.0           0.0        0.0        1.0   \n",
              "3                0.0               0.0           0.0        0.0        0.0   \n",
              "4                0.0               0.0           0.0        0.0        0.0   \n",
              "...              ...               ...           ...        ...        ...   \n",
              "16710            0.0               0.0           0.0        0.0        0.0   \n",
              "16711            0.0               0.0           0.0        0.0        0.0   \n",
              "16712            0.0               0.0           1.0        0.0        0.0   \n",
              "16713            0.0               0.0           0.0        1.0        0.0   \n",
              "16714            0.0               0.0           0.0        0.0        1.0   \n",
              "\n",
              "       x2_Offline TA/TO  ...  0_7  room_0  room_1  room_2  room_3  prevCanc  \\\n",
              "0                   0.0  ...  1.0     0.0     0.0     1.0     1.0       0.0   \n",
              "1                   0.0  ...  0.0     0.0     0.0     0.0     1.0       0.0   \n",
              "2                   0.0  ...  1.0     0.0     0.0     0.0     1.0       0.0   \n",
              "3                   0.0  ...  1.0     0.0     0.0     1.0     1.0       0.0   \n",
              "4                   0.0  ...  1.0     0.0     0.0     1.0     0.0       0.0   \n",
              "...                 ...  ...  ...     ...     ...     ...     ...       ...   \n",
              "16710               0.0  ...  1.0     0.0     0.0     1.0     1.0       0.0   \n",
              "16711               0.0  ...  1.0     0.0     0.0     0.0     1.0       0.0   \n",
              "16712               0.0  ...  1.0     0.0     0.0     0.0     1.0       0.0   \n",
              "16713               0.0  ...  1.0     0.0     0.0     0.0     1.0       0.0   \n",
              "16714               0.0  ...  1.0     0.0     0.0     0.0     1.0       0.0   \n",
              "\n",
              "       bookCh  waitingList  parkingSpace  request  \n",
              "0         0.0          0.0           0.0      2.0  \n",
              "1         0.0          0.0           0.0      0.0  \n",
              "2         0.0          0.0           0.0      0.0  \n",
              "3         0.0          0.0           0.0      2.0  \n",
              "4         0.0          0.0           0.0      0.0  \n",
              "...       ...          ...           ...      ...  \n",
              "16710     0.0          0.0           0.0      1.0  \n",
              "16711     0.0          0.0           0.0      1.0  \n",
              "16712     0.0          0.0           1.0      0.0  \n",
              "16713     0.0          2.0           0.0      0.0  \n",
              "16714     0.0          0.0           0.0      0.0  \n",
              "\n",
              "[16715 rows x 28 columns]"
            ]
          },
          "execution_count": 109,
          "metadata": {},
          "output_type": "execute_result"
        }
      ],
      "source": [
        "features = list(transformer_aja.transformers_[0][1].get_feature_names()) + transformer_aja.transformers_[1][1][1].get_feature_names() + transformer_aja.transformers_[2][1].get_feature_names() + ['prevCanc','bookCh','waitingList','parkingSpace','request']\n",
        "X_train_preprep_m.columns = features\n",
        "X_test_preprep_m.columns = features\n",
        "X_test_preprep_m"
      ]
    },
    {
      "cell_type": "markdown",
      "id": "88a15574",
      "metadata": {
        "id": "88a15574"
      },
      "source": [
        "# Feature Selection"
      ]
    },
    {
      "cell_type": "markdown",
      "id": "9af84283",
      "metadata": {
        "id": "9af84283"
      },
      "source": [
        "Ada 3 tipe feature selection, univariate feat selection, model based feature selection, iterative feature selection.\n",
        "Kekurangan dari univaraiate feature selection adalah '* it cant capture interaction*'. Sehingga, beberapa fitur yang malah dihilangkan bisa jadi berperan pada model yang ingn digunakan. Ketika pakai model based, karena ada interaksi dengan model sehingga akan lebih optimal. Namun, akan memakan waktu lebih lama. Iterative lebih lama lagi. Karena melihat perubahan nilai feature importance. Untuk kali ini saya akan melakukan feature selection dengan menggunakan model based melalui model rf."
      ]
    },
    {
      "cell_type": "markdown",
      "source": [
        "## Model Based Feature Importance"
      ],
      "metadata": {
        "id": "tF3LEau1K0go"
      },
      "id": "tF3LEau1K0go"
    },
    {
      "cell_type": "code",
      "execution_count": null,
      "id": "43d07f12",
      "metadata": {
        "id": "43d07f12"
      },
      "outputs": [],
      "source": [
        "#Modelling sederhana dulu"
      ]
    },
    {
      "cell_type": "code",
      "execution_count": null,
      "id": "f3d18c7b",
      "metadata": {
        "id": "f3d18c7b"
      },
      "outputs": [],
      "source": [
        "rf = RandomForestClassifier(random_state= 1945)"
      ]
    },
    {
      "cell_type": "code",
      "execution_count": null,
      "id": "e47b41c9",
      "metadata": {
        "id": "e47b41c9",
        "outputId": "ff517f9a-e74b-456a-bd6c-30b98408e619"
      },
      "outputs": [
        {
          "data": {
            "text/plain": [
              "RandomForestClassifier(random_state=1945)"
            ]
          },
          "execution_count": 255,
          "metadata": {},
          "output_type": "execute_result"
        }
      ],
      "source": [
        "rf.fit(X_train_preprep_m,y_train)"
      ]
    },
    {
      "cell_type": "code",
      "execution_count": null,
      "id": "7e335ac1",
      "metadata": {
        "id": "7e335ac1",
        "outputId": "ff5081f3-4f2d-4625-998b-5421f3633f51"
      },
      "outputs": [
        {
          "name": "stdout",
          "output_type": "stream",
          "text": [
            "RANDOM FOREST TEST SET\n",
            "[[9312 1247]\n",
            " [1941 4215]]\n",
            "              precision    recall  f1-score   support\n",
            "\n",
            "           0       0.83      0.88      0.85     10559\n",
            "           1       0.77      0.68      0.73      6156\n",
            "\n",
            "    accuracy                           0.81     16715\n",
            "   macro avg       0.80      0.78      0.79     16715\n",
            "weighted avg       0.81      0.81      0.81     16715\n",
            "\n"
          ]
        },
        {
          "data": {
            "text/plain": [
              "0.8092731079868382"
            ]
          },
          "execution_count": 256,
          "metadata": {},
          "output_type": "execute_result"
        }
      ],
      "source": [
        "print('RANDOM FOREST TEST SET')\n",
        "y_pred=rf.predict(X_test_preprep_m)\n",
        "conf =print(confusion_matrix(y_test, y_pred))\n",
        "clf =print(classification_report(y_test, y_pred))\n",
        "score=accuracy_score(y_test,y_pred)\n",
        "score"
      ]
    },
    {
      "cell_type": "code",
      "execution_count": null,
      "id": "5abac647",
      "metadata": {
        "id": "5abac647",
        "outputId": "c3599798-a232-485a-bfe6-89e05e9d7b2c"
      },
      "outputs": [
        {
          "name": "stdout",
          "output_type": "stream",
          "text": [
            "[0.0014384  0.03364394 0.02111431 0.27621388 0.00050231 0.00201001\n",
            " 0.01524834 0.01882619 0.03179599 0.02472316 0.05797231 0.00061694\n",
            " 0.00554233 0.01243396 0.02039416 0.04247858 0.02249488 0.06272978\n",
            " 0.01586233 0.0030292  0.00912019 0.01480057 0.01125345 0.01303892\n",
            " 0.07022151 0.05062238 0.05142119 0.11045075]\n"
          ]
        },
        {
          "data": {
            "image/png": "[encoded data removed]",
            "text/plain": [
              "<Figure size 640x480 with 1 Axes>"
            ]
          },
          "metadata": {},
          "output_type": "display_data"
        }
      ],
      "source": [
        "rf.fit(X_train_preprep_m,y_train)  \n",
        "print(rf.feature_importances_)\n",
        "importances = rf.feature_importances_\n",
        "indices = np.argsort(importances)\n",
        "features = pd.DataFrame(X_train_preprep_m).columns\n",
        "plt.title('Feature Importances')\n",
        "plt.barh(range(len(indices)), importances[indices], color='b', align='center')\n",
        "plt.yticks(range(len(indices)), [features[i] for i in indices])\n",
        "plt.xlabel('Relative Importance')\n",
        "plt.show()"
      ]
    },
    {
      "cell_type": "markdown",
      "source": [
        "## SHAP value"
      ],
      "metadata": {
        "id": "RnXam1KlK5XT"
      },
      "id": "RnXam1KlK5XT"
    },
    {
      "cell_type": "code",
      "execution_count": null,
      "id": "1c9fa512",
      "metadata": {
        "id": "1c9fa512"
      },
      "outputs": [],
      "source": [
        "import shap"
      ]
    },
    {
      "cell_type": "code",
      "execution_count": null,
      "id": "a7a33bdc",
      "metadata": {
        "scrolled": true,
        "id": "a7a33bdc",
        "outputId": "a6ac08a6-adb6-4451-a082-a2c478d40eb1"
      },
      "outputs": [
        {
          "name": "stdout",
          "output_type": "stream",
          "text": [
            "<class 'pandas.core.frame.DataFrame'>\n",
            "RangeIndex: 83573 entries, 0 to 83572\n",
            "Data columns (total 11 columns):\n",
            " #   Column        Non-Null Count  Dtype \n",
            "---  ------        --------------  ----- \n",
            " 0   country       83573 non-null  object\n",
            " 1   market        83573 non-null  object\n",
            " 2   prevCanc      83573 non-null  int64 \n",
            " 3   bookCh        83573 non-null  int64 \n",
            " 4   deposit       83573 non-null  object\n",
            " 5   waitingList   83573 non-null  int64 \n",
            " 6   customer      83573 non-null  object\n",
            " 7   room          83573 non-null  object\n",
            " 8   parkingSpace  83573 non-null  int64 \n",
            " 9   request       83573 non-null  int64 \n",
            " 10  cancel        83573 non-null  int64 \n",
            "dtypes: int64(6), object(5)\n",
            "memory usage: 7.0+ MB\n"
          ]
        }
      ],
      "source": [
        "df.info()"
      ]
    },
    {
      "cell_type": "code",
      "execution_count": null,
      "id": "a66c0963",
      "metadata": {
        "id": "a66c0963"
      },
      "outputs": [],
      "source": [
        "explainer = shap.TreeExplainer(rf)\n",
        "shap_values = explainer.shap_values(X_test_preprep_m)"
      ]
    },
    {
      "cell_type": "code",
      "execution_count": null,
      "id": "5ad09902",
      "metadata": {
        "id": "5ad09902",
        "outputId": "f305b608-1921-4892-e4df-33fa411ff004"
      },
      "outputs": [
        {
          "data": {
            "image/png": "[encoded data removed]",
            "text/plain": [
              "<Figure size 800x950 with 1 Axes>"
            ]
          },
          "metadata": {},
          "output_type": "display_data"
        }
      ],
      "source": [
        "shap.summary_plot(shap_values, X_test_preprep_m, plot_type=\"bar\")"
      ]
    },
    {
      "cell_type": "markdown",
      "source": [
        "Selain menggunakan feature importance bawaan dari random forest. Saya juga menggunakan SHAP. SHAP atau Shapley Additive Explanation merupakan salah satu cara untuk menjelaskan bagaimana machine learning yang dipergunakan bekerja. Pada kali ini saya menggunakannya dalam bentuk barplot. Hasil dari kedua proses tersebut menunjukan beberapa fitur yang paling signifikan diantaranya adalah :\n",
        "Deposit, Market , Request, Customer dan parking space.\n",
        "\n",
        "Documentasi shap ada disini :\n",
        "[SHAP documentation](https://shap.readthedocs.io/en/latest/index.html)"
      ],
      "metadata": {
        "id": "J4HS1hEZHZJo"
      },
      "id": "J4HS1hEZHZJo"
    },
    {
      "cell_type": "code",
      "execution_count": null,
      "id": "3e857296",
      "metadata": {
        "id": "3e857296",
        "outputId": "f6faa801-1a29-4194-ce16-de86819128af"
      },
      "outputs": [
        {
          "data": {
            "text/html": [
              "<div>\n",
              "<style scoped>\n",
              "    .dataframe tbody tr th:only-of-type {\n",
              "        vertical-align: middle;\n",
              "    }\n",
              "\n",
              "    .dataframe tbody tr th {\n",
              "        vertical-align: top;\n",
              "    }\n",
              "\n",
              "    .dataframe thead th {\n",
              "        text-align: right;\n",
              "    }\n",
              "</style>\n",
              "<table border=\"1\" class=\"dataframe\">\n",
              "  <thead>\n",
              "    <tr style=\"text-align: right;\">\n",
              "      <th></th>\n",
              "      <th>country</th>\n",
              "      <th>market</th>\n",
              "      <th>prevCanc</th>\n",
              "      <th>bookCh</th>\n",
              "      <th>deposit</th>\n",
              "      <th>waitingList</th>\n",
              "      <th>customer</th>\n",
              "      <th>room</th>\n",
              "      <th>parkingSpace</th>\n",
              "      <th>request</th>\n",
              "      <th>cancel</th>\n",
              "    </tr>\n",
              "  </thead>\n",
              "  <tbody>\n",
              "    <tr>\n",
              "      <th>0</th>\n",
              "      <td>IRL</td>\n",
              "      <td>Offline TA/TO</td>\n",
              "      <td>0</td>\n",
              "      <td>0</td>\n",
              "      <td>No Deposit</td>\n",
              "      <td>0</td>\n",
              "      <td>Transient-Party</td>\n",
              "      <td>A</td>\n",
              "      <td>0</td>\n",
              "      <td>0</td>\n",
              "      <td>0</td>\n",
              "    </tr>\n",
              "    <tr>\n",
              "      <th>1</th>\n",
              "      <td>FRA</td>\n",
              "      <td>Online TA</td>\n",
              "      <td>0</td>\n",
              "      <td>0</td>\n",
              "      <td>No Deposit</td>\n",
              "      <td>0</td>\n",
              "      <td>Transient</td>\n",
              "      <td>A</td>\n",
              "      <td>0</td>\n",
              "      <td>2</td>\n",
              "      <td>0</td>\n",
              "    </tr>\n",
              "    <tr>\n",
              "      <th>2</th>\n",
              "      <td>PRT</td>\n",
              "      <td>Online TA</td>\n",
              "      <td>0</td>\n",
              "      <td>1</td>\n",
              "      <td>No Deposit</td>\n",
              "      <td>0</td>\n",
              "      <td>Transient</td>\n",
              "      <td>A</td>\n",
              "      <td>0</td>\n",
              "      <td>2</td>\n",
              "      <td>0</td>\n",
              "    </tr>\n",
              "    <tr>\n",
              "      <th>3</th>\n",
              "      <td>NLD</td>\n",
              "      <td>Online TA</td>\n",
              "      <td>0</td>\n",
              "      <td>0</td>\n",
              "      <td>No Deposit</td>\n",
              "      <td>0</td>\n",
              "      <td>Transient</td>\n",
              "      <td>A</td>\n",
              "      <td>0</td>\n",
              "      <td>1</td>\n",
              "      <td>1</td>\n",
              "    </tr>\n",
              "    <tr>\n",
              "      <th>4</th>\n",
              "      <td>PRT</td>\n",
              "      <td>Online TA</td>\n",
              "      <td>0</td>\n",
              "      <td>2</td>\n",
              "      <td>No Deposit</td>\n",
              "      <td>0</td>\n",
              "      <td>Transient</td>\n",
              "      <td>A</td>\n",
              "      <td>0</td>\n",
              "      <td>2</td>\n",
              "      <td>0</td>\n",
              "    </tr>\n",
              "  </tbody>\n",
              "</table>\n",
              "</div>"
            ],
            "text/plain": [
              "  country         market  prevCanc  bookCh     deposit  waitingList  \\\n",
              "0     IRL  Offline TA/TO         0       0  No Deposit            0   \n",
              "1     FRA      Online TA         0       0  No Deposit            0   \n",
              "2     PRT      Online TA         0       1  No Deposit            0   \n",
              "3     NLD      Online TA         0       0  No Deposit            0   \n",
              "4     PRT      Online TA         0       2  No Deposit            0   \n",
              "\n",
              "          customer room  parkingSpace  request  cancel  \n",
              "0  Transient-Party    A             0        0       0  \n",
              "1        Transient    A             0        2       0  \n",
              "2        Transient    A             0        2       0  \n",
              "3        Transient    A             0        1       1  \n",
              "4        Transient    A             0        2       0  "
            ]
          },
          "execution_count": 191,
          "metadata": {},
          "output_type": "execute_result"
        }
      ],
      "source": [
        "df.head()"
      ]
    },
    {
      "cell_type": "code",
      "execution_count": null,
      "id": "7856a830",
      "metadata": {
        "id": "7856a830"
      },
      "outputs": [],
      "source": [
        "X_train_selected = X_train[['country','market','bookCh','deposit','customer','parkingSpace']]\n",
        "X_test_selected = X_test[['country','market','bookCh','deposit','customer','parkingSpace']]"
      ]
    },
    {
      "cell_type": "markdown",
      "source": [
        "Sayangnya, penerapan binning dan pengurangan feature tidak membantu meningkatnya performa dalam permodelan yang saya lakukan sebelumnya. Hasil permodelan tersebut tidak saya sematkan pada notebook ini secara komprehensif, namun bisa dilihat salah satu contohnya pada bagian komprehensif test pada test set. Meskipun begitu pada permodelan random forest saya melakukan tuning terhadap feature yang digunakan dalam splitting. Maka dari itu proses kedepan saya akan tetap menggunakan fitur seperti yang ada di awal."
      ],
      "metadata": {
        "id": "OoIRsNW9Gyly"
      },
      "id": "OoIRsNW9Gyly"
    },
    {
      "cell_type": "markdown",
      "id": "2f29bc40",
      "metadata": {
        "id": "2f29bc40"
      },
      "source": [
        "# Pemilihan Model"
      ]
    },
    {
      "cell_type": "code",
      "execution_count": null,
      "id": "58a7d085",
      "metadata": {
        "id": "58a7d085"
      },
      "outputs": [],
      "source": [
        "#Models\n",
        "tree = DecisionTreeClassifier(random_state=1945)\n",
        "ada = AdaBoostClassifier(tree, random_state=1945)\n",
        "logreg = LogisticRegression(solver= 'liblinear',random_state=1945)\n",
        "knn = KNeighborsClassifier()\n",
        "rfc = RandomForestClassifier(random_state= 1945)\n",
        "xgb = XGBClassifier(random_state=1945, verbosity=0) "
      ]
    },
    {
      "cell_type": "markdown",
      "source": [
        "Berikut adalah beberapa kandidat model yang akan digunakan. Beberapa diantaranya adalah base model seperti tree, logistic dan knn. Ensembel model bagging dengan random forest dan Ensembel model boosting yaitu ada boost dan XGboost. Semua random state dinyatakan sama."
      ],
      "metadata": {
        "id": "E0q7h0JKK_Ag"
      },
      "id": "E0q7h0JKK_Ag"
    },
    {
      "cell_type": "markdown",
      "id": "2f5bc16f",
      "metadata": {
        "id": "2f5bc16f"
      },
      "source": [
        "## K-fold Benchmarking"
      ]
    },
    {
      "cell_type": "markdown",
      "source": [
        "Dalam menyeleksi model yang akan digunakan, saya mengguanakan metode cross validation. kita akan melihat seberapa baik kandidat model dalam melihat unseen data"
      ],
      "metadata": {
        "id": "-jBnD2niOspq"
      },
      "id": "-jBnD2niOspq"
    },
    {
      "cell_type": "markdown",
      "id": "3e108e50",
      "metadata": {
        "id": "3e108e50"
      },
      "source": [
        "### K-Fold dengan forloop untuk roc_auc"
      ]
    },
    {
      "cell_type": "code",
      "execution_count": null,
      "id": "73e85473",
      "metadata": {
        "id": "73e85473",
        "outputId": "7db27608-d29b-4757-ad87-08ef253fcdbd"
      },
      "outputs": [
        {
          "name": "stderr",
          "output_type": "stream",
          "text": [
            "The use of label encoder in XGBClassifier is deprecated and will be removed in a future release. To remove this warning, do the following: 1) Pass option use_label_encoder=False when constructing XGBClassifier object; and 2) Encode your labels (y) as integers starting with 0, i.e. 0, 1, 2, ..., [num_class - 1].\n",
            "The use of label encoder in XGBClassifier is deprecated and will be removed in a future release. To remove this warning, do the following: 1) Pass option use_label_encoder=False when constructing XGBClassifier object; and 2) Encode your labels (y) as integers starting with 0, i.e. 0, 1, 2, ..., [num_class - 1].\n",
            "The use of label encoder in XGBClassifier is deprecated and will be removed in a future release. To remove this warning, do the following: 1) Pass option use_label_encoder=False when constructing XGBClassifier object; and 2) Encode your labels (y) as integers starting with 0, i.e. 0, 1, 2, ..., [num_class - 1].\n",
            "The use of label encoder in XGBClassifier is deprecated and will be removed in a future release. To remove this warning, do the following: 1) Pass option use_label_encoder=False when constructing XGBClassifier object; and 2) Encode your labels (y) as integers starting with 0, i.e. 0, 1, 2, ..., [num_class - 1].\n",
            "The use of label encoder in XGBClassifier is deprecated and will be removed in a future release. To remove this warning, do the following: 1) Pass option use_label_encoder=False when constructing XGBClassifier object; and 2) Encode your labels (y) as integers starting with 0, i.e. 0, 1, 2, ..., [num_class - 1].\n"
          ]
        },
        {
          "data": {
            "text/html": [
              "<div>\n",
              "<style scoped>\n",
              "    .dataframe tbody tr th:only-of-type {\n",
              "        vertical-align: middle;\n",
              "    }\n",
              "\n",
              "    .dataframe tbody tr th {\n",
              "        vertical-align: top;\n",
              "    }\n",
              "\n",
              "    .dataframe thead th {\n",
              "        text-align: right;\n",
              "    }\n",
              "</style>\n",
              "<table border=\"1\" class=\"dataframe\">\n",
              "  <thead>\n",
              "    <tr style=\"text-align: right;\">\n",
              "      <th></th>\n",
              "      <th>mean roc_auc</th>\n",
              "      <th>sdev</th>\n",
              "    </tr>\n",
              "    <tr>\n",
              "      <th>model</th>\n",
              "      <th></th>\n",
              "      <th></th>\n",
              "    </tr>\n",
              "  </thead>\n",
              "  <tbody>\n",
              "    <tr>\n",
              "      <th>XGBoost</th>\n",
              "      <td>0.894028</td>\n",
              "      <td>0.001396</td>\n",
              "    </tr>\n",
              "    <tr>\n",
              "      <th>Random Forest</th>\n",
              "      <td>0.888638</td>\n",
              "      <td>0.001203</td>\n",
              "    </tr>\n",
              "    <tr>\n",
              "      <th>AdBoost</th>\n",
              "      <td>0.882338</td>\n",
              "      <td>0.003014</td>\n",
              "    </tr>\n",
              "    <tr>\n",
              "      <th>Decision Tree</th>\n",
              "      <td>0.877918</td>\n",
              "      <td>0.002405</td>\n",
              "    </tr>\n",
              "    <tr>\n",
              "      <th>Logistic Regression</th>\n",
              "      <td>0.849345</td>\n",
              "      <td>0.002808</td>\n",
              "    </tr>\n",
              "    <tr>\n",
              "      <th>KNN</th>\n",
              "      <td>0.848168</td>\n",
              "      <td>0.003270</td>\n",
              "    </tr>\n",
              "  </tbody>\n",
              "</table>\n",
              "</div>"
            ],
            "text/plain": [
              "                     mean roc_auc      sdev\n",
              "model                                      \n",
              "XGBoost                  0.894028  0.001396\n",
              "Random Forest            0.888638  0.001203\n",
              "AdBoost                  0.882338  0.003014\n",
              "Decision Tree            0.877918  0.002405\n",
              "Logistic Regression      0.849345  0.002808\n",
              "KNN                      0.848168  0.003270"
            ]
          },
          "execution_count": 295,
          "metadata": {},
          "output_type": "execute_result"
        }
      ],
      "source": [
        "models = [logreg,knn,tree,rfc,xgb,ada]\n",
        "score=[]\n",
        "rata=[]\n",
        "std=[]\n",
        "\n",
        "for i in models:\n",
        "    skfold=StratifiedKFold(n_splits=5)\n",
        "    estimator=Pipeline([\n",
        "        ('preprocess',transformer),\n",
        "        ('scaling',robust_scaler),\n",
        "        ('model',i)])\n",
        "    model_cv=cross_val_score(estimator,X_train,y_train,cv=skfold,scoring='roc_auc')\n",
        "    score.append(model_cv)\n",
        "    rata.append(model_cv.mean())\n",
        "    std.append(model_cv.std())\n",
        "    \n",
        "pd.DataFrame({'model':['Logistic Regression', 'KNN', 'Decision Tree', 'Random Forest', 'XGBoost', 'AdBoost'],'mean roc_auc':rata,'sdev':std}).set_index('model').sort_values(by='mean roc_auc',ascending=False)"
      ]
    },
    {
      "cell_type": "markdown",
      "source": [
        "Dapat dilihat bahwa model yang melakukan pekerjaan lebih baik adah XGBoost dan disusul oleh Random Forest serta Ada Boost. Semua model yang digunakan menggunakan default hyperparameter. Penilaian ROC AUC yang saya pakai disini adalah untuk melihat seberapa baik model berkerja melalui perhitungan area under the ROC curve. Angka yang didapatkan tidak mendekati 0.5. Dengan ini kita bisa melihat jauh dari kata random guessing."
      ],
      "metadata": {
        "id": "h_ZrK2lyPC0T"
      },
      "id": "h_ZrK2lyPC0T"
    },
    {
      "cell_type": "markdown",
      "source": [
        "### K-Fold dengan forloop untuk accuracy"
      ],
      "metadata": {
        "id": "dqEHRP1WLqV9"
      },
      "id": "dqEHRP1WLqV9"
    },
    {
      "cell_type": "code",
      "execution_count": null,
      "id": "3ca1b76c",
      "metadata": {
        "id": "3ca1b76c"
      },
      "outputs": [],
      "source": [
        "models = [logreg,knn,tree,rfc,xgb,ada]\n",
        "score=[]\n",
        "rata=[]\n",
        "std=[]\n",
        "\n",
        "for i in models:\n",
        "    skfold=StratifiedKFold(n_splits=5)\n",
        "    estimator=Pipeline([\n",
        "        ('preprocess',transformer),\n",
        "        ('scaling',robust_scaler),\n",
        "        ('model',i)])\n",
        "    model_cv=cross_val_score(estimator,X_train,y_train,cv=skfold,scoring='accuracy')\n",
        "    score.append(model_cv)\n",
        "    rata.append(model_cv.mean())\n",
        "    std.append(model_cv.std())\n",
        "    \n",
        "pd.DataFrame({'model':['Logistic Regression', 'KNN', 'Decision Tree', 'Random Forest', 'XGBoost', 'AdBoost'],'mean_acc':rata,'sdev':std}).set_index('model').sort_values(by='mean_acc',ascending=False)"
      ]
    },
    {
      "cell_type": "code",
      "source": [
        "Berdasarkan hasil tersebut tetap dalam pengukuan akurasi, XGBoost merupakan model terbaik, disusul oleh random forest. Meskipun begitu, XG Boost\n",
        "memiliki standar deviasi yang lebih tinggi. Random forest tetap mendapatkan nilai yang terbaik."
      ],
      "metadata": {
        "id": "vwSdf1slQ9Rb"
      },
      "id": "vwSdf1slQ9Rb",
      "execution_count": null,
      "outputs": []
    },
    {
      "cell_type": "markdown",
      "id": "4b00c77c",
      "metadata": {
        "id": "4b00c77c"
      },
      "source": [
        "## Benchmarking Model dengan Test Set"
      ]
    },
    {
      "cell_type": "markdown",
      "id": "e267e9e3",
      "metadata": {
        "id": "e267e9e3"
      },
      "source": [
        "### Komprehensif Test"
      ]
    },
    {
      "cell_type": "code",
      "execution_count": null,
      "id": "dab99d90",
      "metadata": {
        "id": "dab99d90"
      },
      "outputs": [],
      "source": [
        "rfc_pipeline = Pipeline([\n",
        "    ('preprocess', transformer_pure),\n",
        "    ('scaler', robust_scaler),\n",
        "    ('model',rfc)\n",
        "])"
      ]
    },
    {
      "cell_type": "code",
      "execution_count": null,
      "id": "8e7d8fb1",
      "metadata": {
        "id": "8e7d8fb1",
        "outputId": "95177b6b-b504-4a9e-d609-64b7b017fd38"
      },
      "outputs": [
        {
          "data": {
            "text/plain": [
              "Pipeline(steps=[('preprocess',\n",
              "                 ColumnTransformer(remainder='passthrough',\n",
              "                                   transformers=[('one hot encoder',\n",
              "                                                  OneHotEncoder(drop='first'),\n",
              "                                                  ['customer', 'deposit',\n",
              "                                                   'market']),\n",
              "                                                 ('binary encoder',\n",
              "                                                  Pipeline(steps=[('imputer',\n",
              "                                                                   SimpleImputer(fill_value='Other',\n",
              "                                                                                 strategy='constant')),\n",
              "                                                                  ('binary '\n",
              "                                                                   'encoder',\n",
              "                                                                   BinaryEncoder())]),\n",
              "                                                  ['country'])])),\n",
              "                ('scaler', RobustScaler()),\n",
              "                ('model', RandomForestClassifier(random_state=1945))])"
            ]
          },
          "execution_count": 274,
          "metadata": {},
          "output_type": "execute_result"
        }
      ],
      "source": [
        "##Random forest Test Set\n",
        "rfc_pipeline.fit(X_train_selected,y_train)"
      ]
    },
    {
      "cell_type": "code",
      "execution_count": null,
      "id": "206ff2a1",
      "metadata": {
        "id": "206ff2a1",
        "outputId": "07368cae-ebc7-4f08-e6ac-fd458c93e0dd"
      },
      "outputs": [
        {
          "name": "stdout",
          "output_type": "stream",
          "text": [
            "RANDOM FOREST TEST SET\n",
            "[[9161 1398]\n",
            " [2347 3809]]\n",
            "              precision    recall  f1-score   support\n",
            "\n",
            "           0       0.80      0.87      0.83     10559\n",
            "           1       0.73      0.62      0.67      6156\n",
            "\n",
            "    accuracy                           0.78     16715\n",
            "   macro avg       0.76      0.74      0.75     16715\n",
            "weighted avg       0.77      0.78      0.77     16715\n",
            "\n"
          ]
        },
        {
          "data": {
            "text/plain": [
              "0.7759497457373616"
            ]
          },
          "execution_count": 275,
          "metadata": {},
          "output_type": "execute_result"
        }
      ],
      "source": [
        "print('RANDOM FOREST TEST SET')\n",
        "y_pred=rfc_pipeline.predict(X_test_selected)\n",
        "conf =print(confusion_matrix(y_test, y_pred))\n",
        "clf =print(classification_report(y_test, y_pred))\n",
        "score=accuracy_score(y_test,y_pred)\n",
        "score"
      ]
    },
    {
      "cell_type": "markdown",
      "source": [
        "Setelah dilihat ternyata nilai dari fitur yang sudah direduksi tidak menambah performa model"
      ],
      "metadata": {
        "id": "Sqacax3vMwib"
      },
      "id": "Sqacax3vMwib"
    },
    {
      "cell_type": "code",
      "execution_count": null,
      "id": "47deb876",
      "metadata": {
        "id": "47deb876"
      },
      "outputs": [],
      "source": [
        "rfc_pipeline2 = Pipeline([\n",
        "    ('preprocess', transformer),\n",
        "    ('scaler', robust_scaler),\n",
        "    ('model',rfc)\n",
        "])"
      ]
    },
    {
      "cell_type": "code",
      "execution_count": null,
      "id": "2fcaade1",
      "metadata": {
        "id": "2fcaade1",
        "outputId": "a0be238e-058b-4c61-e61e-0267865759a8"
      },
      "outputs": [
        {
          "data": {
            "text/plain": [
              "Pipeline(steps=[('preprocess',\n",
              "                 ColumnTransformer(remainder='passthrough',\n",
              "                                   transformers=[('one hot encoder',\n",
              "                                                  OneHotEncoder(drop='first'),\n",
              "                                                  ['customer', 'deposit',\n",
              "                                                   'market']),\n",
              "                                                 ('binary encoder',\n",
              "                                                  Pipeline(steps=[('imputer',\n",
              "                                                                   SimpleImputer(fill_value='Other',\n",
              "                                                                                 strategy='constant')),\n",
              "                                                                  ('binary '\n",
              "                                                                   'encoder',\n",
              "                                                                   BinaryEncoder())]),\n",
              "                                                  ['country']),\n",
              "                                                 ('binary simple',\n",
              "                                                  BinaryEncoder(),\n",
              "                                                  ['room'])])),\n",
              "                ('scaler', RobustScaler()),\n",
              "                ('model', RandomForestClassifier(random_state=1945))])"
            ]
          },
          "execution_count": 301,
          "metadata": {},
          "output_type": "execute_result"
        }
      ],
      "source": [
        "##Random forest Test Set\n",
        "rfc_pipeline2.fit(X_train,y_train)"
      ]
    },
    {
      "cell_type": "code",
      "execution_count": null,
      "id": "a185bdbc",
      "metadata": {
        "id": "a185bdbc",
        "outputId": "9284f593-e8fb-4f72-b381-8a1fc54652b0"
      },
      "outputs": [
        {
          "name": "stdout",
          "output_type": "stream",
          "text": [
            "RANDOM FOREST TEST SET\n",
            "[[9312 1247]\n",
            " [1941 4215]]\n",
            "              precision    recall  f1-score   support\n",
            "\n",
            "           0       0.83      0.88      0.85     10559\n",
            "           1       0.77      0.68      0.73      6156\n",
            "\n",
            "    accuracy                           0.81     16715\n",
            "   macro avg       0.80      0.78      0.79     16715\n",
            "weighted avg       0.81      0.81      0.81     16715\n",
            "\n"
          ]
        },
        {
          "data": {
            "text/plain": [
              "0.8092731079868382"
            ]
          },
          "execution_count": 302,
          "metadata": {},
          "output_type": "execute_result"
        }
      ],
      "source": [
        "print('RANDOM FOREST TEST SET')\n",
        "y_pred=rfc_pipeline.predict(X_test)\n",
        "conf =print(confusion_matrix(y_test, y_pred))\n",
        "clf =print(classification_report(y_test, y_pred))\n",
        "score=accuracy_score(y_test,y_pred)\n",
        "score"
      ]
    },
    {
      "cell_type": "code",
      "execution_count": null,
      "id": "f77b572a",
      "metadata": {
        "id": "f77b572a"
      },
      "outputs": [],
      "source": [
        "ada_pipeline = Pipeline([\n",
        "    ('preprocess', transformer),\n",
        "    ('scaler', robust_scaler),\n",
        "    ('model',ada)\n",
        "])"
      ]
    },
    {
      "cell_type": "code",
      "execution_count": null,
      "id": "4a592f35",
      "metadata": {
        "id": "4a592f35",
        "outputId": "a63d978f-ed3a-4c55-cae4-5b1fdcecdea0"
      },
      "outputs": [
        {
          "data": {
            "text/plain": [
              "Pipeline(steps=[('preprocess',\n",
              "                 ColumnTransformer(remainder='passthrough',\n",
              "                                   transformers=[('one hot encoder',\n",
              "                                                  OneHotEncoder(drop='first'),\n",
              "                                                  ['customer', 'deposit',\n",
              "                                                   'market']),\n",
              "                                                 ('binary encoder',\n",
              "                                                  Pipeline(steps=[('imputer',\n",
              "                                                                   SimpleImputer(fill_value='Other',\n",
              "                                                                                 strategy='constant')),\n",
              "                                                                  ('binary '\n",
              "                                                                   'encoder',\n",
              "                                                                   BinaryEncoder())]),\n",
              "                                                  ['country']),\n",
              "                                                 ('binary simple',\n",
              "                                                  BinaryEncoder(),\n",
              "                                                  ['room'])])),\n",
              "                ('scaler', RobustScaler()),\n",
              "                ('model',\n",
              "                 AdaBoostClassifier(base_estimator=DecisionTreeClassifier(random_state=1945),\n",
              "                                    random_state=1945))])"
            ]
          },
          "execution_count": 305,
          "metadata": {},
          "output_type": "execute_result"
        }
      ],
      "source": [
        "ada_pipeline.fit(X_train,y_train)"
      ]
    },
    {
      "cell_type": "code",
      "execution_count": null,
      "id": "2ba45052",
      "metadata": {
        "id": "2ba45052",
        "outputId": "a560a044-afc9-4ef4-bf4f-7bd8ee4a443f"
      },
      "outputs": [
        {
          "name": "stdout",
          "output_type": "stream",
          "text": [
            "AdBoost Model\n",
            "[[9268 1291]\n",
            " [1930 4226]]\n",
            "              precision    recall  f1-score   support\n",
            "\n",
            "           0       0.83      0.88      0.85     10559\n",
            "           1       0.77      0.69      0.72      6156\n",
            "\n",
            "    accuracy                           0.81     16715\n",
            "   macro avg       0.80      0.78      0.79     16715\n",
            "weighted avg       0.80      0.81      0.80     16715\n",
            "\n"
          ]
        },
        {
          "data": {
            "text/plain": [
              "0.8072988333831888"
            ]
          },
          "execution_count": 306,
          "metadata": {},
          "output_type": "execute_result"
        }
      ],
      "source": [
        "print('AdBoost Model')\n",
        "y_pred=ada_pipeline.predict(X_test)\n",
        "conf =print(confusion_matrix(y_test, y_pred))\n",
        "clf =print(classification_report(y_test, y_pred))\n",
        "score=accuracy_score(y_test,y_pred)\n",
        "score"
      ]
    },
    {
      "cell_type": "code",
      "execution_count": null,
      "id": "f6e2a4a8",
      "metadata": {
        "id": "f6e2a4a8"
      },
      "outputs": [],
      "source": [
        "xgb_pipeline = Pipeline([\n",
        "    ('preprocess', transformer),\n",
        "    ('scaler', robust_scaler),\n",
        "    ('model',xgb)\n",
        "])"
      ]
    },
    {
      "cell_type": "code",
      "execution_count": null,
      "id": "cf225875",
      "metadata": {
        "id": "cf225875",
        "outputId": "1cceccee-fb65-4724-bac8-9e9e35b69d68"
      },
      "outputs": [
        {
          "name": "stderr",
          "output_type": "stream",
          "text": [
            "The use of label encoder in XGBClassifier is deprecated and will be removed in a future release. To remove this warning, do the following: 1) Pass option use_label_encoder=False when constructing XGBClassifier object; and 2) Encode your labels (y) as integers starting with 0, i.e. 0, 1, 2, ..., [num_class - 1].\n"
          ]
        },
        {
          "data": {
            "text/plain": [
              "Pipeline(steps=[('preprocess',\n",
              "                 ColumnTransformer(remainder='passthrough',\n",
              "                                   transformers=[('one hot encoder',\n",
              "                                                  OneHotEncoder(drop='first'),\n",
              "                                                  ['customer', 'deposit',\n",
              "                                                   'market']),\n",
              "                                                 ('binary encoder',\n",
              "                                                  Pipeline(steps=[('imputer',\n",
              "                                                                   SimpleImputer(fill_value='Other',\n",
              "                                                                                 strategy='constant')),\n",
              "                                                                  ('binary '\n",
              "                                                                   'encoder',\n",
              "                                                                   BinaryEncoder())]),\n",
              "                                                  ['country']),\n",
              "                                                 ('binary simple',\n",
              "                                                  BinaryEncoder(),\n",
              "                                                  ['ro...\n",
              "                               gamma=0, gpu_id=-1, importance_type=None,\n",
              "                               interaction_constraints='',\n",
              "                               learning_rate=0.300000012, max_delta_step=0,\n",
              "                               max_depth=6, min_child_weight=1, missing=nan,\n",
              "                               monotone_constraints='()', n_estimators=100,\n",
              "                               n_jobs=8, num_parallel_tree=1, predictor='auto',\n",
              "                               random_state=1945, reg_alpha=0, reg_lambda=1,\n",
              "                               scale_pos_weight=1, subsample=1,\n",
              "                               tree_method='exact', validate_parameters=1,\n",
              "                               verbosity=0))])"
            ]
          },
          "execution_count": 308,
          "metadata": {},
          "output_type": "execute_result"
        }
      ],
      "source": [
        "xgb_pipeline.fit(X_train,y_train)"
      ]
    },
    {
      "cell_type": "code",
      "execution_count": null,
      "id": "968f8835",
      "metadata": {
        "id": "968f8835",
        "outputId": "eb2546df-3949-49e8-9eb5-65595f0ccb58"
      },
      "outputs": [
        {
          "name": "stdout",
          "output_type": "stream",
          "text": [
            "XGB TEST SET\n",
            "[[9374 1185]\n",
            " [1932 4224]]\n",
            "              precision    recall  f1-score   support\n",
            "\n",
            "           0       0.83      0.89      0.86     10559\n",
            "           1       0.78      0.69      0.73      6156\n",
            "\n",
            "    accuracy                           0.81     16715\n",
            "   macro avg       0.81      0.79      0.79     16715\n",
            "weighted avg       0.81      0.81      0.81     16715\n",
            "\n"
          ]
        },
        {
          "data": {
            "text/plain": [
              "0.8135207897098414"
            ]
          },
          "execution_count": 309,
          "metadata": {},
          "output_type": "execute_result"
        }
      ],
      "source": [
        "print('XGB TEST SET')\n",
        "y_pred=xgb_pipeline.predict(X_test)\n",
        "conf =print(confusion_matrix(y_test, y_pred))\n",
        "clf =print(classification_report(y_test, y_pred))\n",
        "score=accuracy_score(y_test,y_pred)\n",
        "score"
      ]
    },
    {
      "cell_type": "markdown",
      "source": [
        "Berdasarkan hasil yang dilakukan dengan melibatkan test set, dua model yang terbaik adalah XGBoost dan Random Forest. Kedua model tersebut diambil atas pertimbangan skor akurasi, f1 dan recall. Keduanya adalah kandidat terbaik yang akan dipakai."
      ],
      "metadata": {
        "id": "ztlfBd9tRrVq"
      },
      "id": "ztlfBd9tRrVq"
    },
    {
      "cell_type": "markdown",
      "id": "29ffb8e3",
      "metadata": {
        "id": "29ffb8e3"
      },
      "source": [
        "### ROC Curve"
      ]
    },
    {
      "cell_type": "code",
      "execution_count": null,
      "id": "c32de893",
      "metadata": {
        "id": "c32de893",
        "outputId": "d76ec963-d4be-4075-a98f-3843e68c3d68"
      },
      "outputs": [
        {
          "name": "stderr",
          "output_type": "stream",
          "text": [
            "Function plot_roc_curve is deprecated; Function :func:`plot_roc_curve` is deprecated in 1.0 and will be removed in 1.2. Use one of the class methods: :meth:`sklearn.metric.RocCurveDisplay.from_predictions` or :meth:`sklearn.metric.RocCurveDisplay.from_estimator`.\n"
          ]
        },
        {
          "data": {
            "text/plain": [
              "<sklearn.metrics._plot.roc_curve.RocCurveDisplay at 0x7fc348c9e670>"
            ]
          },
          "execution_count": 310,
          "metadata": {},
          "output_type": "execute_result"
        },
        {
          "data": {
            "image/png": "[encoded data removed]",
            "text/plain": [
              "<Figure size 640x480 with 1 Axes>"
            ]
          },
          "metadata": {},
          "output_type": "display_data"
        }
      ],
      "source": [
        "plot_roc_curve(rfc_pipeline2, X_test, y_test)"
      ]
    },
    {
      "cell_type": "code",
      "execution_count": null,
      "id": "d573f1b6",
      "metadata": {
        "id": "d573f1b6",
        "outputId": "0a95e6ac-b2a9-4e7a-e867-fd79243ce225"
      },
      "outputs": [
        {
          "name": "stderr",
          "output_type": "stream",
          "text": [
            "Function plot_roc_curve is deprecated; Function :func:`plot_roc_curve` is deprecated in 1.0 and will be removed in 1.2. Use one of the class methods: :meth:`sklearn.metric.RocCurveDisplay.from_predictions` or :meth:`sklearn.metric.RocCurveDisplay.from_estimator`.\n"
          ]
        },
        {
          "data": {
            "text/plain": [
              "<sklearn.metrics._plot.roc_curve.RocCurveDisplay at 0x7fc3890b2bb0>"
            ]
          },
          "execution_count": 311,
          "metadata": {},
          "output_type": "execute_result"
        },
        {
          "data": {
            "image/png": "[encoded data removed]",
            "text/plain": [
              "<Figure size 640x480 with 1 Axes>"
            ]
          },
          "metadata": {},
          "output_type": "display_data"
        }
      ],
      "source": [
        "plot_roc_curve(xgb_pipeline, X_test, y_test)"
      ]
    },
    {
      "cell_type": "markdown",
      "source": [
        "Dapat dilihat berdasarkan kurva roc. Didapatkan nilai AUC 0.89. Ini jauh dari 0.5 yang mengindikasikan model baik dalam melakukan klasifikasi.(tidak random sehingga mendapatkan hasil 50:50)"
      ],
      "metadata": {
        "id": "Yy_3WVnRSQZ1"
      },
      "id": "Yy_3WVnRSQZ1"
    },
    {
      "cell_type": "markdown",
      "id": "8d9ec0d6",
      "metadata": {
        "id": "8d9ec0d6"
      },
      "source": [
        "# Imbalance Class handling"
      ]
    },
    {
      "cell_type": "markdown",
      "source": [
        "Seperti yang diketahui bahwa data yang kita miliki tidak seimbang dalam hal distribusi kejadian 0 dan 1 nya. Meskiput belum sampai tahap extreme imbalance, untuk model lebih dapat mendeteksi perbedaan peristiwa secara lebih baik lagi, perlu dilakukan penyerataan distribusi. Diantara cara dalam menghandle imbalance class, ada undersampling dan oversamping. Singkatnya dalam undersampling kita mereduksi data sedemikian rupa hingga proporsinya seimbang, sedangkan oversampling sebaliknya."
      ],
      "metadata": {
        "id": "lLcZpmimYnnz"
      },
      "id": "lLcZpmimYnnz"
    },
    {
      "cell_type": "markdown",
      "id": "76589d9d",
      "metadata": {
        "id": "76589d9d"
      },
      "source": [
        "## Undersampling"
      ]
    },
    {
      "cell_type": "code",
      "execution_count": null,
      "id": "702f8fe7",
      "metadata": {
        "id": "702f8fe7"
      },
      "outputs": [],
      "source": [
        "from imblearn.over_sampling import RandomOverSampler, SMOTE\n",
        "from imblearn.under_sampling import RandomUnderSampler, NearMiss"
      ]
    },
    {
      "cell_type": "code",
      "execution_count": null,
      "id": "b3325ac2",
      "metadata": {
        "id": "b3325ac2",
        "outputId": "acad788e-3a37-49f4-bf7e-24f508f09956"
      },
      "outputs": [
        {
          "data": {
            "text/plain": [
              "0    42236\n",
              "1    24622\n",
              "Name: cancel, dtype: int64"
            ]
          },
          "execution_count": 287,
          "metadata": {},
          "output_type": "execute_result"
        }
      ],
      "source": [
        "y_train.value_counts()"
      ]
    },
    {
      "cell_type": "code",
      "execution_count": null,
      "id": "7a55adac",
      "metadata": {
        "id": "7a55adac"
      },
      "outputs": [],
      "source": [
        "r_Us = RandomUnderSampler(random_state=1945)"
      ]
    },
    {
      "cell_type": "code",
      "execution_count": null,
      "id": "f5fc9939",
      "metadata": {
        "id": "f5fc9939",
        "outputId": "5a794d52-4fb4-4679-e1b8-34a084ef5275"
      },
      "outputs": [
        {
          "name": "stderr",
          "output_type": "stream",
          "text": [
            "The use of label encoder in XGBClassifier is deprecated and will be removed in a future release. To remove this warning, do the following: 1) Pass option use_label_encoder=False when constructing XGBClassifier object; and 2) Encode your labels (y) as integers starting with 0, i.e. 0, 1, 2, ..., [num_class - 1].\n",
            "The use of label encoder in XGBClassifier is deprecated and will be removed in a future release. To remove this warning, do the following: 1) Pass option use_label_encoder=False when constructing XGBClassifier object; and 2) Encode your labels (y) as integers starting with 0, i.e. 0, 1, 2, ..., [num_class - 1].\n",
            "The use of label encoder in XGBClassifier is deprecated and will be removed in a future release. To remove this warning, do the following: 1) Pass option use_label_encoder=False when constructing XGBClassifier object; and 2) Encode your labels (y) as integers starting with 0, i.e. 0, 1, 2, ..., [num_class - 1].\n",
            "The use of label encoder in XGBClassifier is deprecated and will be removed in a future release. To remove this warning, do the following: 1) Pass option use_label_encoder=False when constructing XGBClassifier object; and 2) Encode your labels (y) as integers starting with 0, i.e. 0, 1, 2, ..., [num_class - 1].\n",
            "The use of label encoder in XGBClassifier is deprecated and will be removed in a future release. To remove this warning, do the following: 1) Pass option use_label_encoder=False when constructing XGBClassifier object; and 2) Encode your labels (y) as integers starting with 0, i.e. 0, 1, 2, ..., [num_class - 1].\n"
          ]
        },
        {
          "name": "stdout",
          "output_type": "stream",
          "text": [
            "[0.74525589 0.7453322  0.74319394 0.74121703 0.73961692]\n",
            "0.7429231958021806\n"
          ]
        }
      ],
      "source": [
        "model = Pipeline([\n",
        "        ('transform', transformer),\n",
        "        ('scaling', robust_scaler),\n",
        "        ('balancing', r_Us),\n",
        "        ('model', xgb)\n",
        "    ])\n",
        "\n",
        "\n",
        "skf = StratifiedKFold(n_splits=5)\n",
        "\n",
        "# cross val\n",
        "model_cv = cross_val_score(\n",
        "    model, \n",
        "    X_train, \n",
        "    y_train, \n",
        "    scoring='f1',\n",
        "    cv=skf\n",
        "    )\n",
        "\n",
        "print(model_cv)\n",
        "print(model_cv.mean())"
      ]
    },
    {
      "cell_type": "code",
      "execution_count": null,
      "id": "8c729b47",
      "metadata": {
        "id": "8c729b47",
        "outputId": "fdbd33dd-f253-488c-e9f6-d2423bf5024e"
      },
      "outputs": [
        {
          "name": "stdout",
          "output_type": "stream",
          "text": [
            "[0.74232784 0.74091333 0.7386902  0.73651146 0.73401605]\n",
            "0.7384917760636011\n"
          ]
        }
      ],
      "source": [
        "model = Pipeline([\n",
        "        ('transform', transformer),\n",
        "        ('scaling', robust_scaler),\n",
        "        ('balancing', r_Us),\n",
        "        ('model', rfc)\n",
        "    ])\n",
        "\n",
        "\n",
        "skf = StratifiedKFold(n_splits=5)\n",
        "\n",
        "# cross val\n",
        "model_cv = cross_val_score(\n",
        "    model, \n",
        "    X_train, \n",
        "    y_train, \n",
        "    scoring='f1',\n",
        "    cv=skf\n",
        "    )\n",
        "\n",
        "print(model_cv)\n",
        "print(model_cv.mean())"
      ]
    },
    {
      "cell_type": "markdown",
      "id": "a0f9d4d1",
      "metadata": {
        "id": "a0f9d4d1"
      },
      "source": [
        "## Oversampling"
      ]
    },
    {
      "cell_type": "code",
      "execution_count": null,
      "id": "b14c7b97",
      "metadata": {
        "id": "b14c7b97"
      },
      "outputs": [],
      "source": [
        "smote = SMOTE(random_state=1945)"
      ]
    },
    {
      "cell_type": "code",
      "execution_count": null,
      "id": "82bc0cad",
      "metadata": {
        "id": "82bc0cad",
        "outputId": "440c9b0a-a946-4861-8287-d2bc403aea31"
      },
      "outputs": [
        {
          "name": "stderr",
          "output_type": "stream",
          "text": [
            "The use of label encoder in XGBClassifier is deprecated and will be removed in a future release. To remove this warning, do the following: 1) Pass option use_label_encoder=False when constructing XGBClassifier object; and 2) Encode your labels (y) as integers starting with 0, i.e. 0, 1, 2, ..., [num_class - 1].\n",
            "The use of label encoder in XGBClassifier is deprecated and will be removed in a future release. To remove this warning, do the following: 1) Pass option use_label_encoder=False when constructing XGBClassifier object; and 2) Encode your labels (y) as integers starting with 0, i.e. 0, 1, 2, ..., [num_class - 1].\n",
            "The use of label encoder in XGBClassifier is deprecated and will be removed in a future release. To remove this warning, do the following: 1) Pass option use_label_encoder=False when constructing XGBClassifier object; and 2) Encode your labels (y) as integers starting with 0, i.e. 0, 1, 2, ..., [num_class - 1].\n",
            "The use of label encoder in XGBClassifier is deprecated and will be removed in a future release. To remove this warning, do the following: 1) Pass option use_label_encoder=False when constructing XGBClassifier object; and 2) Encode your labels (y) as integers starting with 0, i.e. 0, 1, 2, ..., [num_class - 1].\n",
            "The use of label encoder in XGBClassifier is deprecated and will be removed in a future release. To remove this warning, do the following: 1) Pass option use_label_encoder=False when constructing XGBClassifier object; and 2) Encode your labels (y) as integers starting with 0, i.e. 0, 1, 2, ..., [num_class - 1].\n"
          ]
        },
        {
          "name": "stdout",
          "output_type": "stream",
          "text": [
            "[0.74678278 0.74040675 0.74411541 0.74291133 0.73894897]\n",
            "0.7426330485723585\n"
          ]
        }
      ],
      "source": [
        "model = Pipeline([\n",
        "        ('transform', transformer),\n",
        "        ('scaling', robust_scaler),\n",
        "        ('balancing', smote),\n",
        "        ('model', xgb)\n",
        "    ])\n",
        "\n",
        "\n",
        "skf = StratifiedKFold(n_splits=5)\n",
        "\n",
        "# cross val\n",
        "model_cv = cross_val_score(\n",
        "    model, \n",
        "    X_train, \n",
        "    y_train, \n",
        "    scoring='f1',\n",
        "    cv=skf\n",
        "    )\n",
        "\n",
        "print(model_cv)\n",
        "print(model_cv.mean())"
      ]
    },
    {
      "cell_type": "code",
      "execution_count": null,
      "id": "85d3a5fb",
      "metadata": {
        "id": "85d3a5fb",
        "outputId": "576f9b7a-27df-4423-ea80-a91df2939580"
      },
      "outputs": [
        {
          "name": "stdout",
          "output_type": "stream",
          "text": [
            "[0.74426075 0.7424686  0.74391829 0.73784787 0.73572302]\n",
            "0.7408437051440506\n"
          ]
        }
      ],
      "source": [
        "model = Pipeline([\n",
        "        ('transform', transformer),\n",
        "        ('scaling', robust_scaler),\n",
        "        ('balancing', smote),\n",
        "        ('model', rfc)\n",
        "    ])\n",
        "\n",
        "\n",
        "skf = StratifiedKFold(n_splits=5)\n",
        "\n",
        "# cross val\n",
        "model_cv = cross_val_score(\n",
        "    model, \n",
        "    X_train, \n",
        "    y_train, \n",
        "    scoring='f1',\n",
        "    cv=skf\n",
        "    )\n",
        "\n",
        "print(model_cv)\n",
        "print(model_cv.mean())"
      ]
    },
    {
      "cell_type": "markdown",
      "source": [
        "Kali ini saya menggunakan metric 'f1'. Kenapa menggunakan f1? karena f1 adalah rataan dari presisi dan recall dimana keduanya ditujukan untuk seimbang. Hal ini menurut saya penting karena pada tahap ini kita memanipulasi data dengan menambah/mengurangi data dati kondisi naturalnya. Seteleh melihat skor dari 'f1', ternyata perbedaan tidak terlalu mencolok. Namun kali ini, yang akan dipakai adalah Oversampling dengan metode SMOTE."
      ],
      "metadata": {
        "id": "w3E3Aj6LaGlv"
      },
      "id": "w3E3Aj6LaGlv"
    },
    {
      "cell_type": "markdown",
      "id": "48043e16",
      "metadata": {
        "id": "48043e16"
      },
      "source": [
        "# Hyperparameter tuning"
      ]
    },
    {
      "cell_type": "markdown",
      "source": [
        "Untuk mendaatkan kinerja yang paling optimal dari model yang dipilih, saya melakukan hyperparameter tuning. Tuning dilakukan dengan metode cross validasi dengan konsep yang relatif sama sperti sebelumnya namun perbedaanya adalah disini ditujukan untuk memilih hyperparameter."
      ],
      "metadata": {
        "id": "jgNJ0J8EcEPB"
      },
      "id": "jgNJ0J8EcEPB"
    },
    {
      "cell_type": "markdown",
      "id": "bcfc9aba",
      "metadata": {
        "id": "bcfc9aba"
      },
      "source": [
        "## Tuning + Imbalanced Handling"
      ]
    },
    {
      "cell_type": "markdown",
      "id": "2adc9231",
      "metadata": {
        "id": "2adc9231"
      },
      "source": [
        "### XGBoost tuning process"
      ]
    },
    {
      "cell_type": "markdown",
      "source": [
        "Xg boost adalah bagian dari ansemble model yang memainkan weight pada data poin yang klasifikasinya salah. lalu, ia akan lakukan hal tersebut secara iteratif(berulang kali) hingga suatu titik. Prediksi akhir yang diperoleh dengan cara menggabungkan hasil prediksi dari tree yang sudah beberapa kali dibuat. Tree yang dibuat bersifat sekuensial atau saling berhubungan.\n",
        "Hal yang diperlukan dalam optimalisasi xgboost adalah B number of iteration, L shrinkage/ learning rate dan hyper parameter dari tree yang dibuat.\n",
        "Kalau terlalu Besar, maka akan cenderung overfitting. B tergantung pada learning rate.\n",
        "learning rate itu mengatur seberapa besar perubahan bobot untuk setiap iterasi.\n",
        "Semakin besar learning rate, semakin besar perubahan bobot yang terjadi\n",
        "Nilai learning rate yang lebih kecil memerlukan nilai B yang leibh besar untuk mencapai performa yang optimal.\n",
        "jika learnin grate telalu kecil maka akan terlalu lama. kalau besar malah kurang optimal. Saya akan mencoba memilih kombinasi terbaik dengan menggunakan Randomized Search.\n",
        "\n",
        "\n",
        "note : Hyperparameter Basenya pake default."
      ],
      "metadata": {
        "id": "gTOMg_65dPNQ"
      },
      "id": "gTOMg_65dPNQ"
    },
    {
      "cell_type": "code",
      "execution_count": null,
      "id": "02f35b04",
      "metadata": {
        "id": "02f35b04"
      },
      "outputs": [],
      "source": [
        "skf = StratifiedKFold(n_splits = 5)\n",
        "\n",
        "# kedalaman pohon\n",
        "max_depth = list(np.arange(1,11))\n",
        "\n",
        "# learning rate\n",
        "learning_rate = list(np.arange(1,100)/100)\n",
        "\n",
        "# jumlah pohon\n",
        "n_estimators = list(np.arange(100,201))\n",
        "\n",
        "# jumlah baris tiap pohon (% dari total baris train set)\n",
        "subsample = list(np.arange(2,10)/10)\n",
        "\n",
        "# gamma (min_impurity_decrease)\n",
        "gamma = list(np.arange(1,11))\n",
        "\n",
        "# jumlah feature yang digunakan untuk tiap pohon (% dari total kolom train set)\n",
        "colsample_bytree = list(np.arange(1,10)/10)\n",
        "\n",
        "# alpha (regularization)\n",
        "reg_alpha = list(np.logspace(-3,1,10))\n",
        "\n",
        "\n",
        "# Hyperparam space XGboost\n",
        "hyperparam_space_xgbc = {\n",
        "    'model__max_depth':max_depth, \n",
        "    'model__learning_rate':learning_rate,\n",
        "    'model__n_estimators':n_estimators,\n",
        "    'model__subsample':subsample,\n",
        "    'model__gamma':gamma,\n",
        "    'model__colsample_bytree':colsample_bytree,\n",
        "    'model__reg_alpha': reg_alpha\n",
        "}"
      ]
    },
    {
      "cell_type": "code",
      "execution_count": null,
      "id": "ac17cd4b",
      "metadata": {
        "id": "ac17cd4b"
      },
      "outputs": [],
      "source": [
        "#Menggunakan teknik oversampling\n",
        "\n",
        "from sklearn.model_selection import RandomizedSearchCV\n",
        "\n",
        "# Benchmark model 2\n",
        "xgbc = XGBClassifier(random_state=1945, verbosity=0)\n",
        "\n",
        "# Create the algorithm chains\n",
        "estimator_xgbc = Pipeline([\n",
        "        ('tansformer', transformer),\n",
        "        ('scaling', robust_scaler),\n",
        "        ('balancing',smote),\n",
        "        ('model', xgbc)\n",
        "        ])\n",
        "\n",
        "# Hyperparameter tuning\n",
        "random_xgbc_smo = RandomizedSearchCV(\n",
        "    estimator_xgbc, \n",
        "    param_distributions = hyperparam_space_xgbc, \n",
        "    cv = skf, \n",
        "    scoring = 'recall', \n",
        "    n_jobs = -1,  \n",
        "    random_state=1945 #n_iter default = 10\n",
        ")"
      ]
    },
    {
      "cell_type": "code",
      "execution_count": null,
      "id": "33964753",
      "metadata": {
        "id": "33964753",
        "outputId": "b8966157-a8c8-42af-8897-f2140b4b7970"
      },
      "outputs": [
        {
          "name": "stderr",
          "output_type": "stream",
          "text": [
            "/Users/yudhapratama/opt/anaconda3/lib/python3.9/site-packages/xgboost/compat.py:36: FutureWarning: pandas.Int64Index is deprecated and will be removed from pandas in a future version. Use pandas.Index with the appropriate dtype instead.\n",
            "  from pandas import MultiIndex, Int64Index\n",
            "/Users/yudhapratama/opt/anaconda3/lib/python3.9/site-packages/xgboost/compat.py:36: FutureWarning: pandas.Int64Index is deprecated and will be removed from pandas in a future version. Use pandas.Index with the appropriate dtype instead.\n",
            "  from pandas import MultiIndex, Int64Index\n",
            "/Users/yudhapratama/opt/anaconda3/lib/python3.9/site-packages/xgboost/compat.py:36: FutureWarning: pandas.Int64Index is deprecated and will be removed from pandas in a future version. Use pandas.Index with the appropriate dtype instead.\n",
            "  from pandas import MultiIndex, Int64Index\n",
            "/Users/yudhapratama/opt/anaconda3/lib/python3.9/site-packages/xgboost/compat.py:36: FutureWarning: pandas.Int64Index is deprecated and will be removed from pandas in a future version. Use pandas.Index with the appropriate dtype instead.\n",
            "  from pandas import MultiIndex, Int64Index\n",
            "/Users/yudhapratama/opt/anaconda3/lib/python3.9/site-packages/xgboost/compat.py:36: FutureWarning: pandas.Int64Index is deprecated and will be removed from pandas in a future version. Use pandas.Index with the appropriate dtype instead.\n",
            "  from pandas import MultiIndex, Int64Index\n",
            "/Users/yudhapratama/opt/anaconda3/lib/python3.9/site-packages/xgboost/compat.py:36: FutureWarning: pandas.Int64Index is deprecated and will be removed from pandas in a future version. Use pandas.Index with the appropriate dtype instead.\n",
            "  from pandas import MultiIndex, Int64Index\n",
            "/Users/yudhapratama/opt/anaconda3/lib/python3.9/site-packages/xgboost/compat.py:36: FutureWarning: pandas.Int64Index is deprecated and will be removed from pandas in a future version. Use pandas.Index with the appropriate dtype instead.\n",
            "  from pandas import MultiIndex, Int64Index\n",
            "/Users/yudhapratama/opt/anaconda3/lib/python3.9/site-packages/xgboost/compat.py:36: FutureWarning: pandas.Int64Index is deprecated and will be removed from pandas in a future version. Use pandas.Index with the appropriate dtype instead.\n",
            "  from pandas import MultiIndex, Int64Index\n",
            "/Users/yudhapratama/opt/anaconda3/lib/python3.9/site-packages/xgboost/sklearn.py:1224: UserWarning: The use of label encoder in XGBClassifier is deprecated and will be removed in a future release. To remove this warning, do the following: 1) Pass option use_label_encoder=False when constructing XGBClassifier object; and 2) Encode your labels (y) as integers starting with 0, i.e. 0, 1, 2, ..., [num_class - 1].\n",
            "  warnings.warn(label_encoder_deprecation_msg, UserWarning)\n",
            "/Users/yudhapratama/opt/anaconda3/lib/python3.9/site-packages/xgboost/sklearn.py:1224: UserWarning: The use of label encoder in XGBClassifier is deprecated and will be removed in a future release. To remove this warning, do the following: 1) Pass option use_label_encoder=False when constructing XGBClassifier object; and 2) Encode your labels (y) as integers starting with 0, i.e. 0, 1, 2, ..., [num_class - 1].\n",
            "  warnings.warn(label_encoder_deprecation_msg, UserWarning)\n",
            "/Users/yudhapratama/opt/anaconda3/lib/python3.9/site-packages/xgboost/sklearn.py:1224: UserWarning: The use of label encoder in XGBClassifier is deprecated and will be removed in a future release. To remove this warning, do the following: 1) Pass option use_label_encoder=False when constructing XGBClassifier object; and 2) Encode your labels (y) as integers starting with 0, i.e. 0, 1, 2, ..., [num_class - 1].\n",
            "  warnings.warn(label_encoder_deprecation_msg, UserWarning)\n",
            "/Users/yudhapratama/opt/anaconda3/lib/python3.9/site-packages/xgboost/sklearn.py:1224: UserWarning: The use of label encoder in XGBClassifier is deprecated and will be removed in a future release. To remove this warning, do the following: 1) Pass option use_label_encoder=False when constructing XGBClassifier object; and 2) Encode your labels (y) as integers starting with 0, i.e. 0, 1, 2, ..., [num_class - 1].\n",
            "  warnings.warn(label_encoder_deprecation_msg, UserWarning)\n",
            "/Users/yudhapratama/opt/anaconda3/lib/python3.9/site-packages/xgboost/sklearn.py:1224: UserWarning: The use of label encoder in XGBClassifier is deprecated and will be removed in a future release. To remove this warning, do the following: 1) Pass option use_label_encoder=False when constructing XGBClassifier object; and 2) Encode your labels (y) as integers starting with 0, i.e. 0, 1, 2, ..., [num_class - 1].\n",
            "  warnings.warn(label_encoder_deprecation_msg, UserWarning)\n",
            "/Users/yudhapratama/opt/anaconda3/lib/python3.9/site-packages/xgboost/sklearn.py:1224: UserWarning: The use of label encoder in XGBClassifier is deprecated and will be removed in a future release. To remove this warning, do the following: 1) Pass option use_label_encoder=False when constructing XGBClassifier object; and 2) Encode your labels (y) as integers starting with 0, i.e. 0, 1, 2, ..., [num_class - 1].\n",
            "  warnings.warn(label_encoder_deprecation_msg, UserWarning)\n",
            "/Users/yudhapratama/opt/anaconda3/lib/python3.9/site-packages/xgboost/sklearn.py:1224: UserWarning: The use of label encoder in XGBClassifier is deprecated and will be removed in a future release. To remove this warning, do the following: 1) Pass option use_label_encoder=False when constructing XGBClassifier object; and 2) Encode your labels (y) as integers starting with 0, i.e. 0, 1, 2, ..., [num_class - 1].\n",
            "  warnings.warn(label_encoder_deprecation_msg, UserWarning)\n",
            "/Users/yudhapratama/opt/anaconda3/lib/python3.9/site-packages/xgboost/sklearn.py:1224: UserWarning: The use of label encoder in XGBClassifier is deprecated and will be removed in a future release. To remove this warning, do the following: 1) Pass option use_label_encoder=False when constructing XGBClassifier object; and 2) Encode your labels (y) as integers starting with 0, i.e. 0, 1, 2, ..., [num_class - 1].\n",
            "  warnings.warn(label_encoder_deprecation_msg, UserWarning)\n",
            "/Users/yudhapratama/opt/anaconda3/lib/python3.9/site-packages/xgboost/sklearn.py:1224: UserWarning: The use of label encoder in XGBClassifier is deprecated and will be removed in a future release. To remove this warning, do the following: 1) Pass option use_label_encoder=False when constructing XGBClassifier object; and 2) Encode your labels (y) as integers starting with 0, i.e. 0, 1, 2, ..., [num_class - 1].\n",
            "  warnings.warn(label_encoder_deprecation_msg, UserWarning)\n",
            "/Users/yudhapratama/opt/anaconda3/lib/python3.9/site-packages/xgboost/sklearn.py:1224: UserWarning: The use of label encoder in XGBClassifier is deprecated and will be removed in a future release. To remove this warning, do the following: 1) Pass option use_label_encoder=False when constructing XGBClassifier object; and 2) Encode your labels (y) as integers starting with 0, i.e. 0, 1, 2, ..., [num_class - 1].\n",
            "  warnings.warn(label_encoder_deprecation_msg, UserWarning)\n",
            "/Users/yudhapratama/opt/anaconda3/lib/python3.9/site-packages/xgboost/sklearn.py:1224: UserWarning: The use of label encoder in XGBClassifier is deprecated and will be removed in a future release. To remove this warning, do the following: 1) Pass option use_label_encoder=False when constructing XGBClassifier object; and 2) Encode your labels (y) as integers starting with 0, i.e. 0, 1, 2, ..., [num_class - 1].\n",
            "  warnings.warn(label_encoder_deprecation_msg, UserWarning)\n",
            "/Users/yudhapratama/opt/anaconda3/lib/python3.9/site-packages/xgboost/sklearn.py:1224: UserWarning: The use of label encoder in XGBClassifier is deprecated and will be removed in a future release. To remove this warning, do the following: 1) Pass option use_label_encoder=False when constructing XGBClassifier object; and 2) Encode your labels (y) as integers starting with 0, i.e. 0, 1, 2, ..., [num_class - 1].\n",
            "  warnings.warn(label_encoder_deprecation_msg, UserWarning)\n",
            "/Users/yudhapratama/opt/anaconda3/lib/python3.9/site-packages/xgboost/sklearn.py:1224: UserWarning: The use of label encoder in XGBClassifier is deprecated and will be removed in a future release. To remove this warning, do the following: 1) Pass option use_label_encoder=False when constructing XGBClassifier object; and 2) Encode your labels (y) as integers starting with 0, i.e. 0, 1, 2, ..., [num_class - 1].\n",
            "  warnings.warn(label_encoder_deprecation_msg, UserWarning)\n"
          ]
        },
        {
          "name": "stderr",
          "output_type": "stream",
          "text": [
            "/Users/yudhapratama/opt/anaconda3/lib/python3.9/site-packages/xgboost/sklearn.py:1224: UserWarning: The use of label encoder in XGBClassifier is deprecated and will be removed in a future release. To remove this warning, do the following: 1) Pass option use_label_encoder=False when constructing XGBClassifier object; and 2) Encode your labels (y) as integers starting with 0, i.e. 0, 1, 2, ..., [num_class - 1].\n",
            "  warnings.warn(label_encoder_deprecation_msg, UserWarning)\n",
            "/Users/yudhapratama/opt/anaconda3/lib/python3.9/site-packages/xgboost/sklearn.py:1224: UserWarning: The use of label encoder in XGBClassifier is deprecated and will be removed in a future release. To remove this warning, do the following: 1) Pass option use_label_encoder=False when constructing XGBClassifier object; and 2) Encode your labels (y) as integers starting with 0, i.e. 0, 1, 2, ..., [num_class - 1].\n",
            "  warnings.warn(label_encoder_deprecation_msg, UserWarning)\n",
            "/Users/yudhapratama/opt/anaconda3/lib/python3.9/site-packages/xgboost/sklearn.py:1224: UserWarning: The use of label encoder in XGBClassifier is deprecated and will be removed in a future release. To remove this warning, do the following: 1) Pass option use_label_encoder=False when constructing XGBClassifier object; and 2) Encode your labels (y) as integers starting with 0, i.e. 0, 1, 2, ..., [num_class - 1].\n",
            "  warnings.warn(label_encoder_deprecation_msg, UserWarning)\n",
            "/Users/yudhapratama/opt/anaconda3/lib/python3.9/site-packages/xgboost/sklearn.py:1224: UserWarning: The use of label encoder in XGBClassifier is deprecated and will be removed in a future release. To remove this warning, do the following: 1) Pass option use_label_encoder=False when constructing XGBClassifier object; and 2) Encode your labels (y) as integers starting with 0, i.e. 0, 1, 2, ..., [num_class - 1].\n",
            "  warnings.warn(label_encoder_deprecation_msg, UserWarning)\n",
            "/Users/yudhapratama/opt/anaconda3/lib/python3.9/site-packages/xgboost/sklearn.py:1224: UserWarning: The use of label encoder in XGBClassifier is deprecated and will be removed in a future release. To remove this warning, do the following: 1) Pass option use_label_encoder=False when constructing XGBClassifier object; and 2) Encode your labels (y) as integers starting with 0, i.e. 0, 1, 2, ..., [num_class - 1].\n",
            "  warnings.warn(label_encoder_deprecation_msg, UserWarning)\n",
            "/Users/yudhapratama/opt/anaconda3/lib/python3.9/site-packages/xgboost/sklearn.py:1224: UserWarning: The use of label encoder in XGBClassifier is deprecated and will be removed in a future release. To remove this warning, do the following: 1) Pass option use_label_encoder=False when constructing XGBClassifier object; and 2) Encode your labels (y) as integers starting with 0, i.e. 0, 1, 2, ..., [num_class - 1].\n",
            "  warnings.warn(label_encoder_deprecation_msg, UserWarning)\n",
            "/Users/yudhapratama/opt/anaconda3/lib/python3.9/site-packages/xgboost/sklearn.py:1224: UserWarning: The use of label encoder in XGBClassifier is deprecated and will be removed in a future release. To remove this warning, do the following: 1) Pass option use_label_encoder=False when constructing XGBClassifier object; and 2) Encode your labels (y) as integers starting with 0, i.e. 0, 1, 2, ..., [num_class - 1].\n",
            "  warnings.warn(label_encoder_deprecation_msg, UserWarning)\n",
            "/Users/yudhapratama/opt/anaconda3/lib/python3.9/site-packages/xgboost/sklearn.py:1224: UserWarning: The use of label encoder in XGBClassifier is deprecated and will be removed in a future release. To remove this warning, do the following: 1) Pass option use_label_encoder=False when constructing XGBClassifier object; and 2) Encode your labels (y) as integers starting with 0, i.e. 0, 1, 2, ..., [num_class - 1].\n",
            "  warnings.warn(label_encoder_deprecation_msg, UserWarning)\n",
            "/Users/yudhapratama/opt/anaconda3/lib/python3.9/site-packages/xgboost/sklearn.py:1224: UserWarning: The use of label encoder in XGBClassifier is deprecated and will be removed in a future release. To remove this warning, do the following: 1) Pass option use_label_encoder=False when constructing XGBClassifier object; and 2) Encode your labels (y) as integers starting with 0, i.e. 0, 1, 2, ..., [num_class - 1].\n",
            "  warnings.warn(label_encoder_deprecation_msg, UserWarning)\n",
            "/Users/yudhapratama/opt/anaconda3/lib/python3.9/site-packages/xgboost/sklearn.py:1224: UserWarning: The use of label encoder in XGBClassifier is deprecated and will be removed in a future release. To remove this warning, do the following: 1) Pass option use_label_encoder=False when constructing XGBClassifier object; and 2) Encode your labels (y) as integers starting with 0, i.e. 0, 1, 2, ..., [num_class - 1].\n",
            "  warnings.warn(label_encoder_deprecation_msg, UserWarning)\n",
            "/Users/yudhapratama/opt/anaconda3/lib/python3.9/site-packages/xgboost/sklearn.py:1224: UserWarning: The use of label encoder in XGBClassifier is deprecated and will be removed in a future release. To remove this warning, do the following: 1) Pass option use_label_encoder=False when constructing XGBClassifier object; and 2) Encode your labels (y) as integers starting with 0, i.e. 0, 1, 2, ..., [num_class - 1].\n",
            "  warnings.warn(label_encoder_deprecation_msg, UserWarning)\n",
            "/Users/yudhapratama/opt/anaconda3/lib/python3.9/site-packages/xgboost/sklearn.py:1224: UserWarning: The use of label encoder in XGBClassifier is deprecated and will be removed in a future release. To remove this warning, do the following: 1) Pass option use_label_encoder=False when constructing XGBClassifier object; and 2) Encode your labels (y) as integers starting with 0, i.e. 0, 1, 2, ..., [num_class - 1].\n",
            "  warnings.warn(label_encoder_deprecation_msg, UserWarning)\n",
            "/Users/yudhapratama/opt/anaconda3/lib/python3.9/site-packages/xgboost/sklearn.py:1224: UserWarning: The use of label encoder in XGBClassifier is deprecated and will be removed in a future release. To remove this warning, do the following: 1) Pass option use_label_encoder=False when constructing XGBClassifier object; and 2) Encode your labels (y) as integers starting with 0, i.e. 0, 1, 2, ..., [num_class - 1].\n",
            "  warnings.warn(label_encoder_deprecation_msg, UserWarning)\n",
            "/Users/yudhapratama/opt/anaconda3/lib/python3.9/site-packages/xgboost/sklearn.py:1224: UserWarning: The use of label encoder in XGBClassifier is deprecated and will be removed in a future release. To remove this warning, do the following: 1) Pass option use_label_encoder=False when constructing XGBClassifier object; and 2) Encode your labels (y) as integers starting with 0, i.e. 0, 1, 2, ..., [num_class - 1].\n",
            "  warnings.warn(label_encoder_deprecation_msg, UserWarning)\n",
            "/Users/yudhapratama/opt/anaconda3/lib/python3.9/site-packages/xgboost/sklearn.py:1224: UserWarning: The use of label encoder in XGBClassifier is deprecated and will be removed in a future release. To remove this warning, do the following: 1) Pass option use_label_encoder=False when constructing XGBClassifier object; and 2) Encode your labels (y) as integers starting with 0, i.e. 0, 1, 2, ..., [num_class - 1].\n",
            "  warnings.warn(label_encoder_deprecation_msg, UserWarning)\n",
            "/Users/yudhapratama/opt/anaconda3/lib/python3.9/site-packages/xgboost/sklearn.py:1224: UserWarning: The use of label encoder in XGBClassifier is deprecated and will be removed in a future release. To remove this warning, do the following: 1) Pass option use_label_encoder=False when constructing XGBClassifier object; and 2) Encode your labels (y) as integers starting with 0, i.e. 0, 1, 2, ..., [num_class - 1].\n",
            "  warnings.warn(label_encoder_deprecation_msg, UserWarning)\n",
            "/Users/yudhapratama/opt/anaconda3/lib/python3.9/site-packages/xgboost/sklearn.py:1224: UserWarning: The use of label encoder in XGBClassifier is deprecated and will be removed in a future release. To remove this warning, do the following: 1) Pass option use_label_encoder=False when constructing XGBClassifier object; and 2) Encode your labels (y) as integers starting with 0, i.e. 0, 1, 2, ..., [num_class - 1].\n",
            "  warnings.warn(label_encoder_deprecation_msg, UserWarning)\n",
            "/Users/yudhapratama/opt/anaconda3/lib/python3.9/site-packages/xgboost/sklearn.py:1224: UserWarning: The use of label encoder in XGBClassifier is deprecated and will be removed in a future release. To remove this warning, do the following: 1) Pass option use_label_encoder=False when constructing XGBClassifier object; and 2) Encode your labels (y) as integers starting with 0, i.e. 0, 1, 2, ..., [num_class - 1].\n",
            "  warnings.warn(label_encoder_deprecation_msg, UserWarning)\n",
            "/Users/yudhapratama/opt/anaconda3/lib/python3.9/site-packages/xgboost/sklearn.py:1224: UserWarning: The use of label encoder in XGBClassifier is deprecated and will be removed in a future release. To remove this warning, do the following: 1) Pass option use_label_encoder=False when constructing XGBClassifier object; and 2) Encode your labels (y) as integers starting with 0, i.e. 0, 1, 2, ..., [num_class - 1].\n",
            "  warnings.warn(label_encoder_deprecation_msg, UserWarning)\n"
          ]
        },
        {
          "name": "stderr",
          "output_type": "stream",
          "text": [
            "/Users/yudhapratama/opt/anaconda3/lib/python3.9/site-packages/xgboost/sklearn.py:1224: UserWarning: The use of label encoder in XGBClassifier is deprecated and will be removed in a future release. To remove this warning, do the following: 1) Pass option use_label_encoder=False when constructing XGBClassifier object; and 2) Encode your labels (y) as integers starting with 0, i.e. 0, 1, 2, ..., [num_class - 1].\n",
            "  warnings.warn(label_encoder_deprecation_msg, UserWarning)\n",
            "/Users/yudhapratama/opt/anaconda3/lib/python3.9/site-packages/xgboost/sklearn.py:1224: UserWarning: The use of label encoder in XGBClassifier is deprecated and will be removed in a future release. To remove this warning, do the following: 1) Pass option use_label_encoder=False when constructing XGBClassifier object; and 2) Encode your labels (y) as integers starting with 0, i.e. 0, 1, 2, ..., [num_class - 1].\n",
            "  warnings.warn(label_encoder_deprecation_msg, UserWarning)\n",
            "/Users/yudhapratama/opt/anaconda3/lib/python3.9/site-packages/xgboost/sklearn.py:1224: UserWarning: The use of label encoder in XGBClassifier is deprecated and will be removed in a future release. To remove this warning, do the following: 1) Pass option use_label_encoder=False when constructing XGBClassifier object; and 2) Encode your labels (y) as integers starting with 0, i.e. 0, 1, 2, ..., [num_class - 1].\n",
            "  warnings.warn(label_encoder_deprecation_msg, UserWarning)\n",
            "/Users/yudhapratama/opt/anaconda3/lib/python3.9/site-packages/xgboost/sklearn.py:1224: UserWarning: The use of label encoder in XGBClassifier is deprecated and will be removed in a future release. To remove this warning, do the following: 1) Pass option use_label_encoder=False when constructing XGBClassifier object; and 2) Encode your labels (y) as integers starting with 0, i.e. 0, 1, 2, ..., [num_class - 1].\n",
            "  warnings.warn(label_encoder_deprecation_msg, UserWarning)\n",
            "/Users/yudhapratama/opt/anaconda3/lib/python3.9/site-packages/xgboost/sklearn.py:1224: UserWarning: The use of label encoder in XGBClassifier is deprecated and will be removed in a future release. To remove this warning, do the following: 1) Pass option use_label_encoder=False when constructing XGBClassifier object; and 2) Encode your labels (y) as integers starting with 0, i.e. 0, 1, 2, ..., [num_class - 1].\n",
            "  warnings.warn(label_encoder_deprecation_msg, UserWarning)\n",
            "/Users/yudhapratama/opt/anaconda3/lib/python3.9/site-packages/xgboost/sklearn.py:1224: UserWarning: The use of label encoder in XGBClassifier is deprecated and will be removed in a future release. To remove this warning, do the following: 1) Pass option use_label_encoder=False when constructing XGBClassifier object; and 2) Encode your labels (y) as integers starting with 0, i.e. 0, 1, 2, ..., [num_class - 1].\n",
            "  warnings.warn(label_encoder_deprecation_msg, UserWarning)\n",
            "/Users/yudhapratama/opt/anaconda3/lib/python3.9/site-packages/xgboost/sklearn.py:1224: UserWarning: The use of label encoder in XGBClassifier is deprecated and will be removed in a future release. To remove this warning, do the following: 1) Pass option use_label_encoder=False when constructing XGBClassifier object; and 2) Encode your labels (y) as integers starting with 0, i.e. 0, 1, 2, ..., [num_class - 1].\n",
            "  warnings.warn(label_encoder_deprecation_msg, UserWarning)\n",
            "/Users/yudhapratama/opt/anaconda3/lib/python3.9/site-packages/xgboost/sklearn.py:1224: UserWarning: The use of label encoder in XGBClassifier is deprecated and will be removed in a future release. To remove this warning, do the following: 1) Pass option use_label_encoder=False when constructing XGBClassifier object; and 2) Encode your labels (y) as integers starting with 0, i.e. 0, 1, 2, ..., [num_class - 1].\n",
            "  warnings.warn(label_encoder_deprecation_msg, UserWarning)\n",
            "/Users/yudhapratama/opt/anaconda3/lib/python3.9/site-packages/xgboost/sklearn.py:1224: UserWarning: The use of label encoder in XGBClassifier is deprecated and will be removed in a future release. To remove this warning, do the following: 1) Pass option use_label_encoder=False when constructing XGBClassifier object; and 2) Encode your labels (y) as integers starting with 0, i.e. 0, 1, 2, ..., [num_class - 1].\n",
            "  warnings.warn(label_encoder_deprecation_msg, UserWarning)\n",
            "/Users/yudhapratama/opt/anaconda3/lib/python3.9/site-packages/xgboost/sklearn.py:1224: UserWarning: The use of label encoder in XGBClassifier is deprecated and will be removed in a future release. To remove this warning, do the following: 1) Pass option use_label_encoder=False when constructing XGBClassifier object; and 2) Encode your labels (y) as integers starting with 0, i.e. 0, 1, 2, ..., [num_class - 1].\n",
            "  warnings.warn(label_encoder_deprecation_msg, UserWarning)\n",
            "/Users/yudhapratama/opt/anaconda3/lib/python3.9/site-packages/xgboost/sklearn.py:1224: UserWarning: The use of label encoder in XGBClassifier is deprecated and will be removed in a future release. To remove this warning, do the following: 1) Pass option use_label_encoder=False when constructing XGBClassifier object; and 2) Encode your labels (y) as integers starting with 0, i.e. 0, 1, 2, ..., [num_class - 1].\n",
            "  warnings.warn(label_encoder_deprecation_msg, UserWarning)\n",
            "/Users/yudhapratama/opt/anaconda3/lib/python3.9/site-packages/xgboost/sklearn.py:1224: UserWarning: The use of label encoder in XGBClassifier is deprecated and will be removed in a future release. To remove this warning, do the following: 1) Pass option use_label_encoder=False when constructing XGBClassifier object; and 2) Encode your labels (y) as integers starting with 0, i.e. 0, 1, 2, ..., [num_class - 1].\n",
            "  warnings.warn(label_encoder_deprecation_msg, UserWarning)\n",
            "/Users/yudhapratama/opt/anaconda3/lib/python3.9/site-packages/xgboost/sklearn.py:1224: UserWarning: The use of label encoder in XGBClassifier is deprecated and will be removed in a future release. To remove this warning, do the following: 1) Pass option use_label_encoder=False when constructing XGBClassifier object; and 2) Encode your labels (y) as integers starting with 0, i.e. 0, 1, 2, ..., [num_class - 1].\n",
            "  warnings.warn(label_encoder_deprecation_msg, UserWarning)\n",
            "/Users/yudhapratama/opt/anaconda3/lib/python3.9/site-packages/xgboost/sklearn.py:1224: UserWarning: The use of label encoder in XGBClassifier is deprecated and will be removed in a future release. To remove this warning, do the following: 1) Pass option use_label_encoder=False when constructing XGBClassifier object; and 2) Encode your labels (y) as integers starting with 0, i.e. 0, 1, 2, ..., [num_class - 1].\n",
            "  warnings.warn(label_encoder_deprecation_msg, UserWarning)\n",
            "/Users/yudhapratama/opt/anaconda3/lib/python3.9/site-packages/xgboost/sklearn.py:1224: UserWarning: The use of label encoder in XGBClassifier is deprecated and will be removed in a future release. To remove this warning, do the following: 1) Pass option use_label_encoder=False when constructing XGBClassifier object; and 2) Encode your labels (y) as integers starting with 0, i.e. 0, 1, 2, ..., [num_class - 1].\n",
            "  warnings.warn(label_encoder_deprecation_msg, UserWarning)\n",
            "/Users/yudhapratama/opt/anaconda3/lib/python3.9/site-packages/xgboost/sklearn.py:1224: UserWarning: The use of label encoder in XGBClassifier is deprecated and will be removed in a future release. To remove this warning, do the following: 1) Pass option use_label_encoder=False when constructing XGBClassifier object; and 2) Encode your labels (y) as integers starting with 0, i.e. 0, 1, 2, ..., [num_class - 1].\n",
            "  warnings.warn(label_encoder_deprecation_msg, UserWarning)\n",
            "/Users/yudhapratama/opt/anaconda3/lib/python3.9/site-packages/xgboost/sklearn.py:1224: UserWarning: The use of label encoder in XGBClassifier is deprecated and will be removed in a future release. To remove this warning, do the following: 1) Pass option use_label_encoder=False when constructing XGBClassifier object; and 2) Encode your labels (y) as integers starting with 0, i.e. 0, 1, 2, ..., [num_class - 1].\n",
            "  warnings.warn(label_encoder_deprecation_msg, UserWarning)\n",
            "/Users/yudhapratama/opt/anaconda3/lib/python3.9/site-packages/xgboost/sklearn.py:1224: UserWarning: The use of label encoder in XGBClassifier is deprecated and will be removed in a future release. To remove this warning, do the following: 1) Pass option use_label_encoder=False when constructing XGBClassifier object; and 2) Encode your labels (y) as integers starting with 0, i.e. 0, 1, 2, ..., [num_class - 1].\n",
            "  warnings.warn(label_encoder_deprecation_msg, UserWarning)\n"
          ]
        },
        {
          "name": "stderr",
          "output_type": "stream",
          "text": [
            "The use of label encoder in XGBClassifier is deprecated and will be removed in a future release. To remove this warning, do the following: 1) Pass option use_label_encoder=False when constructing XGBClassifier object; and 2) Encode your labels (y) as integers starting with 0, i.e. 0, 1, 2, ..., [num_class - 1].\n"
          ]
        },
        {
          "data": {
            "text/plain": [
              "RandomizedSearchCV(cv=StratifiedKFold(n_splits=5, random_state=None, shuffle=False),\n",
              "                   estimator=Pipeline(steps=[('tansformer',\n",
              "                                              ColumnTransformer(remainder='passthrough',\n",
              "                                                                transformers=[('one '\n",
              "                                                                               'hot '\n",
              "                                                                               'encoder',\n",
              "                                                                               OneHotEncoder(drop='first'),\n",
              "                                                                               ['customer',\n",
              "                                                                                'deposit',\n",
              "                                                                                'market']),\n",
              "                                                                              ('binary '\n",
              "                                                                               'encoder',\n",
              "                                                                               Pipeline(steps=[('imputer',\n",
              "                                                                                                SimpleImputer(fill_value='Other',\n",
              "                                                                                                              strategy='c...\n",
              "                                                                112, 113, 114,\n",
              "                                                                115, 116, 117,\n",
              "                                                                118, 119, 120,\n",
              "                                                                121, 122, 123,\n",
              "                                                                124, 125, 126,\n",
              "                                                                127, 128, 129, ...],\n",
              "                                        'model__reg_alpha': [0.001,\n",
              "                                                             0.0027825594022071257,\n",
              "                                                             0.007742636826811269,\n",
              "                                                             0.021544346900318832,\n",
              "                                                             0.05994842503189409,\n",
              "                                                             0.1668100537200059,\n",
              "                                                             0.46415888336127775,\n",
              "                                                             1.2915496650148828,\n",
              "                                                             3.593813663804626,\n",
              "                                                             10.0],\n",
              "                                        'model__subsample': [0.2, 0.3, 0.4, 0.5,\n",
              "                                                             0.6, 0.7, 0.8,\n",
              "                                                             0.9]},\n",
              "                   random_state=1945, scoring='recall')"
            ]
          },
          "execution_count": 319,
          "metadata": {},
          "output_type": "execute_result"
        }
      ],
      "source": [
        "random_xgbc_smo.fit(X_train, y_train)"
      ]
    },
    {
      "cell_type": "code",
      "execution_count": null,
      "id": "888aaa4b",
      "metadata": {
        "id": "888aaa4b",
        "outputId": "e4b98c74-b439-43f4-cd23-1bf514b2377e"
      },
      "outputs": [
        {
          "name": "stdout",
          "output_type": "stream",
          "text": [
            "0.7944523498290771\n",
            "{'model__subsample': 0.4, 'model__reg_alpha': 0.021544346900318832, 'model__n_estimators': 150, 'model__max_depth': 10, 'model__learning_rate': 0.56, 'model__gamma': 3, 'model__colsample_bytree': 0.6}\n",
            "Pipeline(steps=[('tansformer',\n",
            "                 ColumnTransformer(remainder='passthrough',\n",
            "                                   transformers=[('one hot encoder',\n",
            "                                                  OneHotEncoder(drop='first'),\n",
            "                                                  ['customer', 'deposit',\n",
            "                                                   'market']),\n",
            "                                                 ('binary encoder',\n",
            "                                                  Pipeline(steps=[('imputer',\n",
            "                                                                   SimpleImputer(fill_value='Other',\n",
            "                                                                                 strategy='constant')),\n",
            "                                                                  ('binary '\n",
            "                                                                   'encoder',\n",
            "                                                                   BinaryEncoder())]),\n",
            "                                                  ['country']),\n",
            "                                                 ('binary simple',\n",
            "                                                  BinaryEncoder(),\n",
            "                                                  ['ro...\n",
            "                               gamma=3, gpu_id=-1, importance_type=None,\n",
            "                               interaction_constraints='', learning_rate=0.56,\n",
            "                               max_delta_step=0, max_depth=10,\n",
            "                               min_child_weight=1, missing=nan,\n",
            "                               monotone_constraints='()', n_estimators=150,\n",
            "                               n_jobs=8, num_parallel_tree=1, predictor='auto',\n",
            "                               random_state=1945,\n",
            "                               reg_alpha=0.021544346900318832, reg_lambda=1,\n",
            "                               scale_pos_weight=1, subsample=0.4,\n",
            "                               tree_method='exact', validate_parameters=1,\n",
            "                               verbosity=0))])\n"
          ]
        }
      ],
      "source": [
        "\n",
        "print(random_xgbc_smo.best_score_)\n",
        "\n",
        "print(random_xgbc_smo.best_params_)\n",
        "\n",
        "print(random_xgbc_smo.best_estimator_)"
      ]
    },
    {
      "cell_type": "code",
      "execution_count": null,
      "id": "463ff9d6",
      "metadata": {
        "id": "463ff9d6",
        "outputId": "9fffb309-b75a-4f29-e8d4-0d241044bc4d"
      },
      "outputs": [
        {
          "name": "stderr",
          "output_type": "stream",
          "text": [
            "The use of label encoder in XGBClassifier is deprecated and will be removed in a future release. To remove this warning, do the following: 1) Pass option use_label_encoder=False when constructing XGBClassifier object; and 2) Encode your labels (y) as integers starting with 0, i.e. 0, 1, 2, ..., [num_class - 1].\n"
          ]
        },
        {
          "data": {
            "text/plain": [
              "Pipeline(steps=[('tansformer',\n",
              "                 ColumnTransformer(remainder='passthrough',\n",
              "                                   transformers=[('one hot encoder',\n",
              "                                                  OneHotEncoder(drop='first'),\n",
              "                                                  ['customer', 'deposit',\n",
              "                                                   'market']),\n",
              "                                                 ('binary encoder',\n",
              "                                                  Pipeline(steps=[('imputer',\n",
              "                                                                   SimpleImputer(fill_value='Other',\n",
              "                                                                                 strategy='constant')),\n",
              "                                                                  ('binary '\n",
              "                                                                   'encoder',\n",
              "                                                                   BinaryEncoder())]),\n",
              "                                                  ['country']),\n",
              "                                                 ('binary simple',\n",
              "                                                  BinaryEncoder(),\n",
              "                                                  ['ro...\n",
              "                               gamma=3, gpu_id=-1, importance_type=None,\n",
              "                               interaction_constraints='', learning_rate=0.56,\n",
              "                               max_delta_step=0, max_depth=10,\n",
              "                               min_child_weight=1, missing=nan,\n",
              "                               monotone_constraints='()', n_estimators=150,\n",
              "                               n_jobs=8, num_parallel_tree=1, predictor='auto',\n",
              "                               random_state=1945,\n",
              "                               reg_alpha=0.021544346900318832, reg_lambda=1,\n",
              "                               scale_pos_weight=1, subsample=0.4,\n",
              "                               tree_method='exact', validate_parameters=1,\n",
              "                               verbosity=0))])"
            ]
          },
          "execution_count": 321,
          "metadata": {},
          "output_type": "execute_result"
        }
      ],
      "source": [
        "best_model_smo = random_xgbc_smo.best_estimator_\n",
        "\n",
        "best_model_smo.fit(X_train, y_train)"
      ]
    },
    {
      "cell_type": "code",
      "execution_count": null,
      "id": "d05c4196",
      "metadata": {
        "id": "d05c4196"
      },
      "outputs": [],
      "source": [
        "y_pred_best_smo = best_model_smo.predict(X_test)"
      ]
    },
    {
      "cell_type": "code",
      "execution_count": null,
      "id": "15b940ef",
      "metadata": {
        "id": "15b940ef"
      },
      "outputs": [],
      "source": [
        "#Coba liat skor pada test set\n",
        "\n",
        "recall_xgbctuned_smo = recall_score(y_test, y_pred_best_smo)\n",
        "acc_xgbctuned_smo = accuracy_score(y_test, y_pred_best_smo)"
      ]
    },
    {
      "cell_type": "code",
      "execution_count": null,
      "id": "4b8a5912",
      "metadata": {
        "id": "4b8a5912",
        "outputId": "667876f2-b740-4ac0-f28b-d86ce5e35cae"
      },
      "outputs": [
        {
          "data": {
            "text/html": [
              "<div>\n",
              "<style scoped>\n",
              "    .dataframe tbody tr th:only-of-type {\n",
              "        vertical-align: middle;\n",
              "    }\n",
              "\n",
              "    .dataframe tbody tr th {\n",
              "        vertical-align: top;\n",
              "    }\n",
              "\n",
              "    .dataframe thead th {\n",
              "        text-align: right;\n",
              "    }\n",
              "</style>\n",
              "<table border=\"1\" class=\"dataframe\">\n",
              "  <thead>\n",
              "    <tr style=\"text-align: right;\">\n",
              "      <th></th>\n",
              "      <th>A</th>\n",
              "      <th>listskor</th>\n",
              "    </tr>\n",
              "  </thead>\n",
              "  <tbody>\n",
              "    <tr>\n",
              "      <th>0</th>\n",
              "      <td>Acc smo</td>\n",
              "      <td>0.793658</td>\n",
              "    </tr>\n",
              "    <tr>\n",
              "      <th>1</th>\n",
              "      <td>recall smo</td>\n",
              "      <td>0.796784</td>\n",
              "    </tr>\n",
              "  </tbody>\n",
              "</table>\n",
              "</div>"
            ],
            "text/plain": [
              "            A  listskor\n",
              "0     Acc smo  0.793658\n",
              "1  recall smo  0.796784"
            ]
          },
          "execution_count": 324,
          "metadata": {},
          "output_type": "execute_result"
        }
      ],
      "source": [
        "listskor = [acc_xgbctuned_smo, recall_xgbctuned_smo]\n",
        "Naon = ['Acc smo', 'recall smo']\n",
        "\n",
        "scoreaftertuning_xgbc_smo = pd.DataFrame({'A': Naon, 'listskor': listskor})\n",
        "scoreaftertuning_xgbc_smo"
      ]
    },
    {
      "cell_type": "markdown",
      "source": [
        "Hyperparameter terbaik untuk XG_Boost kali ini dicari melalui Randomized Search. Dengan menerapkan hyperparameter hasil pencarian tersebut terlihat peningkatan nilai recall yang juga tajam yaitu menjadi 79."
      ],
      "metadata": {
        "id": "i_399GJUhmiY"
      },
      "id": "i_399GJUhmiY"
    },
    {
      "cell_type": "markdown",
      "id": "ab536f49",
      "metadata": {
        "id": "ab536f49"
      },
      "source": [
        "## Random forest tuning process"
      ]
    },
    {
      "cell_type": "markdown",
      "source": [
        "RF merupakan bagian ensemble method yang basisnya tree dengan modifikasi dari metode bagging(Bootstrap aggregating. Metode ini pada dasarnya cocok untuk imbalance classification karena metode bootstraping yang dilakukannya. Cara kerjanya adalah random forest melakukan splitting dengan memilih beberapa fitur secara acak dengan kriteria defaultnya gini, lalu diambil salah satu dari fitur tersebut selanjutnya digunakan sebagai splitter lalu hal yang sama dilakukan berulang kali. Karena basicnya adalah tree, untuk mengoptimalkan random forest, ada 3 yaitu berapa banyak tree, berapa banyak fitur yang diambil secara acak dan hyperparameter dari setiap pohon. \n",
        "\n",
        "Perbedaan dengan model sebelumnya adalah sebenarnya Random forest sama-sama menggunakan tree, tapi  yang ini, setiap pohon independen. sedangkan pada boosting, pohon saling berhubungan karena sifatnya yang sekuensial."
      ],
      "metadata": {
        "id": "lQszrG8FeH5R"
      },
      "id": "lQszrG8FeH5R"
    },
    {
      "cell_type": "markdown",
      "id": "42d1f17a",
      "metadata": {
        "id": "42d1f17a"
      },
      "source": [
        "### Random Forest Tuning process"
      ]
    },
    {
      "cell_type": "code",
      "execution_count": null,
      "id": "bbfd2fb3",
      "metadata": {
        "id": "bbfd2fb3"
      },
      "outputs": [],
      "source": [
        "# Random forest\n",
        "\n",
        "# Number of trees in random forest\n",
        "n_estimators = list(np.arange(100, 2000, 1))\n",
        "\n",
        "# Number of features to consider at every split\n",
        "max_features = list(np.arange(2, 9, 1))\n",
        "\n",
        "# Maximum number of levels in tree\n",
        "max_depth = list(np.arange(20, 101, 1))\n",
        "\n",
        "# Minimum number of samples required to split a node\n",
        "min_samples_split = list(np.arange(2, 21, 1))\n",
        "\n",
        "# Minimum number of samples required at each leaf node\n",
        "min_samples_leaf = list(np.arange(1, 21, 1))\n",
        "\n",
        "\n",
        "hyperparam_space_rfc = {\n",
        "    'model__n_estimators': n_estimators,\n",
        "    'model__max_features': max_features,\n",
        "    'model__max_depth': max_depth,\n",
        "    'model__min_samples_split': min_samples_split,\n",
        "    'model__min_samples_leaf': min_samples_leaf,\n",
        "}\n"
      ]
    },
    {
      "cell_type": "code",
      "execution_count": null,
      "id": "0b4bfb67",
      "metadata": {
        "id": "0b4bfb67"
      },
      "outputs": [],
      "source": [
        "# Random Forest + Smote\n",
        "estimator_rfc = Pipeline([\n",
        "        ('tansformer', transformer),\n",
        "        ('scaling', robust_scaler),\n",
        "        ('balancing',smote),\n",
        "        ('model', rfc)\n",
        "        ])\n",
        "\n",
        "# Hyperparameter tuning\n",
        "random_rfc_smo = RandomizedSearchCV(\n",
        "    estimator_rfc, \n",
        "    param_distributions = hyperparam_space_rfc, \n",
        "    cv = skf, \n",
        "    scoring = 'recall', \n",
        "    n_jobs = -1,  \n",
        "    random_state=1945, \n",
        "    n_iter = 25\n",
        ")"
      ]
    },
    {
      "cell_type": "code",
      "execution_count": null,
      "id": "ae0ced31",
      "metadata": {
        "id": "ae0ced31",
        "outputId": "fb230023-d74d-42c6-cd02-3066aae07ca0"
      },
      "outputs": [
        {
          "name": "stderr",
          "output_type": "stream",
          "text": [
            "A worker stopped while some jobs were given to the executor. This can be caused by a too short worker timeout or by a memory leak.\n"
          ]
        },
        {
          "data": {
            "text/plain": [
              "RandomizedSearchCV(cv=StratifiedKFold(n_splits=5, random_state=None, shuffle=False),\n",
              "                   estimator=Pipeline(steps=[('tansformer',\n",
              "                                              ColumnTransformer(remainder='passthrough',\n",
              "                                                                transformers=[('one '\n",
              "                                                                               'hot '\n",
              "                                                                               'encoder',\n",
              "                                                                               OneHotEncoder(drop='first'),\n",
              "                                                                               ['customer',\n",
              "                                                                                'deposit',\n",
              "                                                                                'market']),\n",
              "                                                                              ('binary '\n",
              "                                                                               'encoder',\n",
              "                                                                               Pipeline(steps=[('imputer',\n",
              "                                                                                                SimpleImputer(fill_value='Other',\n",
              "                                                                                                              strategy='c...\n",
              "                                        'model__max_features': [2, 3, 4, 5, 6,\n",
              "                                                                7, 8],\n",
              "                                        'model__min_samples_leaf': [1, 2, 3, 4,\n",
              "                                                                    5, 6, 7, 8,\n",
              "                                                                    9, 10, 11,\n",
              "                                                                    12, 13, 14,\n",
              "                                                                    15, 16, 17,\n",
              "                                                                    18, 19,\n",
              "                                                                    20],\n",
              "                                        'model__min_samples_split': [2, 3, 4, 5,\n",
              "                                                                     6, 7, 8, 9,\n",
              "                                                                     10, 11, 12,\n",
              "                                                                     13, 14, 15,\n",
              "                                                                     16, 17, 18,\n",
              "                                                                     19, 20],\n",
              "                                        'model__n_estimators': [100, 101, 102,\n",
              "                                                                103, 104, 105,\n",
              "                                                                106, 107, 108,\n",
              "                                                                109, 110, 111,\n",
              "                                                                112, 113, 114,\n",
              "                                                                115, 116, 117,\n",
              "                                                                118, 119, 120,\n",
              "                                                                121, 122, 123,\n",
              "                                                                124, 125, 126,\n",
              "                                                                127, 128, 129, ...]},\n",
              "                   random_state=1945, scoring='recall')"
            ]
          },
          "execution_count": 327,
          "metadata": {},
          "output_type": "execute_result"
        }
      ],
      "source": [
        "random_rfc_smo.fit(X_train, y_train)"
      ]
    },
    {
      "cell_type": "code",
      "execution_count": null,
      "id": "ff8af242",
      "metadata": {
        "id": "ff8af242",
        "outputId": "254d17a3-6024-41f8-be0c-354b5a40de6e"
      },
      "outputs": [
        {
          "data": {
            "text/plain": [
              "Pipeline(steps=[('tansformer',\n",
              "                 ColumnTransformer(remainder='passthrough',\n",
              "                                   transformers=[('one hot encoder',\n",
              "                                                  OneHotEncoder(drop='first'),\n",
              "                                                  ['customer', 'deposit',\n",
              "                                                   'market']),\n",
              "                                                 ('binary encoder',\n",
              "                                                  Pipeline(steps=[('imputer',\n",
              "                                                                   SimpleImputer(fill_value='Other',\n",
              "                                                                                 strategy='constant')),\n",
              "                                                                  ('binary '\n",
              "                                                                   'encoder',\n",
              "                                                                   BinaryEncoder())]),\n",
              "                                                  ['country']),\n",
              "                                                 ('binary simple',\n",
              "                                                  BinaryEncoder(),\n",
              "                                                  ['room'])])),\n",
              "                ('scaling', RobustScaler()),\n",
              "                ('balancing', SMOTE(random_state=1945)),\n",
              "                ('model',\n",
              "                 RandomForestClassifier(max_depth=58, max_features=5,\n",
              "                                        min_samples_split=10, n_estimators=876,\n",
              "                                        random_state=1945))])"
            ]
          },
          "execution_count": 328,
          "metadata": {},
          "output_type": "execute_result"
        }
      ],
      "source": [
        "best_model_rfc_smo = random_rfc_smo.best_estimator_\n",
        "\n",
        "best_model_rfc_smo.fit(X_train, y_train)"
      ]
    },
    {
      "cell_type": "code",
      "execution_count": null,
      "id": "00da3c16",
      "metadata": {
        "id": "00da3c16"
      },
      "outputs": [],
      "source": [
        "y_pred_best_rfc_smo = best_model_rfc_smo.predict(X_test)"
      ]
    },
    {
      "cell_type": "code",
      "execution_count": null,
      "id": "b4a16125",
      "metadata": {
        "id": "b4a16125"
      },
      "outputs": [],
      "source": [
        "#Coba liat skor pada test set\n",
        "\n",
        "recall_rfctuned_smo = recall_score(y_test, y_pred_best_rfc_smo)\n",
        "acc_rfctuned_smo = accuracy_score(y_test, y_pred_best_rfc_smo)"
      ]
    },
    {
      "cell_type": "code",
      "execution_count": null,
      "id": "4e6c58ca",
      "metadata": {
        "id": "4e6c58ca",
        "outputId": "2efece74-1a64-4804-906c-58866cf73873"
      },
      "outputs": [
        {
          "data": {
            "text/html": [
              "<div>\n",
              "<style scoped>\n",
              "    .dataframe tbody tr th:only-of-type {\n",
              "        vertical-align: middle;\n",
              "    }\n",
              "\n",
              "    .dataframe tbody tr th {\n",
              "        vertical-align: top;\n",
              "    }\n",
              "\n",
              "    .dataframe thead th {\n",
              "        text-align: right;\n",
              "    }\n",
              "</style>\n",
              "<table border=\"1\" class=\"dataframe\">\n",
              "  <thead>\n",
              "    <tr style=\"text-align: right;\">\n",
              "      <th></th>\n",
              "      <th>A</th>\n",
              "      <th>listskor</th>\n",
              "    </tr>\n",
              "  </thead>\n",
              "  <tbody>\n",
              "    <tr>\n",
              "      <th>0</th>\n",
              "      <td>Acc smo</td>\n",
              "      <td>0.797009</td>\n",
              "    </tr>\n",
              "    <tr>\n",
              "      <th>1</th>\n",
              "      <td>recall smo</td>\n",
              "      <td>0.796459</td>\n",
              "    </tr>\n",
              "  </tbody>\n",
              "</table>\n",
              "</div>"
            ],
            "text/plain": [
              "            A  listskor\n",
              "0     Acc smo  0.797009\n",
              "1  recall smo  0.796459"
            ]
          },
          "execution_count": 331,
          "metadata": {},
          "output_type": "execute_result"
        }
      ],
      "source": [
        "listskor = [acc_rfctuned_smo, recall_rfctuned_smo]\n",
        "Naon = ['Acc smo', 'recall smo']\n",
        "\n",
        "scoreaftertuning_rfc_smo = pd.DataFrame({'A': Naon, 'listskor': listskor})\n",
        "scoreaftertuning_rfc_smo"
      ]
    },
    {
      "cell_type": "code",
      "source": [
        "print(classification_report(y_test, y_pred_best_rfc_smo))"
      ],
      "metadata": {
        "id": "5NLksYaxFaOm"
      },
      "id": "5NLksYaxFaOm",
      "execution_count": null,
      "outputs": []
    },
    {
      "cell_type": "markdown",
      "source": [
        "Hyperparameter terbaik untuk Random Forest Classifier melalui Randomized Search adalah ; max_depth = 58, max_features = 5 dan min_sample_split = 10. Dengan menerapkan hyperparameter tersebut terlihat peningkatan nilai recall yang juga tajam yaitu menjadi 79."
      ],
      "metadata": {
        "id": "bKjT-672hCh9"
      },
      "id": "bKjT-672hCh9"
    },
    {
      "cell_type": "markdown",
      "source": [
        "Proses yang dilakukan pada kedua model sebenarnya tidak perlu dilakukan. Akan lebih baik untuk memilih model dari awal sebelum melakukan hyperparameter tuning untuk menyingkat waktu yang diperlukan. Saya mengerti bahwa efektifitas merupakan hal yang sangat diperlukan. Namun karena waktu yang diberikan mencukupi, saya ingin tahu seperti apa kedua model tersebut setelah dilakukan tuning. Bila dilihat hasilnya, kedua model sebenarnya memiliki performa yang tidak jauh berbeda. Saya akan memilih model random forest untuk disimpan sebagai final model."
      ],
      "metadata": {
        "id": "5eiWnJM9fPFK"
      },
      "id": "5eiWnJM9fPFK"
    },
    {
      "cell_type": "markdown",
      "id": "3b2de026",
      "metadata": {
        "id": "3b2de026"
      },
      "source": [
        "## Saving The Model"
      ]
    },
    {
      "cell_type": "code",
      "execution_count": null,
      "id": "d2b815a3",
      "metadata": {
        "id": "d2b815a3"
      },
      "outputs": [],
      "source": [
        "import pickle"
      ]
    },
    {
      "cell_type": "code",
      "execution_count": null,
      "id": "5a9bc7d4",
      "metadata": {
        "id": "5a9bc7d4",
        "outputId": "d00a0df0-2695-4713-aff9-a2fcbf1079b5"
      },
      "outputs": [
        {
          "data": {
            "text/plain": [
              "Pipeline(steps=[('tansformer',\n",
              "                 ColumnTransformer(remainder='passthrough',\n",
              "                                   transformers=[('one hot encoder',\n",
              "                                                  OneHotEncoder(drop='first'),\n",
              "                                                  ['customer', 'deposit',\n",
              "                                                   'market']),\n",
              "                                                 ('binary encoder',\n",
              "                                                  Pipeline(steps=[('imputer',\n",
              "                                                                   SimpleImputer(fill_value='Other',\n",
              "                                                                                 strategy='constant')),\n",
              "                                                                  ('binary '\n",
              "                                                                   'encoder',\n",
              "                                                                   BinaryEncoder())]),\n",
              "                                                  ['country']),\n",
              "                                                 ('binary simple',\n",
              "                                                  BinaryEncoder(),\n",
              "                                                  ['room'])])),\n",
              "                ('scaling', RobustScaler()),\n",
              "                ('balancing', SMOTE(random_state=1945)),\n",
              "                ('model',\n",
              "                 RandomForestClassifier(max_depth=58, max_features=5,\n",
              "                                        min_samples_split=10, n_estimators=876,\n",
              "                                        random_state=1945))])"
            ]
          },
          "execution_count": 333,
          "metadata": {},
          "output_type": "execute_result"
        }
      ],
      "source": [
        "random_rfc_smo.best_estimator_"
      ]
    },
    {
      "cell_type": "code",
      "execution_count": null,
      "id": "118a8a05",
      "metadata": {
        "id": "118a8a05"
      },
      "outputs": [],
      "source": [
        "#Menyimpan model\n",
        "filename = 'Model_rfc2.sav'\n",
        "pickle.dump(random_rfc_smo.best_estimator_, open(filename, 'wb'))"
      ]
    },
    {
      "cell_type": "code",
      "execution_count": null,
      "id": "69cd5330",
      "metadata": {
        "id": "69cd5330"
      },
      "outputs": [],
      "source": [
        "# ###load model\n",
        "# loaded_model = pickle.load(open(filename,'rb'))"
      ]
    },
    {
      "cell_type": "code",
      "execution_count": null,
      "id": "359eff95",
      "metadata": {
        "id": "359eff95",
        "outputId": "3a0bc290-6739-4ecc-9692-a72bccb67846"
      },
      "outputs": [
        {
          "data": {
            "text/plain": [
              "Pipeline(steps=[('tansformer',\n",
              "                 ColumnTransformer(remainder='passthrough',\n",
              "                                   transformers=[('one hot encoder',\n",
              "                                                  OneHotEncoder(drop='first'),\n",
              "                                                  ['customer', 'deposit',\n",
              "                                                   'market']),\n",
              "                                                 ('binary encoder',\n",
              "                                                  Pipeline(steps=[('imputer',\n",
              "                                                                   SimpleImputer(fill_value='Other',\n",
              "                                                                                 strategy='constant')),\n",
              "                                                                  ('binary '\n",
              "                                                                   'encoder',\n",
              "                                                                   BinaryEncoder())]),\n",
              "                                                  ['country']),\n",
              "                                                 ('binary simple',\n",
              "                                                  BinaryEncoder(),\n",
              "                                                  ['room'])])),\n",
              "                ('scaling', RobustScaler()),\n",
              "                ('balancing', SMOTE(random_state=1945)),\n",
              "                ('model',\n",
              "                 RandomForestClassifier(max_depth=58, max_features=5,\n",
              "                                        min_samples_split=10, n_estimators=876,\n",
              "                                        random_state=1945))])"
            ]
          },
          "execution_count": 336,
          "metadata": {},
          "output_type": "execute_result"
        }
      ],
      "source": [
        "# loaded_model"
      ]
    },
    {
      "cell_type": "code",
      "execution_count": null,
      "id": "301a2ba2",
      "metadata": {
        "id": "301a2ba2",
        "outputId": "9b92732e-e6c8-420e-e0e0-6cb1ac992351"
      },
      "outputs": [
        {
          "data": {
            "text/html": [
              "<div>\n",
              "<style scoped>\n",
              "    .dataframe tbody tr th:only-of-type {\n",
              "        vertical-align: middle;\n",
              "    }\n",
              "\n",
              "    .dataframe tbody tr th {\n",
              "        vertical-align: top;\n",
              "    }\n",
              "\n",
              "    .dataframe thead th {\n",
              "        text-align: right;\n",
              "    }\n",
              "</style>\n",
              "<table border=\"1\" class=\"dataframe\">\n",
              "  <thead>\n",
              "    <tr style=\"text-align: right;\">\n",
              "      <th></th>\n",
              "      <th>country</th>\n",
              "      <th>market</th>\n",
              "      <th>prevCanc</th>\n",
              "      <th>bookCh</th>\n",
              "      <th>deposit</th>\n",
              "      <th>waitingList</th>\n",
              "      <th>customer</th>\n",
              "      <th>room</th>\n",
              "      <th>parkingSpace</th>\n",
              "      <th>request</th>\n",
              "      <th>cancel</th>\n",
              "    </tr>\n",
              "  </thead>\n",
              "  <tbody>\n",
              "    <tr>\n",
              "      <th>0</th>\n",
              "      <td>IRL</td>\n",
              "      <td>Offline TA/TO</td>\n",
              "      <td>0</td>\n",
              "      <td>0</td>\n",
              "      <td>No Deposit</td>\n",
              "      <td>0</td>\n",
              "      <td>Transient-Party</td>\n",
              "      <td>A</td>\n",
              "      <td>0</td>\n",
              "      <td>0</td>\n",
              "      <td>0</td>\n",
              "    </tr>\n",
              "    <tr>\n",
              "      <th>1</th>\n",
              "      <td>FRA</td>\n",
              "      <td>Online TA</td>\n",
              "      <td>0</td>\n",
              "      <td>0</td>\n",
              "      <td>No Deposit</td>\n",
              "      <td>0</td>\n",
              "      <td>Transient</td>\n",
              "      <td>A</td>\n",
              "      <td>0</td>\n",
              "      <td>2</td>\n",
              "      <td>0</td>\n",
              "    </tr>\n",
              "    <tr>\n",
              "      <th>2</th>\n",
              "      <td>PRT</td>\n",
              "      <td>Online TA</td>\n",
              "      <td>0</td>\n",
              "      <td>1</td>\n",
              "      <td>No Deposit</td>\n",
              "      <td>0</td>\n",
              "      <td>Transient</td>\n",
              "      <td>A</td>\n",
              "      <td>0</td>\n",
              "      <td>2</td>\n",
              "      <td>0</td>\n",
              "    </tr>\n",
              "    <tr>\n",
              "      <th>3</th>\n",
              "      <td>NLD</td>\n",
              "      <td>Online TA</td>\n",
              "      <td>0</td>\n",
              "      <td>0</td>\n",
              "      <td>No Deposit</td>\n",
              "      <td>0</td>\n",
              "      <td>Transient</td>\n",
              "      <td>A</td>\n",
              "      <td>0</td>\n",
              "      <td>1</td>\n",
              "      <td>1</td>\n",
              "    </tr>\n",
              "    <tr>\n",
              "      <th>4</th>\n",
              "      <td>PRT</td>\n",
              "      <td>Online TA</td>\n",
              "      <td>0</td>\n",
              "      <td>2</td>\n",
              "      <td>No Deposit</td>\n",
              "      <td>0</td>\n",
              "      <td>Transient</td>\n",
              "      <td>A</td>\n",
              "      <td>0</td>\n",
              "      <td>2</td>\n",
              "      <td>0</td>\n",
              "    </tr>\n",
              "  </tbody>\n",
              "</table>\n",
              "</div>"
            ],
            "text/plain": [
              "  country         market  prevCanc  bookCh     deposit  waitingList  \\\n",
              "0     IRL  Offline TA/TO         0       0  No Deposit            0   \n",
              "1     FRA      Online TA         0       0  No Deposit            0   \n",
              "2     PRT      Online TA         0       1  No Deposit            0   \n",
              "3     NLD      Online TA         0       0  No Deposit            0   \n",
              "4     PRT      Online TA         0       2  No Deposit            0   \n",
              "\n",
              "          customer room  parkingSpace  request  cancel  \n",
              "0  Transient-Party    A             0        0       0  \n",
              "1        Transient    A             0        2       0  \n",
              "2        Transient    A             0        2       0  \n",
              "3        Transient    A             0        1       1  \n",
              "4        Transient    A             0        2       0  "
            ]
          },
          "execution_count": 337,
          "metadata": {},
          "output_type": "execute_result"
        }
      ],
      "source": [
        "# df.head()"
      ]
    },
    {
      "cell_type": "code",
      "execution_count": null,
      "id": "ba66a33d",
      "metadata": {
        "id": "ba66a33d",
        "outputId": "2a53c16c-525c-4d19-d5f2-2b2c022421f7"
      },
      "outputs": [
        {
          "data": {
            "text/html": [
              "<div>\n",
              "<style scoped>\n",
              "    .dataframe tbody tr th:only-of-type {\n",
              "        vertical-align: middle;\n",
              "    }\n",
              "\n",
              "    .dataframe tbody tr th {\n",
              "        vertical-align: top;\n",
              "    }\n",
              "\n",
              "    .dataframe thead th {\n",
              "        text-align: right;\n",
              "    }\n",
              "</style>\n",
              "<table border=\"1\" class=\"dataframe\">\n",
              "  <thead>\n",
              "    <tr style=\"text-align: right;\">\n",
              "      <th></th>\n",
              "      <th>country</th>\n",
              "      <th>market</th>\n",
              "      <th>prevCanc</th>\n",
              "      <th>bookCh</th>\n",
              "      <th>deposit</th>\n",
              "      <th>waitingList</th>\n",
              "      <th>customer</th>\n",
              "      <th>room</th>\n",
              "      <th>parkingSpace</th>\n",
              "      <th>request</th>\n",
              "    </tr>\n",
              "  </thead>\n",
              "  <tbody>\n",
              "    <tr>\n",
              "      <th>0</th>\n",
              "      <td>IRL</td>\n",
              "      <td>Offline TA/TO</td>\n",
              "      <td>0</td>\n",
              "      <td>0</td>\n",
              "      <td>No Deposit</td>\n",
              "      <td>0</td>\n",
              "      <td>Transient-Party</td>\n",
              "      <td>A</td>\n",
              "      <td>0</td>\n",
              "      <td>0</td>\n",
              "    </tr>\n",
              "    <tr>\n",
              "      <th>1</th>\n",
              "      <td>FRA</td>\n",
              "      <td>Online TA</td>\n",
              "      <td>0</td>\n",
              "      <td>0</td>\n",
              "      <td>No Deposit</td>\n",
              "      <td>0</td>\n",
              "      <td>Transient</td>\n",
              "      <td>A</td>\n",
              "      <td>0</td>\n",
              "      <td>2</td>\n",
              "    </tr>\n",
              "    <tr>\n",
              "      <th>2</th>\n",
              "      <td>PRT</td>\n",
              "      <td>Online TA</td>\n",
              "      <td>0</td>\n",
              "      <td>1</td>\n",
              "      <td>No Deposit</td>\n",
              "      <td>0</td>\n",
              "      <td>Transient</td>\n",
              "      <td>A</td>\n",
              "      <td>0</td>\n",
              "      <td>2</td>\n",
              "    </tr>\n",
              "    <tr>\n",
              "      <th>3</th>\n",
              "      <td>NLD</td>\n",
              "      <td>Online TA</td>\n",
              "      <td>0</td>\n",
              "      <td>0</td>\n",
              "      <td>No Deposit</td>\n",
              "      <td>0</td>\n",
              "      <td>Transient</td>\n",
              "      <td>A</td>\n",
              "      <td>0</td>\n",
              "      <td>1</td>\n",
              "    </tr>\n",
              "    <tr>\n",
              "      <th>4</th>\n",
              "      <td>PRT</td>\n",
              "      <td>Online TA</td>\n",
              "      <td>0</td>\n",
              "      <td>2</td>\n",
              "      <td>No Deposit</td>\n",
              "      <td>0</td>\n",
              "      <td>Transient</td>\n",
              "      <td>A</td>\n",
              "      <td>0</td>\n",
              "      <td>2</td>\n",
              "    </tr>\n",
              "    <tr>\n",
              "      <th>...</th>\n",
              "      <td>...</td>\n",
              "      <td>...</td>\n",
              "      <td>...</td>\n",
              "      <td>...</td>\n",
              "      <td>...</td>\n",
              "      <td>...</td>\n",
              "      <td>...</td>\n",
              "      <td>...</td>\n",
              "      <td>...</td>\n",
              "      <td>...</td>\n",
              "    </tr>\n",
              "    <tr>\n",
              "      <th>83568</th>\n",
              "      <td>PRT</td>\n",
              "      <td>Online TA</td>\n",
              "      <td>0</td>\n",
              "      <td>0</td>\n",
              "      <td>No Deposit</td>\n",
              "      <td>0</td>\n",
              "      <td>Contract</td>\n",
              "      <td>A</td>\n",
              "      <td>0</td>\n",
              "      <td>3</td>\n",
              "    </tr>\n",
              "    <tr>\n",
              "      <th>83569</th>\n",
              "      <td>FRA</td>\n",
              "      <td>Online TA</td>\n",
              "      <td>0</td>\n",
              "      <td>0</td>\n",
              "      <td>No Deposit</td>\n",
              "      <td>0</td>\n",
              "      <td>Transient</td>\n",
              "      <td>D</td>\n",
              "      <td>0</td>\n",
              "      <td>2</td>\n",
              "    </tr>\n",
              "    <tr>\n",
              "      <th>83570</th>\n",
              "      <td>PRT</td>\n",
              "      <td>Online TA</td>\n",
              "      <td>0</td>\n",
              "      <td>1</td>\n",
              "      <td>No Deposit</td>\n",
              "      <td>0</td>\n",
              "      <td>Transient</td>\n",
              "      <td>D</td>\n",
              "      <td>0</td>\n",
              "      <td>3</td>\n",
              "    </tr>\n",
              "    <tr>\n",
              "      <th>83571</th>\n",
              "      <td>CN</td>\n",
              "      <td>Offline TA/TO</td>\n",
              "      <td>0</td>\n",
              "      <td>0</td>\n",
              "      <td>No Deposit</td>\n",
              "      <td>0</td>\n",
              "      <td>Transient-Party</td>\n",
              "      <td>A</td>\n",
              "      <td>0</td>\n",
              "      <td>0</td>\n",
              "    </tr>\n",
              "    <tr>\n",
              "      <th>83572</th>\n",
              "      <td>PRT</td>\n",
              "      <td>Groups</td>\n",
              "      <td>0</td>\n",
              "      <td>0</td>\n",
              "      <td>Non Refund</td>\n",
              "      <td>0</td>\n",
              "      <td>Transient</td>\n",
              "      <td>A</td>\n",
              "      <td>0</td>\n",
              "      <td>0</td>\n",
              "    </tr>\n",
              "  </tbody>\n",
              "</table>\n",
              "<p>83573 rows × 10 columns</p>\n",
              "</div>"
            ],
            "text/plain": [
              "      country         market  prevCanc  bookCh     deposit  waitingList  \\\n",
              "0         IRL  Offline TA/TO         0       0  No Deposit            0   \n",
              "1         FRA      Online TA         0       0  No Deposit            0   \n",
              "2         PRT      Online TA         0       1  No Deposit            0   \n",
              "3         NLD      Online TA         0       0  No Deposit            0   \n",
              "4         PRT      Online TA         0       2  No Deposit            0   \n",
              "...       ...            ...       ...     ...         ...          ...   \n",
              "83568     PRT      Online TA         0       0  No Deposit            0   \n",
              "83569     FRA      Online TA         0       0  No Deposit            0   \n",
              "83570     PRT      Online TA         0       1  No Deposit            0   \n",
              "83571      CN  Offline TA/TO         0       0  No Deposit            0   \n",
              "83572     PRT         Groups         0       0  Non Refund            0   \n",
              "\n",
              "              customer room  parkingSpace  request  \n",
              "0      Transient-Party    A             0        0  \n",
              "1            Transient    A             0        2  \n",
              "2            Transient    A             0        2  \n",
              "3            Transient    A             0        1  \n",
              "4            Transient    A             0        2  \n",
              "...                ...  ...           ...      ...  \n",
              "83568         Contract    A             0        3  \n",
              "83569        Transient    D             0        2  \n",
              "83570        Transient    D             0        3  \n",
              "83571  Transient-Party    A             0        0  \n",
              "83572        Transient    A             0        0  \n",
              "\n",
              "[83573 rows x 10 columns]"
            ]
          },
          "execution_count": 338,
          "metadata": {},
          "output_type": "execute_result"
        }
      ],
      "source": [
        "# df_nolabel = df.copy()\n",
        "# df_nolabel.drop(columns= 'cancel', inplace = True)\n",
        "# df_nolabel"
      ]
    },
    {
      "cell_type": "code",
      "execution_count": null,
      "id": "21cb620a",
      "metadata": {
        "id": "21cb620a",
        "outputId": "09fa3fae-3e87-4013-c623-d16389caf5c1"
      },
      "outputs": [
        {
          "data": {
            "text/plain": [
              "array([0, 0, 1, ..., 0, 0, 1])"
            ]
          },
          "execution_count": 339,
          "metadata": {},
          "output_type": "execute_result"
        }
      ],
      "source": [
        "# loaded_model.predict(df_nolabel)"
      ]
    },
    {
      "cell_type": "code",
      "execution_count": null,
      "id": "bde8ae37",
      "metadata": {
        "id": "bde8ae37"
      },
      "outputs": [],
      "source": [
        "# df_predict = pd.DataFrame({\n",
        "#     'country' : ['IRL'],\n",
        "#     'market'  : ['Offline TA/TO'],\n",
        "#     'prevCanc': [0],\n",
        "#     'bookCh' : [0],\n",
        "#     'deposit' : ['No Deposit'],\n",
        "#     'waitingList' : [0],\n",
        "#     'customer' : ['Transient-Party'],\n",
        "#     'room' : ['A'],\n",
        "#     'parkingSpace' : [0],\n",
        "#     'request' : [0]\n",
        "# })"
      ]
    },
    {
      "cell_type": "code",
      "execution_count": null,
      "id": "6495e1ae",
      "metadata": {
        "id": "6495e1ae",
        "outputId": "52c52c52-0fea-419e-96de-a5b64ad06bea"
      },
      "outputs": [
        {
          "data": {
            "text/plain": [
              "array([0])"
            ]
          },
          "execution_count": 341,
          "metadata": {},
          "output_type": "execute_result"
        }
      ],
      "source": [
        "# loaded_model.predict(df_predict)"
      ]
    },
    {
      "cell_type": "markdown",
      "source": [
        "# Kesimpulan"
      ],
      "metadata": {
        "id": "2jujwT6RgSKE"
      },
      "id": "2jujwT6RgSKE"
    },
    {
      "cell_type": "markdown",
      "source": [
        "Berdasarkan nilai report yang dimiliki oleh Final Model, dapat disimpulkan bahwa dengan menggunakan model tersebut dalam memprediksi calon tamu dapat mengurangi hampir 80% pengunjung yang tidak jadi menginap. \n",
        "\n",
        "Setiap kali model ini memprediksi calon pengunjung yang tidak jadi menginap, ketepatan prediksinya sebesar 76%. Dengan hyperparameter tuning pada model, completeness dari prediksi bertambah 8% dari 68-78 persen.\n",
        "\n",
        "Jika diasumsikan revenue dari sebuah kamar adalah Rp.408.000,(menggunakan data Average Room Rate Bintang 3 di Jakarta tahun 2020)  [Sumber bisa klik disini](https://www.google.com/url?sa=t&rct=j&q=&esrc=s&source=web&cd=&ved=2ahUKEwigxe7tgbD7AhVhSGwGHevrBzkQFnoECDYQAQ&url=https%3A%2F%2Fcw-gbl-gws-prod.azureedge.net%2F-%2Fmedia%2Fcw%2Fmarketbeat-pdfs%2F2020%2Fq2%2Fapac-and-gc-q2-2020%2Findonesia--jakarta--hotel-q2-2020.pdf%3Frev%3Dafcbd779be3540fd9e468b24aec593a3&usg=AOvVaw1ESKiukcb7XP_xDifSXR7E) . Jumlah kamar yang tersedia adalah 100. Serta dengan skenario kamar yang kosong karena cancellation tidak terisi lagi. Maka,\n"
      ],
      "metadata": {
        "id": "QYH_Wn0cgUnn"
      },
      "id": "QYH_Wn0cgUnn"
    },
    {
      "cell_type": "markdown",
      "source": [
        "Tanpa Model = \n",
        "\n",
        "Expected Revenue : 200 X 408.000 = 81.600.000\n",
        "\n",
        "Total kamar terisi : 100 (Asumsikan peristiwa cancel 50%)\n",
        "\n",
        "\n",
        "Total kamar kosong : 100 \n",
        "\n",
        "Revenue loss : 40.800.000\n",
        "\n",
        "\n",
        "------------------------------------------------------------\n",
        "Dengan Model, fokus pada memprediksi kejadian cancel :\n",
        "\n",
        "Revenue loss yang diselamatkan : 80 X (408.000) = 32.640.000\n",
        "\n",
        "Revenue loss yang tidak diselamatkan :20 X (408.000) = 8.160.000\n",
        "\n",
        "Maka dari itu, melalui model kita dapat lebih melihat ekspektasi revenue secara lebih realistis dan menyelamatkan revenue loss akibat kamar kosong yang tidak ada pembayaran penuh. Meskipun begitu, masih ada kekurangan yaitu pada kesalahan prediksi tindakan.\n",
        "\n"
      ],
      "metadata": {
        "id": "hu7n8mxY8G1t"
      },
      "id": "hu7n8mxY8G1t"
    },
    {
      "cell_type": "markdown",
      "source": [
        "# Rekomendasi"
      ],
      "metadata": {
        "id": "YwJ3bZY-ngNP"
      },
      "id": "YwJ3bZY-ngNP"
    },
    {
      "cell_type": "markdown",
      "source": [
        "Beberapa rekomendasi yang dapat dilakukan oleh perusahaan dan penelitian selanjutnya dalam adalah :\n",
        "\n",
        "\n",
        "\n",
        "\n",
        "*   Tindakan preventif booking Cancellation\n",
        "\n",
        "1.   Cancellation Policy\n",
        "\n",
        "    Berdasarkan hasil analisa feature importance, hal yang paling signifikan yang mempengaruhi cancellation adalah deposit. Pengusaha hotel disarankan untuk mematangkan cancellation policy mereka. Libatkan juga Online Travel Agency untuk menyesuaikan dengan kebijakan mereka agar tercipta doable policy. Tidak dapat diragukan lagi bahwa deposit membuat calon tamu berfikir ulang dalam melakukan cancel.\n",
        "2.   Refocusing untuk segmen tertentu\n",
        "\n",
        "    Fokuskan effort marketing dan beri keuntungan bagi user yang jadi menginap atau melakukan pembayaran penuh. Selain itu, promo bisa dikategorikan sesuai dengan kemungkinan user tersebut cancel/tidak. Dengan begitu, perusahaan bisa memfokuskan pelayanannya bagi user yang potensial dan tidak merugi karena memberikan promo pada user yang salah.\n",
        "3. Send Reminders\n",
        "\n",
        "    Bila dimungkinkan, beri reminder pada calon tamu sebelum waktu check-in berlangsung. Selain mengingatkan, bisa diselingi dengan edukasi mengenai cancellation policy seperti pada poin 1.\n",
        "4. Dynamic Pricing\n",
        "\n",
        "    Dengan berbekal data yang ada, dynamic pricing bisa menjadi pilihan. Dimana harga yang ditawarkan kepada konsumen beragam dari user ke user berdasarkan ketersediaan kamar dan catatan historis pengguna. Sebagai contoh, kamar yang kosong karena booking cancellation ditawarkan dengan harga yang lebih murah.\n",
        "5. Humanis/Tidak Mekanistik\n",
        "\n",
        "    Calon tamu yang ada sekarang bisa jadi merupakan tamu di masa depan. Maka dari itu, meskipun menggunakan machine learning, akan lebih baik jika tetap dilakukan pendekatan yang empatik. Meningkatkan trust pada tamu agar dapat booking kembali dimasa depan merupakan sebuah keuntungan. \n",
        "\n",
        "\n",
        "*   Penelitian Selanjutnya\n",
        "\n",
        "\n",
        "1.   Menambahkan fitur yang dapat lebih menjelaskan konteks atas suatu kejadian tertentu. Contohnya, keterangan waktu atau alasan yang bersangkutan cancel (bila dimungkinkan). Dengan itu, diyakini insight yang didapatkan lebih baik lagi. Better insight, better you curate action/strategy. Bisa jadi kejadian booking didasari oleh unforeseen event yang terjadi pada waktu tertentu di tempat tertentu.\n",
        "2.   Memperdalam penyebab kesalahan prediksi yang terjadi agar memperbaiki performa model yang akan digunakan kedepan.\n",
        "3. Mencoba teknik preprocessing yang lebih advance, metode yang berbeda dalam mengangani imbalaced data dan model ML yang baru.\n",
        "\n",
        "\n",
        "\n",
        "\n",
        "\n",
        "\n"
      ],
      "metadata": {
        "id": "Z4ZvYW7AniQg"
      },
      "id": "Z4ZvYW7AniQg"
    },
    {
      "cell_type": "markdown",
      "source": [
        "# Referensi\n",
        "\n",
        "https://www.sciencedirect.com/science/article/pii/S2352340918315191\n",
        "\n",
        "https://www.redalyc.org/pdf/3887/388751309003.pdf\n",
        "\n",
        "https://www.iunera.com/kraken/interviews/what-you-need-to-know-about-hotel-booking-cancellations-big-data/\n",
        "\n",
        "https://scikit-learn.org/stable/modules/classes.html#module-sklearn.ensemble\n",
        "\n",
        "\n",
        "https://business.vic.gov.au/business-information/tourism-industry-resources/tourism-crisis-management-guide/plan/booking-cancellations#your-cancellation-policy\n",
        "\n",
        "https://www.belizebank.com/wp-content/uploads/2019/03/Prevent-and-Handle-No-Shows-A-guide-for-Hotel-Owners-and-Managers.pdf\n",
        "\n",
        "https://jtsiskom.undip.ac.id/index.php/jtsiskom/article/viewFile/13790/12654\n",
        "\n",
        "https://www.ezeeabsolute.com/blog/reduce-last-minute-no-shows-booking-cancellations/"
      ],
      "metadata": {
        "id": "llbhzFeFuKTF"
      },
      "id": "llbhzFeFuKTF"
    }
  ],
  "metadata": {
    "kernelspec": {
      "display_name": "Python 3 (ipykernel)",
      "language": "python",
      "name": "python3"
    },
    "language_info": {
      "codemirror_mode": {
        "name": "ipython",
        "version": 3
      },
      "file_extension": ".py",
      "mimetype": "text/x-python",
      "name": "python",
      "nbconvert_exporter": "python",
      "pygments_lexer": "ipython3",
      "version": "3.9.7"
    },
    "colab": {
      "provenance": [],
      "toc_visible": true,
      "collapsed_sections": [
        "5ff4feff",
        "db4d4bad",
        "f835a0a8",
        "799b971d",
        "e207cba8",
        "3c95d65c",
        "3fbb01d7",
        "b3c50429"
      ]
    }
  },
  "nbformat": 4,
  "nbformat_minor": 5
}